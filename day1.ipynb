{
 "cells": [
  {
   "cell_type": "markdown",
   "id": "8017f5cc",
   "metadata": {},
   "source": [
    "'''\n",
    "Python is a high-level, dynamic, procedural, object oriented programming language\n",
    "'''"
   ]
  },
  {
   "cell_type": "markdown",
   "id": "efa06604",
   "metadata": {},
   "source": [
    "# Difference b/w ' | \" | ''' , \"\"\""
   ]
  },
  {
   "cell_type": "code",
   "execution_count": 1,
   "id": "444f9713",
   "metadata": {},
   "outputs": [
    {
     "data": {
      "text/plain": [
       "30"
      ]
     },
     "execution_count": 1,
     "metadata": {},
     "output_type": "execute_result"
    }
   ],
   "source": [
    "x=10\n",
    "y=20\n",
    "x+y"
   ]
  },
  {
   "cell_type": "code",
   "execution_count": 2,
   "id": "d5d52188",
   "metadata": {},
   "outputs": [
    {
     "data": {
      "text/plain": [
       "30"
      ]
     },
     "execution_count": 2,
     "metadata": {},
     "output_type": "execute_result"
    }
   ],
   "source": [
    "x=10\n",
    "y=20    # Shift + Enter\n",
    "x+y"
   ]
  },
  {
   "cell_type": "code",
   "execution_count": 3,
   "id": "9c3354e6",
   "metadata": {},
   "outputs": [
    {
     "data": {
      "text/plain": [
       "30"
      ]
     },
     "execution_count": 3,
     "metadata": {},
     "output_type": "execute_result"
    }
   ],
   "source": [
    "x=10\n",
    "y=20    #Ctrl+Enter\n",
    "x+y"
   ]
  },
  {
   "cell_type": "code",
   "execution_count": 4,
   "id": "e1e02028",
   "metadata": {},
   "outputs": [],
   "source": [
    "name=\"Raghul Ramesh\""
   ]
  },
  {
   "cell_type": "code",
   "execution_count": 5,
   "id": "c1a793c0",
   "metadata": {},
   "outputs": [
    {
     "data": {
      "text/plain": [
       "'Raghul Ramesh'"
      ]
     },
     "execution_count": 5,
     "metadata": {},
     "output_type": "execute_result"
    }
   ],
   "source": [
    "name"
   ]
  },
  {
   "cell_type": "code",
   "execution_count": 6,
   "id": "e2415c6b",
   "metadata": {},
   "outputs": [],
   "source": [
    "name='Raghul Ramesh'"
   ]
  },
  {
   "cell_type": "code",
   "execution_count": 7,
   "id": "0220fbe5",
   "metadata": {},
   "outputs": [
    {
     "data": {
      "text/plain": [
       "'Raghul Ramesh'"
      ]
     },
     "execution_count": 7,
     "metadata": {},
     "output_type": "execute_result"
    }
   ],
   "source": [
    "name"
   ]
  },
  {
   "cell_type": "code",
   "execution_count": 9,
   "id": "460d63b3",
   "metadata": {},
   "outputs": [],
   "source": [
    "college=\"St's joseph Engg college\""
   ]
  },
  {
   "cell_type": "code",
   "execution_count": 10,
   "id": "031eec5d",
   "metadata": {},
   "outputs": [
    {
     "name": "stdout",
     "output_type": "stream",
     "text": [
      "St's joseph Engg college\n"
     ]
    }
   ],
   "source": [
    "print(college)"
   ]
  },
  {
   "cell_type": "code",
   "execution_count": 12,
   "id": "894305ad",
   "metadata": {},
   "outputs": [],
   "source": [
    "weekend_plan= 'Booked for \"Beast\" Movie for this weekend'"
   ]
  },
  {
   "cell_type": "code",
   "execution_count": 13,
   "id": "e8aa3e41",
   "metadata": {},
   "outputs": [
    {
     "name": "stdout",
     "output_type": "stream",
     "text": [
      "Booked for \"Beast\" Movie for this weekend\n"
     ]
    }
   ],
   "source": [
    "print(weekend_plan)"
   ]
  },
  {
   "cell_type": "code",
   "execution_count": 14,
   "id": "12554449",
   "metadata": {},
   "outputs": [],
   "source": [
    "college=\"St's joseph Engg college at \\\"CHENNAI\\\"\""
   ]
  },
  {
   "cell_type": "code",
   "execution_count": 15,
   "id": "91bb440e",
   "metadata": {},
   "outputs": [
    {
     "name": "stdout",
     "output_type": "stream",
     "text": [
      "St's joseph Engg college at \"CHENNAI\"\n"
     ]
    }
   ],
   "source": [
    "print(college)"
   ]
  },
  {
   "cell_type": "code",
   "execution_count": 20,
   "id": "dcdd9046",
   "metadata": {},
   "outputs": [],
   "source": [
    "about_python=\"\"\"Python was developed by GUIDO VAN ROSSUM.\n",
    "HE IS FROM NETHERLAND.\n",
    "It was released on early 1990\n",
    "Made as open source from day 1\"\"\""
   ]
  },
  {
   "cell_type": "code",
   "execution_count": 21,
   "id": "77575985",
   "metadata": {},
   "outputs": [
    {
     "name": "stdout",
     "output_type": "stream",
     "text": [
      "Python was developed by GUIDO VAN ROSSUM.\n",
      "HE IS FROM NETHERLAND.\n",
      "It was released on early 1990\n",
      "Made as open source from day 1\n"
     ]
    }
   ],
   "source": [
    "print(about_python)"
   ]
  },
  {
   "cell_type": "code",
   "execution_count": 22,
   "id": "d8ff63a6",
   "metadata": {},
   "outputs": [],
   "source": [
    "#Python is a open source technology\n",
    "# Easy to learn\n",
    "# Easy to understand"
   ]
  },
  {
   "cell_type": "code",
   "execution_count": null,
   "id": "daeea7b0",
   "metadata": {},
   "outputs": [],
   "source": [
    "'''\n",
    "line1\n",
    "line2\n",
    "Python\n",
    "Java\n",
    "BigData\n",
    "'''"
   ]
  },
  {
   "cell_type": "markdown",
   "id": "02274a20",
   "metadata": {},
   "source": [
    "# CONTROL STATEMENT"
   ]
  },
  {
   "cell_type": "code",
   "execution_count": 23,
   "id": "9b5dc7c1",
   "metadata": {},
   "outputs": [
    {
     "data": {
      "text/plain": [
       "'\\nSyntax:\\n\\nif condition:\\n    True statements\\nelif condition2\\n    Statements\\nelif condition3\\n    statement\\nelse:\\n    False \\n    \\n'"
      ]
     },
     "execution_count": 23,
     "metadata": {},
     "output_type": "execute_result"
    }
   ],
   "source": [
    "'''\n",
    "Syntax:\n",
    "\n",
    "if condition:\n",
    "    True statements\n",
    "elif condition2\n",
    "    Statements\n",
    "elif condition3\n",
    "    statement\n",
    "else:\n",
    "    False \n",
    "    \n",
    "'''"
   ]
  },
  {
   "cell_type": "code",
   "execution_count": 53,
   "id": "26f37f96",
   "metadata": {},
   "outputs": [
    {
     "ename": "IndentationError",
     "evalue": "unindent does not match any outer indentation level (<tokenize>, line 8)",
     "output_type": "error",
     "traceback": [
      "\u001b[1;36m  File \u001b[1;32m<tokenize>:8\u001b[1;36m\u001b[0m\n\u001b[1;33m    print(\"I'm not part of if else statement\")\u001b[0m\n\u001b[1;37m    ^\u001b[0m\n\u001b[1;31mIndentationError\u001b[0m\u001b[1;31m:\u001b[0m unindent does not match any outer indentation level\n"
     ]
    }
   ],
   "source": [
    "x=10\n",
    "\n",
    "if x==10:\n",
    "    print('x is 10')\n",
    "else:\n",
    "    print('value of x has been changed to :',x)\n",
    "    print(\"Thanks\")\n",
    "print(\"I'm not part of if else statement\")"
   ]
  },
  {
   "cell_type": "code",
   "execution_count": 71,
   "id": "4678a6ed",
   "metadata": {},
   "outputs": [
    {
     "name": "stdout",
     "output_type": "stream",
     "text": [
      "Enter your age:37\n",
      "Variable type is :  <class 'int'>\n",
      "New age is :  47\n"
     ]
    }
   ],
   "source": [
    "age=int(input(\"Enter your age:\"))\n",
    "print(\"Variable type is : \", type(age))\n",
    "age=age+10\n",
    "print(\"New age is : \", age)"
   ]
  },
  {
   "cell_type": "code",
   "execution_count": 46,
   "id": "e804197e",
   "metadata": {},
   "outputs": [
    {
     "name": "stdout",
     "output_type": "stream",
     "text": [
      "Enter your age:17\n",
      " School Student\n"
     ]
    }
   ],
   "source": [
    "age=int(input(\"Enter your age:\"))\n",
    "\n",
    "if age < 18:\n",
    "    print(\" School Student\")\n",
    "elif age < 25:\n",
    "    print(\" Either college student or working\")\n",
    "elif age >= 25 and age < 60:\n",
    "    print(\"Working\")\n",
    "else:\n",
    "    print(\"Retried\")"
   ]
  },
  {
   "cell_type": "code",
   "execution_count": 49,
   "id": "4776a30a",
   "metadata": {},
   "outputs": [
    {
     "name": "stdout",
     "output_type": "stream",
     "text": [
      "Enter your country name:USA\n",
      "Enter your age:50\n",
      "Please follow your country: USA standard\n"
     ]
    }
   ],
   "source": [
    "country=input(\"Enter your country name:\")\n",
    "age=int(input(\"Enter your age:\"))\n",
    "\n",
    "if country == \"India\":\n",
    "    if age>18:\n",
    "        print(\"YOu can vote\")\n",
    "    else:\n",
    "        print(\"You can't vote\")\n",
    "else:\n",
    "    print(\"Please follow your country: {} standard\".format(country))"
   ]
  },
  {
   "cell_type": "markdown",
   "id": "bd05dbbb",
   "metadata": {},
   "source": [
    "# LOOPS"
   ]
  },
  {
   "cell_type": "code",
   "execution_count": 54,
   "id": "97dfe775",
   "metadata": {},
   "outputs": [
    {
     "data": {
      "text/plain": [
       "'\\nWhile Loops\\nFor Loops\\n'"
      ]
     },
     "execution_count": 54,
     "metadata": {},
     "output_type": "execute_result"
    }
   ],
   "source": [
    "'''\n",
    "While Loops\n",
    "For Loops\n",
    "'''"
   ]
  },
  {
   "cell_type": "markdown",
   "id": "0d18e27b",
   "metadata": {},
   "source": [
    "## While loop"
   ]
  },
  {
   "cell_type": "code",
   "execution_count": null,
   "id": "42dce503",
   "metadata": {},
   "outputs": [],
   "source": [
    "'''\n",
    "while condition:\n",
    "    statements\n",
    "else:\n",
    "    false statement\n",
    "'''"
   ]
  },
  {
   "cell_type": "code",
   "execution_count": 58,
   "id": "10a25289",
   "metadata": {},
   "outputs": [
    {
     "name": "stdout",
     "output_type": "stream",
     "text": [
      "0\n",
      "1\n",
      "2\n",
      "3\n",
      "4\n",
      "5\n",
      "6\n",
      "7\n",
      "8\n",
      "9\n",
      "10\n",
      "Value of x is :  11\n"
     ]
    }
   ],
   "source": [
    "    x=0\n",
    "\n",
    "    while x<=10:\n",
    "        print(x)\n",
    "        x+=1\n",
    "    else:\n",
    "        print(\"Value of x is : \", x)"
   ]
  },
  {
   "cell_type": "markdown",
   "id": "88ab5f57",
   "metadata": {},
   "source": [
    "## break and continue"
   ]
  },
  {
   "cell_type": "code",
   "execution_count": 59,
   "id": "62053a56",
   "metadata": {},
   "outputs": [
    {
     "name": "stdout",
     "output_type": "stream",
     "text": [
      "0\n",
      "1\n",
      "2\n",
      "3\n",
      "4\n",
      "I am not part of while loop!\n"
     ]
    }
   ],
   "source": [
    "x=0\n",
    "\n",
    "while x<=10:\n",
    "    if x==5:\n",
    "        break\n",
    "    print(x)\n",
    "    x+=1\n",
    "print(\"I am not part of while loop!\")"
   ]
  },
  {
   "cell_type": "code",
   "execution_count": 60,
   "id": "8d73d76d",
   "metadata": {},
   "outputs": [
    {
     "name": "stdout",
     "output_type": "stream",
     "text": [
      "1\n",
      "2\n",
      "3\n",
      "4\n",
      "6\n",
      "7\n",
      "8\n",
      "9\n",
      "10\n",
      "11\n",
      "I am not part of while loop!\n"
     ]
    }
   ],
   "source": [
    "x=0\n",
    "\n",
    "while x<=10:\n",
    "    x+=1\n",
    "    if x==5:\n",
    "        continue\n",
    "    print(x)\n",
    "    \n",
    "print(\"I am not part of while loop!\")"
   ]
  },
  {
   "cell_type": "markdown",
   "id": "5257d28a",
   "metadata": {},
   "source": [
    "## FOR LOOP"
   ]
  },
  {
   "cell_type": "code",
   "execution_count": 62,
   "id": "e27c7d0d",
   "metadata": {},
   "outputs": [
    {
     "name": "stdout",
     "output_type": "stream",
     "text": [
      "1 2 3 4 5 6 7 8 9 10 "
     ]
    }
   ],
   "source": [
    "for x in range(1,11):\n",
    "    print(x,end=' ')"
   ]
  },
  {
   "cell_type": "code",
   "execution_count": 63,
   "id": "732b4f04",
   "metadata": {},
   "outputs": [],
   "source": [
    "city=['Chennai','Bangalore','Hyderabad','Mumbai','Delhi']"
   ]
  },
  {
   "cell_type": "code",
   "execution_count": 66,
   "id": "badb1512",
   "metadata": {},
   "outputs": [
    {
     "name": "stdout",
     "output_type": "stream",
     "text": [
      "Chennai-Bangalore-Hyderabad-Mumbai-Delhi-"
     ]
    }
   ],
   "source": [
    "for c in city:\n",
    "    print(c,end=\"-\")"
   ]
  },
  {
   "cell_type": "code",
   "execution_count": 67,
   "id": "d8764d5a",
   "metadata": {},
   "outputs": [],
   "source": [
    "data=['Raghul Ramesh',37,70.5,False,'India']"
   ]
  },
  {
   "cell_type": "code",
   "execution_count": 69,
   "id": "58309c97",
   "metadata": {},
   "outputs": [
    {
     "name": "stdout",
     "output_type": "stream",
     "text": [
      "Raghul Ramesh\n",
      "37\n",
      "70.5\n",
      "False\n",
      "India\n"
     ]
    }
   ],
   "source": [
    "for x in data:\n",
    "    print(x)"
   ]
  },
  {
   "cell_type": "code",
   "execution_count": null,
   "id": "45fed4b9",
   "metadata": {},
   "outputs": [],
   "source": [
    "'''\n",
    "DATA STRUCTURE:\n",
    "    Immutable\n",
    "        Numbers\n",
    "        Strings\n",
    "        Tuple\n",
    "    Mutable\n",
    "        List\n",
    "        Dictionary\n",
    "        Set\n",
    "'''"
   ]
  },
  {
   "cell_type": "markdown",
   "id": "debf509e",
   "metadata": {},
   "source": [
    "# NUMBERS"
   ]
  },
  {
   "cell_type": "code",
   "execution_count": 73,
   "id": "2fde1eb9",
   "metadata": {},
   "outputs": [
    {
     "data": {
      "text/plain": [
       "'\\nOperators:\\n    Arithmetic\\n    Assignment\\n    Comparison\\n    Logical\\n    Bitwise\\n    Identity\\n    Membership\\n'"
      ]
     },
     "execution_count": 73,
     "metadata": {},
     "output_type": "execute_result"
    }
   ],
   "source": [
    "'''\n",
    "Operators:\n",
    "    Arithmetic\n",
    "    Assignment\n",
    "    Comparison\n",
    "    Logical\n",
    "    Bitwise\n",
    "    Identity\n",
    "    Membership\n",
    "'''"
   ]
  },
  {
   "cell_type": "markdown",
   "id": "974312f3",
   "metadata": {},
   "source": [
    "## Arithmetic Operators"
   ]
  },
  {
   "cell_type": "code",
   "execution_count": 74,
   "id": "7f49a307",
   "metadata": {},
   "outputs": [
    {
     "data": {
      "text/plain": [
       "11"
      ]
     },
     "execution_count": 74,
     "metadata": {},
     "output_type": "execute_result"
    }
   ],
   "source": [
    "5+6   "
   ]
  },
  {
   "cell_type": "code",
   "execution_count": 75,
   "id": "e2c82028",
   "metadata": {},
   "outputs": [
    {
     "data": {
      "text/plain": [
       "-1"
      ]
     },
     "execution_count": 75,
     "metadata": {},
     "output_type": "execute_result"
    }
   ],
   "source": [
    "5-6"
   ]
  },
  {
   "cell_type": "code",
   "execution_count": 76,
   "id": "5221fdf8",
   "metadata": {},
   "outputs": [
    {
     "data": {
      "text/plain": [
       "30"
      ]
     },
     "execution_count": 76,
     "metadata": {},
     "output_type": "execute_result"
    }
   ],
   "source": [
    "5*6"
   ]
  },
  {
   "cell_type": "code",
   "execution_count": 77,
   "id": "a01036db",
   "metadata": {},
   "outputs": [
    {
     "data": {
      "text/plain": [
       "0.8333333333333334"
      ]
     },
     "execution_count": 77,
     "metadata": {},
     "output_type": "execute_result"
    }
   ],
   "source": [
    "5/6"
   ]
  },
  {
   "cell_type": "code",
   "execution_count": 78,
   "id": "67409cc0",
   "metadata": {},
   "outputs": [
    {
     "data": {
      "text/plain": [
       "125"
      ]
     },
     "execution_count": 78,
     "metadata": {},
     "output_type": "execute_result"
    }
   ],
   "source": [
    "5**3    #Exponent"
   ]
  },
  {
   "cell_type": "code",
   "execution_count": 79,
   "id": "52f56c5e",
   "metadata": {},
   "outputs": [
    {
     "data": {
      "text/plain": [
       "2"
      ]
     },
     "execution_count": 79,
     "metadata": {},
     "output_type": "execute_result"
    }
   ],
   "source": [
    "5%3   #Modulus"
   ]
  },
  {
   "cell_type": "code",
   "execution_count": 80,
   "id": "0b9701bd",
   "metadata": {},
   "outputs": [
    {
     "data": {
      "text/plain": [
       "1"
      ]
     },
     "execution_count": 80,
     "metadata": {},
     "output_type": "execute_result"
    }
   ],
   "source": [
    "5//3  #Floor division"
   ]
  },
  {
   "cell_type": "code",
   "execution_count": 82,
   "id": "5ff8a6f8",
   "metadata": {},
   "outputs": [
    {
     "data": {
      "text/plain": [
       "25.0"
      ]
     },
     "execution_count": 82,
     "metadata": {},
     "output_type": "execute_result"
    }
   ],
   "source": [
    "5*6+3-2**(15/5)   #PEMDAS RULE"
   ]
  },
  {
   "cell_type": "markdown",
   "id": "02b4d524",
   "metadata": {},
   "source": [
    "# Assignment Operatos"
   ]
  },
  {
   "cell_type": "code",
   "execution_count": 83,
   "id": "4d7a050b",
   "metadata": {},
   "outputs": [],
   "source": [
    "x=10"
   ]
  },
  {
   "cell_type": "code",
   "execution_count": 84,
   "id": "597b5376",
   "metadata": {},
   "outputs": [
    {
     "data": {
      "text/plain": [
       "10"
      ]
     },
     "execution_count": 84,
     "metadata": {},
     "output_type": "execute_result"
    }
   ],
   "source": [
    "x"
   ]
  },
  {
   "cell_type": "code",
   "execution_count": 85,
   "id": "788aec9b",
   "metadata": {},
   "outputs": [],
   "source": [
    "y=x"
   ]
  },
  {
   "cell_type": "code",
   "execution_count": 86,
   "id": "0eefb64d",
   "metadata": {},
   "outputs": [
    {
     "data": {
      "text/plain": [
       "10"
      ]
     },
     "execution_count": 86,
     "metadata": {},
     "output_type": "execute_result"
    }
   ],
   "source": [
    "y"
   ]
  },
  {
   "cell_type": "code",
   "execution_count": 87,
   "id": "9edf0c20",
   "metadata": {},
   "outputs": [],
   "source": [
    "z=x+y+10"
   ]
  },
  {
   "cell_type": "code",
   "execution_count": 88,
   "id": "3bec422f",
   "metadata": {},
   "outputs": [
    {
     "data": {
      "text/plain": [
       "30"
      ]
     },
     "execution_count": 88,
     "metadata": {},
     "output_type": "execute_result"
    }
   ],
   "source": [
    "z"
   ]
  },
  {
   "cell_type": "code",
   "execution_count": 89,
   "id": "37b387c6",
   "metadata": {},
   "outputs": [],
   "source": [
    "r=x*y/50"
   ]
  },
  {
   "cell_type": "code",
   "execution_count": 90,
   "id": "0833496e",
   "metadata": {},
   "outputs": [
    {
     "data": {
      "text/plain": [
       "2.0"
      ]
     },
     "execution_count": 90,
     "metadata": {},
     "output_type": "execute_result"
    }
   ],
   "source": [
    "r"
   ]
  },
  {
   "cell_type": "markdown",
   "id": "c1202bc4",
   "metadata": {},
   "source": [
    "# Comparison Opearators"
   ]
  },
  {
   "cell_type": "code",
   "execution_count": 91,
   "id": "6f81910a",
   "metadata": {},
   "outputs": [],
   "source": [
    "x=10\n",
    "y=20"
   ]
  },
  {
   "cell_type": "code",
   "execution_count": 92,
   "id": "91acfa7d",
   "metadata": {},
   "outputs": [
    {
     "data": {
      "text/plain": [
       "False"
      ]
     },
     "execution_count": 92,
     "metadata": {},
     "output_type": "execute_result"
    }
   ],
   "source": [
    "x>y"
   ]
  },
  {
   "cell_type": "code",
   "execution_count": 93,
   "id": "ff5c9438",
   "metadata": {},
   "outputs": [
    {
     "data": {
      "text/plain": [
       "True"
      ]
     },
     "execution_count": 93,
     "metadata": {},
     "output_type": "execute_result"
    }
   ],
   "source": [
    "x<y"
   ]
  },
  {
   "cell_type": "code",
   "execution_count": 94,
   "id": "e616db0f",
   "metadata": {},
   "outputs": [
    {
     "data": {
      "text/plain": [
       "False"
      ]
     },
     "execution_count": 94,
     "metadata": {},
     "output_type": "execute_result"
    }
   ],
   "source": [
    "x==y"
   ]
  },
  {
   "cell_type": "code",
   "execution_count": 95,
   "id": "dc07368f",
   "metadata": {},
   "outputs": [
    {
     "data": {
      "text/plain": [
       "True"
      ]
     },
     "execution_count": 95,
     "metadata": {},
     "output_type": "execute_result"
    }
   ],
   "source": [
    "x!=y"
   ]
  },
  {
   "cell_type": "markdown",
   "id": "93bfef75",
   "metadata": {},
   "source": [
    "# Logical Operators"
   ]
  },
  {
   "cell_type": "code",
   "execution_count": 96,
   "id": "50488e09",
   "metadata": {},
   "outputs": [
    {
     "data": {
      "text/plain": [
       "3"
      ]
     },
     "execution_count": 96,
     "metadata": {},
     "output_type": "execute_result"
    }
   ],
   "source": [
    "#x and y => return x if x is false , y otherwise\n",
    "2 and 3"
   ]
  },
  {
   "cell_type": "code",
   "execution_count": 97,
   "id": "4baa4013",
   "metadata": {},
   "outputs": [
    {
     "data": {
      "text/plain": [
       "2"
      ]
     },
     "execution_count": 97,
     "metadata": {},
     "output_type": "execute_result"
    }
   ],
   "source": [
    "2 or 3"
   ]
  },
  {
   "cell_type": "code",
   "execution_count": 98,
   "id": "4a41308f",
   "metadata": {},
   "outputs": [
    {
     "data": {
      "text/plain": [
       "False"
      ]
     },
     "execution_count": 98,
     "metadata": {},
     "output_type": "execute_result"
    }
   ],
   "source": [
    "not 1"
   ]
  },
  {
   "cell_type": "code",
   "execution_count": 99,
   "id": "87b8cffb",
   "metadata": {},
   "outputs": [
    {
     "data": {
      "text/plain": [
       "True"
      ]
     },
     "execution_count": 99,
     "metadata": {},
     "output_type": "execute_result"
    }
   ],
   "source": [
    "not 0"
   ]
  },
  {
   "cell_type": "markdown",
   "id": "a139edb0",
   "metadata": {},
   "source": [
    "# Bitwise Operators"
   ]
  },
  {
   "cell_type": "code",
   "execution_count": 103,
   "id": "9ae077dd",
   "metadata": {},
   "outputs": [
    {
     "data": {
      "text/plain": [
       "5"
      ]
     },
     "execution_count": 103,
     "metadata": {},
     "output_type": "execute_result"
    }
   ],
   "source": [
    "# &(and) |(or) ^(XOR)\n",
    "\n",
    "5 & 7"
   ]
  },
  {
   "cell_type": "code",
   "execution_count": 102,
   "id": "80daf72f",
   "metadata": {},
   "outputs": [
    {
     "data": {
      "text/plain": [
       "7"
      ]
     },
     "execution_count": 102,
     "metadata": {},
     "output_type": "execute_result"
    }
   ],
   "source": [
    "5 | 7"
   ]
  },
  {
   "cell_type": "code",
   "execution_count": 104,
   "id": "69e20bac",
   "metadata": {},
   "outputs": [
    {
     "data": {
      "text/plain": [
       "2"
      ]
     },
     "execution_count": 104,
     "metadata": {},
     "output_type": "execute_result"
    }
   ],
   "source": [
    "5 ^ 7"
   ]
  },
  {
   "cell_type": "markdown",
   "id": "e2bc0ed8",
   "metadata": {},
   "source": [
    "# Identity Operators"
   ]
  },
  {
   "cell_type": "code",
   "execution_count": 105,
   "id": "111a025e",
   "metadata": {},
   "outputs": [],
   "source": [
    "x=10"
   ]
  },
  {
   "cell_type": "code",
   "execution_count": 106,
   "id": "0baf25ab",
   "metadata": {},
   "outputs": [
    {
     "name": "stderr",
     "output_type": "stream",
     "text": [
      "<>:1: SyntaxWarning: \"is\" with a literal. Did you mean \"==\"?\n",
      "<>:1: SyntaxWarning: \"is\" with a literal. Did you mean \"==\"?\n",
      "C:\\Users\\RaghulRamesh\\AppData\\Local\\Temp\\ipykernel_11940\\2183931627.py:1: SyntaxWarning: \"is\" with a literal. Did you mean \"==\"?\n",
      "  x is 10\n"
     ]
    },
    {
     "data": {
      "text/plain": [
       "True"
      ]
     },
     "execution_count": 106,
     "metadata": {},
     "output_type": "execute_result"
    }
   ],
   "source": [
    "x is 10"
   ]
  },
  {
   "cell_type": "code",
   "execution_count": 107,
   "id": "dbf4b100",
   "metadata": {},
   "outputs": [
    {
     "name": "stderr",
     "output_type": "stream",
     "text": [
      "<>:1: SyntaxWarning: \"is not\" with a literal. Did you mean \"!=\"?\n",
      "<>:1: SyntaxWarning: \"is not\" with a literal. Did you mean \"!=\"?\n",
      "C:\\Users\\RaghulRamesh\\AppData\\Local\\Temp\\ipykernel_11940\\3620244120.py:1: SyntaxWarning: \"is not\" with a literal. Did you mean \"!=\"?\n",
      "  x is not 100\n"
     ]
    },
    {
     "data": {
      "text/plain": [
       "True"
      ]
     },
     "execution_count": 107,
     "metadata": {},
     "output_type": "execute_result"
    }
   ],
   "source": [
    "x is not 100"
   ]
  },
  {
   "cell_type": "code",
   "execution_count": 108,
   "id": "d9062970",
   "metadata": {},
   "outputs": [
    {
     "name": "stderr",
     "output_type": "stream",
     "text": [
      "<>:1: SyntaxWarning: \"is not\" with a literal. Did you mean \"!=\"?\n",
      "<>:1: SyntaxWarning: \"is not\" with a literal. Did you mean \"!=\"?\n",
      "C:\\Users\\RaghulRamesh\\AppData\\Local\\Temp\\ipykernel_11940\\1660080432.py:1: SyntaxWarning: \"is not\" with a literal. Did you mean \"!=\"?\n",
      "  x is not 10\n"
     ]
    },
    {
     "data": {
      "text/plain": [
       "False"
      ]
     },
     "execution_count": 108,
     "metadata": {},
     "output_type": "execute_result"
    }
   ],
   "source": [
    "x is not 10"
   ]
  },
  {
   "cell_type": "markdown",
   "id": "58a7f797",
   "metadata": {},
   "source": [
    "# Membership Operator"
   ]
  },
  {
   "cell_type": "code",
   "execution_count": 109,
   "id": "8fb64b37",
   "metadata": {},
   "outputs": [],
   "source": [
    "nums=[1,24,535,5744,3,23,56,100,43,76,50,342,56,65,34,52]"
   ]
  },
  {
   "cell_type": "code",
   "execution_count": 110,
   "id": "43459348",
   "metadata": {},
   "outputs": [
    {
     "data": {
      "text/plain": [
       "False"
      ]
     },
     "execution_count": 110,
     "metadata": {},
     "output_type": "execute_result"
    }
   ],
   "source": [
    "66 in nums"
   ]
  },
  {
   "cell_type": "code",
   "execution_count": 111,
   "id": "563205b9",
   "metadata": {},
   "outputs": [
    {
     "data": {
      "text/plain": [
       "True"
      ]
     },
     "execution_count": 111,
     "metadata": {},
     "output_type": "execute_result"
    }
   ],
   "source": [
    "76 in nums"
   ]
  },
  {
   "cell_type": "code",
   "execution_count": 112,
   "id": "cdce28b7",
   "metadata": {},
   "outputs": [
    {
     "data": {
      "text/plain": [
       "False"
      ]
     },
     "execution_count": 112,
     "metadata": {},
     "output_type": "execute_result"
    }
   ],
   "source": [
    "100 not in nums"
   ]
  },
  {
   "cell_type": "code",
   "execution_count": 113,
   "id": "b860f84e",
   "metadata": {},
   "outputs": [
    {
     "data": {
      "text/plain": [
       "True"
      ]
     },
     "execution_count": 113,
     "metadata": {},
     "output_type": "execute_result"
    }
   ],
   "source": [
    "66 not in nums"
   ]
  },
  {
   "cell_type": "code",
   "execution_count": null,
   "id": "0cfe8f69",
   "metadata": {},
   "outputs": [],
   "source": [
    "#True False None Class_names"
   ]
  }
 ],
 "metadata": {
  "kernelspec": {
   "display_name": "Python 3 (ipykernel)",
   "language": "python",
   "name": "python3"
  },
  "language_info": {
   "codemirror_mode": {
    "name": "ipython",
    "version": 3
   },
   "file_extension": ".py",
   "mimetype": "text/x-python",
   "name": "python",
   "nbconvert_exporter": "python",
   "pygments_lexer": "ipython3",
   "version": "3.10.4"
  }
 },
 "nbformat": 4,
 "nbformat_minor": 5
}
