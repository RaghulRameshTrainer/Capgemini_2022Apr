{
 "cells": [
  {
   "cell_type": "markdown",
   "id": "4d70ebd1",
   "metadata": {},
   "source": [
    "'''\n",
    "Python is a high-level, dynamic, procedural, object oriented programming language\n",
    "'''"
   ]
  },
  {
   "cell_type": "markdown",
   "id": "60ed035a",
   "metadata": {},
   "source": [
    "# Difference b/w ' | \" | ''' , \"\"\""
   ]
  },
  {
   "cell_type": "code",
   "execution_count": 1,
   "id": "c0c2b69f",
   "metadata": {},
   "outputs": [
    {
     "data": {
      "text/plain": [
       "30"
      ]
     },
     "execution_count": 1,
     "metadata": {},
     "output_type": "execute_result"
    }
   ],
   "source": [
    "x=10\n",
    "y=20\n",
    "x+y"
   ]
  },
  {
   "cell_type": "code",
   "execution_count": 2,
   "id": "6e7200bd",
   "metadata": {},
   "outputs": [
    {
     "data": {
      "text/plain": [
       "30"
      ]
     },
     "execution_count": 2,
     "metadata": {},
     "output_type": "execute_result"
    }
   ],
   "source": [
    "x=10\n",
    "y=20    # Shift + Enter\n",
    "x+y"
   ]
  },
  {
   "cell_type": "code",
   "execution_count": 3,
   "id": "2c7077ff",
   "metadata": {},
   "outputs": [
    {
     "data": {
      "text/plain": [
       "30"
      ]
     },
     "execution_count": 3,
     "metadata": {},
     "output_type": "execute_result"
    }
   ],
   "source": [
    "x=10\n",
    "y=20    #Ctrl+Enter\n",
    "x+y"
   ]
  },
  {
   "cell_type": "code",
   "execution_count": 4,
   "id": "b8b0d7cd",
   "metadata": {},
   "outputs": [],
   "source": [
    "name=\"Raghul Ramesh\""
   ]
  },
  {
   "cell_type": "code",
   "execution_count": 5,
   "id": "8ce9d742",
   "metadata": {},
   "outputs": [
    {
     "data": {
      "text/plain": [
       "'Raghul Ramesh'"
      ]
     },
     "execution_count": 5,
     "metadata": {},
     "output_type": "execute_result"
    }
   ],
   "source": [
    "name"
   ]
  },
  {
   "cell_type": "code",
   "execution_count": 6,
   "id": "5e652861",
   "metadata": {},
   "outputs": [],
   "source": [
    "name='Raghul Ramesh'"
   ]
  },
  {
   "cell_type": "code",
   "execution_count": 7,
   "id": "2ec1b757",
   "metadata": {},
   "outputs": [
    {
     "data": {
      "text/plain": [
       "'Raghul Ramesh'"
      ]
     },
     "execution_count": 7,
     "metadata": {},
     "output_type": "execute_result"
    }
   ],
   "source": [
    "name"
   ]
  },
  {
   "cell_type": "code",
   "execution_count": 9,
   "id": "616d50c3",
   "metadata": {},
   "outputs": [],
   "source": [
    "college=\"St's joseph Engg college\""
   ]
  },
  {
   "cell_type": "code",
   "execution_count": 10,
   "id": "15ac931a",
   "metadata": {},
   "outputs": [
    {
     "name": "stdout",
     "output_type": "stream",
     "text": [
      "St's joseph Engg college\n"
     ]
    }
   ],
   "source": [
    "print(college)"
   ]
  },
  {
   "cell_type": "code",
   "execution_count": 12,
   "id": "490de892",
   "metadata": {},
   "outputs": [],
   "source": [
    "weekend_plan= 'Booked for \"Beast\" Movie for this weekend'"
   ]
  },
  {
   "cell_type": "code",
   "execution_count": 13,
   "id": "7188a5fe",
   "metadata": {},
   "outputs": [
    {
     "name": "stdout",
     "output_type": "stream",
     "text": [
      "Booked for \"Beast\" Movie for this weekend\n"
     ]
    }
   ],
   "source": [
    "print(weekend_plan)"
   ]
  },
  {
   "cell_type": "code",
   "execution_count": 14,
   "id": "158ba54f",
   "metadata": {},
   "outputs": [],
   "source": [
    "college=\"St's joseph Engg college at \\\"CHENNAI\\\"\""
   ]
  },
  {
   "cell_type": "code",
   "execution_count": 15,
   "id": "31a4fd74",
   "metadata": {},
   "outputs": [
    {
     "name": "stdout",
     "output_type": "stream",
     "text": [
      "St's joseph Engg college at \"CHENNAI\"\n"
     ]
    }
   ],
   "source": [
    "print(college)"
   ]
  },
  {
   "cell_type": "code",
   "execution_count": 20,
   "id": "830c8688",
   "metadata": {},
   "outputs": [],
   "source": [
    "about_python=\"\"\"Python was developed by GUIDO VAN ROSSUM.\n",
    "HE IS FROM NETHERLAND.\n",
    "It was released on early 1990\n",
    "Made as open source from day 1\"\"\""
   ]
  },
  {
   "cell_type": "code",
   "execution_count": 21,
   "id": "1f8d36b4",
   "metadata": {},
   "outputs": [
    {
     "name": "stdout",
     "output_type": "stream",
     "text": [
      "Python was developed by GUIDO VAN ROSSUM.\n",
      "HE IS FROM NETHERLAND.\n",
      "It was released on early 1990\n",
      "Made as open source from day 1\n"
     ]
    }
   ],
   "source": [
    "print(about_python)"
   ]
  },
  {
   "cell_type": "code",
   "execution_count": 22,
   "id": "22e1b0aa",
   "metadata": {},
   "outputs": [],
   "source": [
    "#Python is a open source technology\n",
    "# Easy to learn\n",
    "# Easy to understand"
   ]
  },
  {
   "cell_type": "code",
   "execution_count": null,
   "id": "ad58bea4",
   "metadata": {},
   "outputs": [],
   "source": [
    "'''\n",
    "line1\n",
    "line2\n",
    "Python\n",
    "Java\n",
    "BigData\n",
    "'''"
   ]
  },
  {
   "cell_type": "markdown",
   "id": "55cb7e65",
   "metadata": {},
   "source": [
    "# CONTROL STATEMENT"
   ]
  },
  {
   "cell_type": "code",
   "execution_count": 23,
   "id": "a341ca32",
   "metadata": {},
   "outputs": [
    {
     "data": {
      "text/plain": [
       "'\\nSyntax:\\n\\nif condition:\\n    True statements\\nelif condition2\\n    Statements\\nelif condition3\\n    statement\\nelse:\\n    False \\n    \\n'"
      ]
     },
     "execution_count": 23,
     "metadata": {},
     "output_type": "execute_result"
    }
   ],
   "source": [
    "'''\n",
    "Syntax:\n",
    "\n",
    "if condition:\n",
    "    True statements\n",
    "elif condition2\n",
    "    Statements\n",
    "elif condition3\n",
    "    statement\n",
    "else:\n",
    "    False \n",
    "    \n",
    "'''"
   ]
  },
  {
   "cell_type": "code",
   "execution_count": 53,
   "id": "2162985c",
   "metadata": {},
   "outputs": [
    {
     "ename": "IndentationError",
     "evalue": "unindent does not match any outer indentation level (<tokenize>, line 8)",
     "output_type": "error",
     "traceback": [
      "\u001b[1;36m  File \u001b[1;32m<tokenize>:8\u001b[1;36m\u001b[0m\n\u001b[1;33m    print(\"I'm not part of if else statement\")\u001b[0m\n\u001b[1;37m    ^\u001b[0m\n\u001b[1;31mIndentationError\u001b[0m\u001b[1;31m:\u001b[0m unindent does not match any outer indentation level\n"
     ]
    }
   ],
   "source": [
    "x=10\n",
    "\n",
    "if x==10:\n",
    "    print('x is 10')\n",
    "else:\n",
    "    print('value of x has been changed to :',x)\n",
    "    print(\"Thanks\")\n",
    "print(\"I'm not part of if else statement\")"
   ]
  },
  {
   "cell_type": "code",
   "execution_count": 71,
   "id": "617c226c",
   "metadata": {},
   "outputs": [
    {
     "name": "stdout",
     "output_type": "stream",
     "text": [
      "Enter your age:37\n",
      "Variable type is :  <class 'int'>\n",
      "New age is :  47\n"
     ]
    }
   ],
   "source": [
    "age=int(input(\"Enter your age:\"))\n",
    "print(\"Variable type is : \", type(age))\n",
    "age=age+10\n",
    "print(\"New age is : \", age)"
   ]
  },
  {
   "cell_type": "code",
   "execution_count": 46,
   "id": "25c35705",
   "metadata": {},
   "outputs": [
    {
     "name": "stdout",
     "output_type": "stream",
     "text": [
      "Enter your age:17\n",
      " School Student\n"
     ]
    }
   ],
   "source": [
    "age=int(input(\"Enter your age:\"))\n",
    "\n",
    "if age < 18:\n",
    "    print(\" School Student\")\n",
    "elif age < 25:\n",
    "    print(\" Either college student or working\")\n",
    "elif age >= 25 and age < 60:\n",
    "    print(\"Working\")\n",
    "else:\n",
    "    print(\"Retried\")"
   ]
  },
  {
   "cell_type": "code",
   "execution_count": 49,
   "id": "b70c4779",
   "metadata": {},
   "outputs": [
    {
     "name": "stdout",
     "output_type": "stream",
     "text": [
      "Enter your country name:USA\n",
      "Enter your age:50\n",
      "Please follow your country: USA standard\n"
     ]
    }
   ],
   "source": [
    "country=input(\"Enter your country name:\")\n",
    "age=int(input(\"Enter your age:\"))\n",
    "\n",
    "if country == \"India\":\n",
    "    if age>18:\n",
    "        print(\"YOu can vote\")\n",
    "    else:\n",
    "        print(\"You can't vote\")\n",
    "else:\n",
    "    print(\"Please follow your country: {} standard\".format(country))"
   ]
  },
  {
   "cell_type": "markdown",
   "id": "4c842c1b",
   "metadata": {},
   "source": [
    "# LOOPS"
   ]
  },
  {
   "cell_type": "code",
   "execution_count": 54,
   "id": "60211b6d",
   "metadata": {},
   "outputs": [
    {
     "data": {
      "text/plain": [
       "'\\nWhile Loops\\nFor Loops\\n'"
      ]
     },
     "execution_count": 54,
     "metadata": {},
     "output_type": "execute_result"
    }
   ],
   "source": [
    "'''\n",
    "While Loops\n",
    "For Loops\n",
    "'''"
   ]
  },
  {
   "cell_type": "markdown",
   "id": "65e5d45a",
   "metadata": {},
   "source": [
    "## While loop"
   ]
  },
  {
   "cell_type": "code",
   "execution_count": null,
   "id": "ce48eb1f",
   "metadata": {},
   "outputs": [],
   "source": [
    "'''\n",
    "while condition:\n",
    "    statements\n",
    "else:\n",
    "    false statement\n",
    "'''"
   ]
  },
  {
   "cell_type": "code",
   "execution_count": 58,
   "id": "2da841fa",
   "metadata": {},
   "outputs": [
    {
     "name": "stdout",
     "output_type": "stream",
     "text": [
      "0\n",
      "1\n",
      "2\n",
      "3\n",
      "4\n",
      "5\n",
      "6\n",
      "7\n",
      "8\n",
      "9\n",
      "10\n",
      "Value of x is :  11\n"
     ]
    }
   ],
   "source": [
    "    x=0\n",
    "\n",
    "    while x<=10:\n",
    "        print(x)\n",
    "        x+=1\n",
    "    else:\n",
    "        print(\"Value of x is : \", x)"
   ]
  },
  {
   "cell_type": "markdown",
   "id": "a03817d7",
   "metadata": {},
   "source": [
    "## break and continue"
   ]
  },
  {
   "cell_type": "code",
   "execution_count": 59,
   "id": "cad0b56f",
   "metadata": {},
   "outputs": [
    {
     "name": "stdout",
     "output_type": "stream",
     "text": [
      "0\n",
      "1\n",
      "2\n",
      "3\n",
      "4\n",
      "I am not part of while loop!\n"
     ]
    }
   ],
   "source": [
    "x=0\n",
    "\n",
    "while x<=10:\n",
    "    if x==5:\n",
    "        break\n",
    "    print(x)\n",
    "    x+=1\n",
    "print(\"I am not part of while loop!\")"
   ]
  },
  {
   "cell_type": "code",
   "execution_count": 60,
   "id": "6be94d30",
   "metadata": {},
   "outputs": [
    {
     "name": "stdout",
     "output_type": "stream",
     "text": [
      "1\n",
      "2\n",
      "3\n",
      "4\n",
      "6\n",
      "7\n",
      "8\n",
      "9\n",
      "10\n",
      "11\n",
      "I am not part of while loop!\n"
     ]
    }
   ],
   "source": [
    "x=0\n",
    "\n",
    "while x<=10:\n",
    "    x+=1\n",
    "    if x==5:\n",
    "        continue\n",
    "    print(x)\n",
    "    \n",
    "print(\"I am not part of while loop!\")"
   ]
  },
  {
   "cell_type": "markdown",
   "id": "f64985ff",
   "metadata": {},
   "source": [
    "## FOR LOOP"
   ]
  },
  {
   "cell_type": "code",
   "execution_count": 62,
   "id": "5a6d1403",
   "metadata": {},
   "outputs": [
    {
     "name": "stdout",
     "output_type": "stream",
     "text": [
      "1 2 3 4 5 6 7 8 9 10 "
     ]
    }
   ],
   "source": [
    "for x in range(1,11):\n",
    "    print(x,end=' ')"
   ]
  },
  {
   "cell_type": "code",
   "execution_count": 63,
   "id": "2ab20d87",
   "metadata": {},
   "outputs": [],
   "source": [
    "city=['Chennai','Bangalore','Hyderabad','Mumbai','Delhi']"
   ]
  },
  {
   "cell_type": "code",
   "execution_count": 66,
   "id": "0cb8ef2b",
   "metadata": {},
   "outputs": [
    {
     "name": "stdout",
     "output_type": "stream",
     "text": [
      "Chennai-Bangalore-Hyderabad-Mumbai-Delhi-"
     ]
    }
   ],
   "source": [
    "for c in city:\n",
    "    print(c,end=\"-\")"
   ]
  },
  {
   "cell_type": "code",
   "execution_count": 67,
   "id": "153315ac",
   "metadata": {},
   "outputs": [],
   "source": [
    "data=['Raghul Ramesh',37,70.5,False,'India']"
   ]
  },
  {
   "cell_type": "code",
   "execution_count": 69,
   "id": "ea6b4704",
   "metadata": {},
   "outputs": [
    {
     "name": "stdout",
     "output_type": "stream",
     "text": [
      "Raghul Ramesh\n",
      "37\n",
      "70.5\n",
      "False\n",
      "India\n"
     ]
    }
   ],
   "source": [
    "for x in data:\n",
    "    print(x)"
   ]
  },
  {
   "cell_type": "code",
   "execution_count": null,
   "id": "0e945117",
   "metadata": {},
   "outputs": [],
   "source": [
    "'''\n",
    "DATA STRUCTURE:\n",
    "    Immutable\n",
    "        Numbers\n",
    "        Strings\n",
    "        Tuple\n",
    "    Mutable\n",
    "        List\n",
    "        Dictionary\n",
    "        Set\n",
    "'''"
   ]
  },
  {
   "cell_type": "markdown",
   "id": "90b69fa1",
   "metadata": {},
   "source": [
    "# NUMBERS"
   ]
  },
  {
   "cell_type": "code",
   "execution_count": 73,
   "id": "6145e186",
   "metadata": {},
   "outputs": [
    {
     "data": {
      "text/plain": [
       "'\\nOperators:\\n    Arithmetic\\n    Assignment\\n    Comparison\\n    Logical\\n    Bitwise\\n    Identity\\n    Membership\\n'"
      ]
     },
     "execution_count": 73,
     "metadata": {},
     "output_type": "execute_result"
    }
   ],
   "source": [
    "'''\n",
    "Operators:\n",
    "    Arithmetic\n",
    "    Assignment\n",
    "    Comparison\n",
    "    Logical\n",
    "    Bitwise\n",
    "    Identity\n",
    "    Membership\n",
    "'''"
   ]
  },
  {
   "cell_type": "markdown",
   "id": "285d0edd",
   "metadata": {},
   "source": [
    "## Arithmetic Operators"
   ]
  },
  {
   "cell_type": "code",
   "execution_count": 74,
   "id": "6f443bf2",
   "metadata": {},
   "outputs": [
    {
     "data": {
      "text/plain": [
       "11"
      ]
     },
     "execution_count": 74,
     "metadata": {},
     "output_type": "execute_result"
    }
   ],
   "source": [
    "5+6   "
   ]
  },
  {
   "cell_type": "code",
   "execution_count": 75,
   "id": "48793c41",
   "metadata": {},
   "outputs": [
    {
     "data": {
      "text/plain": [
       "-1"
      ]
     },
     "execution_count": 75,
     "metadata": {},
     "output_type": "execute_result"
    }
   ],
   "source": [
    "5-6"
   ]
  },
  {
   "cell_type": "code",
   "execution_count": 76,
   "id": "bf484c67",
   "metadata": {},
   "outputs": [
    {
     "data": {
      "text/plain": [
       "30"
      ]
     },
     "execution_count": 76,
     "metadata": {},
     "output_type": "execute_result"
    }
   ],
   "source": [
    "5*6"
   ]
  },
  {
   "cell_type": "code",
   "execution_count": 77,
   "id": "42a1a9c7",
   "metadata": {},
   "outputs": [
    {
     "data": {
      "text/plain": [
       "0.8333333333333334"
      ]
     },
     "execution_count": 77,
     "metadata": {},
     "output_type": "execute_result"
    }
   ],
   "source": [
    "5/6"
   ]
  },
  {
   "cell_type": "code",
   "execution_count": 78,
   "id": "c151f768",
   "metadata": {},
   "outputs": [
    {
     "data": {
      "text/plain": [
       "125"
      ]
     },
     "execution_count": 78,
     "metadata": {},
     "output_type": "execute_result"
    }
   ],
   "source": [
    "5**3    #Exponent"
   ]
  },
  {
   "cell_type": "code",
   "execution_count": 79,
   "id": "0785eaa9",
   "metadata": {},
   "outputs": [
    {
     "data": {
      "text/plain": [
       "2"
      ]
     },
     "execution_count": 79,
     "metadata": {},
     "output_type": "execute_result"
    }
   ],
   "source": [
    "5%3   #Modulus"
   ]
  },
  {
   "cell_type": "code",
   "execution_count": 80,
   "id": "e510265e",
   "metadata": {},
   "outputs": [
    {
     "data": {
      "text/plain": [
       "1"
      ]
     },
     "execution_count": 80,
     "metadata": {},
     "output_type": "execute_result"
    }
   ],
   "source": [
    "5//3  #Floor division"
   ]
  },
  {
   "cell_type": "code",
   "execution_count": 82,
   "id": "dacc84a2",
   "metadata": {},
   "outputs": [
    {
     "data": {
      "text/plain": [
       "25.0"
      ]
     },
     "execution_count": 82,
     "metadata": {},
     "output_type": "execute_result"
    }
   ],
   "source": [
    "5*6+3-2**(15/5)   #PEMDAS RULE"
   ]
  },
  {
   "cell_type": "markdown",
   "id": "8d84c4f1",
   "metadata": {},
   "source": [
    "# Assignment Operatos"
   ]
  },
  {
   "cell_type": "code",
   "execution_count": 83,
   "id": "c3bce7b0",
   "metadata": {},
   "outputs": [],
   "source": [
    "x=10"
   ]
  },
  {
   "cell_type": "code",
   "execution_count": 84,
   "id": "665537e0",
   "metadata": {},
   "outputs": [
    {
     "data": {
      "text/plain": [
       "10"
      ]
     },
     "execution_count": 84,
     "metadata": {},
     "output_type": "execute_result"
    }
   ],
   "source": [
    "x"
   ]
  },
  {
   "cell_type": "code",
   "execution_count": 85,
   "id": "035d9171",
   "metadata": {},
   "outputs": [],
   "source": [
    "y=x"
   ]
  },
  {
   "cell_type": "code",
   "execution_count": 86,
   "id": "b9c2fb82",
   "metadata": {},
   "outputs": [
    {
     "data": {
      "text/plain": [
       "10"
      ]
     },
     "execution_count": 86,
     "metadata": {},
     "output_type": "execute_result"
    }
   ],
   "source": [
    "y"
   ]
  },
  {
   "cell_type": "code",
   "execution_count": 87,
   "id": "0f586c5b",
   "metadata": {},
   "outputs": [],
   "source": [
    "z=x+y+10"
   ]
  },
  {
   "cell_type": "code",
   "execution_count": 88,
   "id": "c202a8cc",
   "metadata": {},
   "outputs": [
    {
     "data": {
      "text/plain": [
       "30"
      ]
     },
     "execution_count": 88,
     "metadata": {},
     "output_type": "execute_result"
    }
   ],
   "source": [
    "z"
   ]
  },
  {
   "cell_type": "code",
   "execution_count": 89,
   "id": "a5f9cdfe",
   "metadata": {},
   "outputs": [],
   "source": [
    "r=x*y/50"
   ]
  },
  {
   "cell_type": "code",
   "execution_count": 90,
   "id": "47054762",
   "metadata": {},
   "outputs": [
    {
     "data": {
      "text/plain": [
       "2.0"
      ]
     },
     "execution_count": 90,
     "metadata": {},
     "output_type": "execute_result"
    }
   ],
   "source": [
    "r"
   ]
  },
  {
   "cell_type": "markdown",
   "id": "9dae65e7",
   "metadata": {},
   "source": [
    "# Comparison Opearators"
   ]
  },
  {
   "cell_type": "code",
   "execution_count": 91,
   "id": "0a3e6623",
   "metadata": {},
   "outputs": [],
   "source": [
    "x=10\n",
    "y=20"
   ]
  },
  {
   "cell_type": "code",
   "execution_count": 92,
   "id": "9b7504f7",
   "metadata": {},
   "outputs": [
    {
     "data": {
      "text/plain": [
       "False"
      ]
     },
     "execution_count": 92,
     "metadata": {},
     "output_type": "execute_result"
    }
   ],
   "source": [
    "x>y"
   ]
  },
  {
   "cell_type": "code",
   "execution_count": 93,
   "id": "020f9680",
   "metadata": {},
   "outputs": [
    {
     "data": {
      "text/plain": [
       "True"
      ]
     },
     "execution_count": 93,
     "metadata": {},
     "output_type": "execute_result"
    }
   ],
   "source": [
    "x<y"
   ]
  },
  {
   "cell_type": "code",
   "execution_count": 94,
   "id": "bb39e018",
   "metadata": {},
   "outputs": [
    {
     "data": {
      "text/plain": [
       "False"
      ]
     },
     "execution_count": 94,
     "metadata": {},
     "output_type": "execute_result"
    }
   ],
   "source": [
    "x==y"
   ]
  },
  {
   "cell_type": "code",
   "execution_count": 95,
   "id": "78090978",
   "metadata": {},
   "outputs": [
    {
     "data": {
      "text/plain": [
       "True"
      ]
     },
     "execution_count": 95,
     "metadata": {},
     "output_type": "execute_result"
    }
   ],
   "source": [
    "x!=y"
   ]
  },
  {
   "cell_type": "markdown",
   "id": "e5b2fadc",
   "metadata": {},
   "source": [
    "# Logical Operators"
   ]
  },
  {
   "cell_type": "code",
   "execution_count": 96,
   "id": "1422ba80",
   "metadata": {},
   "outputs": [
    {
     "data": {
      "text/plain": [
       "3"
      ]
     },
     "execution_count": 96,
     "metadata": {},
     "output_type": "execute_result"
    }
   ],
   "source": [
    "#x and y => return x if x is false , y otherwise\n",
    "2 and 3"
   ]
  },
  {
   "cell_type": "code",
   "execution_count": 97,
   "id": "514c206c",
   "metadata": {},
   "outputs": [
    {
     "data": {
      "text/plain": [
       "2"
      ]
     },
     "execution_count": 97,
     "metadata": {},
     "output_type": "execute_result"
    }
   ],
   "source": [
    "2 or 3"
   ]
  },
  {
   "cell_type": "code",
   "execution_count": 98,
   "id": "ed3eeadc",
   "metadata": {},
   "outputs": [
    {
     "data": {
      "text/plain": [
       "False"
      ]
     },
     "execution_count": 98,
     "metadata": {},
     "output_type": "execute_result"
    }
   ],
   "source": [
    "not 1"
   ]
  },
  {
   "cell_type": "code",
   "execution_count": 99,
   "id": "7e8d3d82",
   "metadata": {},
   "outputs": [
    {
     "data": {
      "text/plain": [
       "True"
      ]
     },
     "execution_count": 99,
     "metadata": {},
     "output_type": "execute_result"
    }
   ],
   "source": [
    "not 0"
   ]
  },
  {
   "cell_type": "markdown",
   "id": "8e371969",
   "metadata": {},
   "source": [
    "# Bitwise Operators"
   ]
  },
  {
   "cell_type": "code",
   "execution_count": 103,
   "id": "7d6c356f",
   "metadata": {},
   "outputs": [
    {
     "data": {
      "text/plain": [
       "5"
      ]
     },
     "execution_count": 103,
     "metadata": {},
     "output_type": "execute_result"
    }
   ],
   "source": [
    "# &(and) |(or) ^(XOR)\n",
    "\n",
    "5 & 7"
   ]
  },
  {
   "cell_type": "code",
   "execution_count": 102,
   "id": "a7f3098b",
   "metadata": {},
   "outputs": [
    {
     "data": {
      "text/plain": [
       "7"
      ]
     },
     "execution_count": 102,
     "metadata": {},
     "output_type": "execute_result"
    }
   ],
   "source": [
    "5 | 7"
   ]
  },
  {
   "cell_type": "code",
   "execution_count": 104,
   "id": "a27771a9",
   "metadata": {},
   "outputs": [
    {
     "data": {
      "text/plain": [
       "2"
      ]
     },
     "execution_count": 104,
     "metadata": {},
     "output_type": "execute_result"
    }
   ],
   "source": [
    "5 ^ 7"
   ]
  },
  {
   "cell_type": "markdown",
   "id": "05650080",
   "metadata": {},
   "source": [
    "# Identity Operators"
   ]
  },
  {
   "cell_type": "code",
   "execution_count": 105,
   "id": "e9236286",
   "metadata": {},
   "outputs": [],
   "source": [
    "x=10"
   ]
  },
  {
   "cell_type": "code",
   "execution_count": 106,
   "id": "10d8fbc3",
   "metadata": {},
   "outputs": [
    {
     "name": "stderr",
     "output_type": "stream",
     "text": [
      "<>:1: SyntaxWarning: \"is\" with a literal. Did you mean \"==\"?\n",
      "<>:1: SyntaxWarning: \"is\" with a literal. Did you mean \"==\"?\n",
      "C:\\Users\\RaghulRamesh\\AppData\\Local\\Temp\\ipykernel_11940\\2183931627.py:1: SyntaxWarning: \"is\" with a literal. Did you mean \"==\"?\n",
      "  x is 10\n"
     ]
    },
    {
     "data": {
      "text/plain": [
       "True"
      ]
     },
     "execution_count": 106,
     "metadata": {},
     "output_type": "execute_result"
    }
   ],
   "source": [
    "x is 10"
   ]
  },
  {
   "cell_type": "code",
   "execution_count": 107,
   "id": "52bb2796",
   "metadata": {},
   "outputs": [
    {
     "name": "stderr",
     "output_type": "stream",
     "text": [
      "<>:1: SyntaxWarning: \"is not\" with a literal. Did you mean \"!=\"?\n",
      "<>:1: SyntaxWarning: \"is not\" with a literal. Did you mean \"!=\"?\n",
      "C:\\Users\\RaghulRamesh\\AppData\\Local\\Temp\\ipykernel_11940\\3620244120.py:1: SyntaxWarning: \"is not\" with a literal. Did you mean \"!=\"?\n",
      "  x is not 100\n"
     ]
    },
    {
     "data": {
      "text/plain": [
       "True"
      ]
     },
     "execution_count": 107,
     "metadata": {},
     "output_type": "execute_result"
    }
   ],
   "source": [
    "x is not 100"
   ]
  },
  {
   "cell_type": "code",
   "execution_count": 108,
   "id": "4923dc62",
   "metadata": {},
   "outputs": [
    {
     "name": "stderr",
     "output_type": "stream",
     "text": [
      "<>:1: SyntaxWarning: \"is not\" with a literal. Did you mean \"!=\"?\n",
      "<>:1: SyntaxWarning: \"is not\" with a literal. Did you mean \"!=\"?\n",
      "C:\\Users\\RaghulRamesh\\AppData\\Local\\Temp\\ipykernel_11940\\1660080432.py:1: SyntaxWarning: \"is not\" with a literal. Did you mean \"!=\"?\n",
      "  x is not 10\n"
     ]
    },
    {
     "data": {
      "text/plain": [
       "False"
      ]
     },
     "execution_count": 108,
     "metadata": {},
     "output_type": "execute_result"
    }
   ],
   "source": [
    "x is not 10"
   ]
  },
  {
   "cell_type": "markdown",
   "id": "90735c27",
   "metadata": {},
   "source": [
    "# Membership Operator"
   ]
  },
  {
   "cell_type": "code",
   "execution_count": 109,
   "id": "7d209579",
   "metadata": {},
   "outputs": [],
   "source": [
    "nums=[1,24,535,5744,3,23,56,100,43,76,50,342,56,65,34,52]"
   ]
  },
  {
   "cell_type": "code",
   "execution_count": 110,
   "id": "57d03228",
   "metadata": {},
   "outputs": [
    {
     "data": {
      "text/plain": [
       "False"
      ]
     },
     "execution_count": 110,
     "metadata": {},
     "output_type": "execute_result"
    }
   ],
   "source": [
    "66 in nums"
   ]
  },
  {
   "cell_type": "code",
   "execution_count": 111,
   "id": "61d0d2ae",
   "metadata": {},
   "outputs": [
    {
     "data": {
      "text/plain": [
       "True"
      ]
     },
     "execution_count": 111,
     "metadata": {},
     "output_type": "execute_result"
    }
   ],
   "source": [
    "76 in nums"
   ]
  },
  {
   "cell_type": "code",
   "execution_count": 112,
   "id": "c592aada",
   "metadata": {},
   "outputs": [
    {
     "data": {
      "text/plain": [
       "False"
      ]
     },
     "execution_count": 112,
     "metadata": {},
     "output_type": "execute_result"
    }
   ],
   "source": [
    "100 not in nums"
   ]
  },
  {
   "cell_type": "code",
   "execution_count": 113,
   "id": "f7bd7d82",
   "metadata": {},
   "outputs": [
    {
     "data": {
      "text/plain": [
       "True"
      ]
     },
     "execution_count": 113,
     "metadata": {},
     "output_type": "execute_result"
    }
   ],
   "source": [
    "66 not in nums"
   ]
  },
  {
   "cell_type": "code",
   "execution_count": null,
   "id": "196bf187",
   "metadata": {},
   "outputs": [],
   "source": [
    "#True False None Class_names"
   ]
  },
  {
   "cell_type": "markdown",
   "id": "92d7a77a",
   "metadata": {},
   "source": [
    "# STRINGS"
   ]
  },
  {
   "cell_type": "code",
   "execution_count": 114,
   "id": "c0e86790",
   "metadata": {},
   "outputs": [],
   "source": [
    "name=\"Raghul Ramesh\"  # Strings are stored as indices based"
   ]
  },
  {
   "cell_type": "code",
   "execution_count": 115,
   "id": "cf1ba875",
   "metadata": {},
   "outputs": [
    {
     "data": {
      "text/plain": [
       "'R'"
      ]
     },
     "execution_count": 115,
     "metadata": {},
     "output_type": "execute_result"
    }
   ],
   "source": [
    "name[0]"
   ]
  },
  {
   "cell_type": "code",
   "execution_count": 116,
   "id": "1e61f185",
   "metadata": {},
   "outputs": [
    {
     "data": {
      "text/plain": [
       "'a'"
      ]
     },
     "execution_count": 116,
     "metadata": {},
     "output_type": "execute_result"
    }
   ],
   "source": [
    "name[1]"
   ]
  },
  {
   "cell_type": "code",
   "execution_count": 117,
   "id": "2d7ceee9",
   "metadata": {},
   "outputs": [
    {
     "data": {
      "text/plain": [
       "'h'"
      ]
     },
     "execution_count": 117,
     "metadata": {},
     "output_type": "execute_result"
    }
   ],
   "source": [
    "name[12]"
   ]
  },
  {
   "cell_type": "code",
   "execution_count": 118,
   "id": "704ada2a",
   "metadata": {},
   "outputs": [
    {
     "data": {
      "text/plain": [
       "'h'"
      ]
     },
     "execution_count": 118,
     "metadata": {},
     "output_type": "execute_result"
    }
   ],
   "source": [
    "name[-1]"
   ]
  },
  {
   "cell_type": "code",
   "execution_count": 119,
   "id": "0dca733b",
   "metadata": {},
   "outputs": [
    {
     "data": {
      "text/plain": [
       "'s'"
      ]
     },
     "execution_count": 119,
     "metadata": {},
     "output_type": "execute_result"
    }
   ],
   "source": [
    "name[-2]"
   ]
  },
  {
   "cell_type": "code",
   "execution_count": 120,
   "id": "3da6f340",
   "metadata": {},
   "outputs": [
    {
     "data": {
      "text/plain": [
       "'s'"
      ]
     },
     "execution_count": 120,
     "metadata": {},
     "output_type": "execute_result"
    }
   ],
   "source": [
    "name[-2]"
   ]
  },
  {
   "cell_type": "code",
   "execution_count": 121,
   "id": "73f27f6e",
   "metadata": {},
   "outputs": [
    {
     "data": {
      "text/plain": [
       "'Raghul Ramesh'"
      ]
     },
     "execution_count": 121,
     "metadata": {},
     "output_type": "execute_result"
    }
   ],
   "source": [
    "name"
   ]
  },
  {
   "cell_type": "code",
   "execution_count": 124,
   "id": "a93ec700",
   "metadata": {},
   "outputs": [
    {
     "data": {
      "text/plain": [
       "'Raghul'"
      ]
     },
     "execution_count": 124,
     "metadata": {},
     "output_type": "execute_result"
    }
   ],
   "source": [
    "name[0:6]"
   ]
  },
  {
   "cell_type": "code",
   "execution_count": 126,
   "id": "45450e1e",
   "metadata": {},
   "outputs": [
    {
     "data": {
      "text/plain": [
       "'Ramesh'"
      ]
     },
     "execution_count": 126,
     "metadata": {},
     "output_type": "execute_result"
    }
   ],
   "source": [
    "name[7:13]"
   ]
  },
  {
   "cell_type": "code",
   "execution_count": 127,
   "id": "72e2d8c8",
   "metadata": {},
   "outputs": [
    {
     "data": {
      "text/plain": [
       "'Raghul'"
      ]
     },
     "execution_count": 127,
     "metadata": {},
     "output_type": "execute_result"
    }
   ],
   "source": [
    "name[:6]"
   ]
  },
  {
   "cell_type": "code",
   "execution_count": 128,
   "id": "37060108",
   "metadata": {},
   "outputs": [
    {
     "data": {
      "text/plain": [
       "'Ramesh'"
      ]
     },
     "execution_count": 128,
     "metadata": {},
     "output_type": "execute_result"
    }
   ],
   "source": [
    "name[7:]"
   ]
  },
  {
   "cell_type": "code",
   "execution_count": 133,
   "id": "3cc0e4c8",
   "metadata": {},
   "outputs": [
    {
     "data": {
      "text/plain": [
       "'Rgu aeh'"
      ]
     },
     "execution_count": 133,
     "metadata": {},
     "output_type": "execute_result"
    }
   ],
   "source": [
    "name[::2]"
   ]
  },
  {
   "cell_type": "code",
   "execution_count": 134,
   "id": "58af5b0c",
   "metadata": {},
   "outputs": [
    {
     "data": {
      "text/plain": [
       "'Rh mh'"
      ]
     },
     "execution_count": 134,
     "metadata": {},
     "output_type": "execute_result"
    }
   ],
   "source": [
    "name[::3]"
   ]
  },
  {
   "cell_type": "code",
   "execution_count": 135,
   "id": "f96594d8",
   "metadata": {},
   "outputs": [
    {
     "data": {
      "text/plain": [
       "'Raghul Ramesh'"
      ]
     },
     "execution_count": 135,
     "metadata": {},
     "output_type": "execute_result"
    }
   ],
   "source": [
    "name[::1]"
   ]
  },
  {
   "cell_type": "code",
   "execution_count": 136,
   "id": "4853f2a9",
   "metadata": {},
   "outputs": [
    {
     "data": {
      "text/plain": [
       "'hsemaR luhgaR'"
      ]
     },
     "execution_count": 136,
     "metadata": {},
     "output_type": "execute_result"
    }
   ],
   "source": [
    "name[::-1]"
   ]
  },
  {
   "cell_type": "code",
   "execution_count": 137,
   "id": "a28528fc",
   "metadata": {},
   "outputs": [
    {
     "data": {
      "text/plain": [
       "'Raghul Ramesh'"
      ]
     },
     "execution_count": 137,
     "metadata": {},
     "output_type": "execute_result"
    }
   ],
   "source": [
    "name"
   ]
  },
  {
   "cell_type": "code",
   "execution_count": 138,
   "id": "9251e57b",
   "metadata": {},
   "outputs": [
    {
     "data": {
      "text/plain": [
       "13"
      ]
     },
     "execution_count": 138,
     "metadata": {},
     "output_type": "execute_result"
    }
   ],
   "source": [
    "len(name)"
   ]
  },
  {
   "cell_type": "code",
   "execution_count": 139,
   "id": "28a8a955",
   "metadata": {},
   "outputs": [],
   "source": [
    "# STRING METHODS"
   ]
  },
  {
   "cell_type": "code",
   "execution_count": 141,
   "id": "908477cf",
   "metadata": {},
   "outputs": [
    {
     "name": "stdout",
     "output_type": "stream",
     "text": [
      "['__add__', '__class__', '__contains__', '__delattr__', '__dir__', '__doc__', '__eq__', '__format__', '__ge__', '__getattribute__', '__getitem__', '__getnewargs__', '__gt__', '__hash__', '__init__', '__init_subclass__', '__iter__', '__le__', '__len__', '__lt__', '__mod__', '__mul__', '__ne__', '__new__', '__reduce__', '__reduce_ex__', '__repr__', '__rmod__', '__rmul__', '__setattr__', '__sizeof__', '__str__', '__subclasshook__', 'capitalize', 'casefold', 'center', 'count', 'encode', 'endswith', 'expandtabs', 'find', 'format', 'format_map', 'index', 'isalnum', 'isalpha', 'isascii', 'isdecimal', 'isdigit', 'isidentifier', 'islower', 'isnumeric', 'isprintable', 'isspace', 'istitle', 'isupper', 'join', 'ljust', 'lower', 'lstrip', 'maketrans', 'partition', 'removeprefix', 'removesuffix', 'replace', 'rfind', 'rindex', 'rjust', 'rpartition', 'rsplit', 'rstrip', 'split', 'splitlines', 'startswith', 'strip', 'swapcase', 'title', 'translate', 'upper', 'zfill']\n"
     ]
    }
   ],
   "source": [
    "print(dir(name))"
   ]
  },
  {
   "cell_type": "code",
   "execution_count": 142,
   "id": "37abfd1b",
   "metadata": {},
   "outputs": [
    {
     "data": {
      "text/plain": [
       "'Raghul Ramesh'"
      ]
     },
     "execution_count": 142,
     "metadata": {},
     "output_type": "execute_result"
    }
   ],
   "source": [
    "name"
   ]
  },
  {
   "cell_type": "code",
   "execution_count": 143,
   "id": "3aad36fe",
   "metadata": {},
   "outputs": [
    {
     "data": {
      "text/plain": [
       "'RAGHUL RAMESH'"
      ]
     },
     "execution_count": 143,
     "metadata": {},
     "output_type": "execute_result"
    }
   ],
   "source": [
    "name.upper()"
   ]
  },
  {
   "cell_type": "code",
   "execution_count": 144,
   "id": "c382a685",
   "metadata": {},
   "outputs": [
    {
     "data": {
      "text/plain": [
       "'Raghul Ramesh'"
      ]
     },
     "execution_count": 144,
     "metadata": {},
     "output_type": "execute_result"
    }
   ],
   "source": [
    "name"
   ]
  },
  {
   "cell_type": "code",
   "execution_count": 145,
   "id": "550d07bc",
   "metadata": {},
   "outputs": [
    {
     "data": {
      "text/plain": [
       "'raghul ramesh'"
      ]
     },
     "execution_count": 145,
     "metadata": {},
     "output_type": "execute_result"
    }
   ],
   "source": [
    "name.lower()"
   ]
  },
  {
   "cell_type": "code",
   "execution_count": 146,
   "id": "150ef3cc",
   "metadata": {},
   "outputs": [],
   "source": [
    "city=\"chennai in india\""
   ]
  },
  {
   "cell_type": "code",
   "execution_count": 147,
   "id": "6c8680e0",
   "metadata": {},
   "outputs": [
    {
     "data": {
      "text/plain": [
       "'Chennai In India'"
      ]
     },
     "execution_count": 147,
     "metadata": {},
     "output_type": "execute_result"
    }
   ],
   "source": [
    "city.title()"
   ]
  },
  {
   "cell_type": "code",
   "execution_count": 148,
   "id": "be62606b",
   "metadata": {},
   "outputs": [
    {
     "data": {
      "text/plain": [
       "'Chennai in india'"
      ]
     },
     "execution_count": 148,
     "metadata": {},
     "output_type": "execute_result"
    }
   ],
   "source": [
    "city.capitalize()"
   ]
  },
  {
   "cell_type": "code",
   "execution_count": 149,
   "id": "f01527aa",
   "metadata": {},
   "outputs": [
    {
     "data": {
      "text/plain": [
       "'Raghul Ramesh'"
      ]
     },
     "execution_count": 149,
     "metadata": {},
     "output_type": "execute_result"
    }
   ],
   "source": [
    "name"
   ]
  },
  {
   "cell_type": "code",
   "execution_count": 150,
   "id": "7f258f9f",
   "metadata": {},
   "outputs": [
    {
     "data": {
      "text/plain": [
       "'raghul ramesh'"
      ]
     },
     "execution_count": 150,
     "metadata": {},
     "output_type": "execute_result"
    }
   ],
   "source": [
    "name.casefold()"
   ]
  },
  {
   "cell_type": "code",
   "execution_count": 151,
   "id": "f75c922f",
   "metadata": {},
   "outputs": [
    {
     "data": {
      "text/plain": [
       "'raghul ramesh'"
      ]
     },
     "execution_count": 151,
     "metadata": {},
     "output_type": "execute_result"
    }
   ],
   "source": [
    "name.lower()"
   ]
  },
  {
   "cell_type": "code",
   "execution_count": 152,
   "id": "64181fcb",
   "metadata": {},
   "outputs": [
    {
     "data": {
      "text/plain": [
       "'Raghul Ramesh'"
      ]
     },
     "execution_count": 152,
     "metadata": {},
     "output_type": "execute_result"
    }
   ],
   "source": [
    "name"
   ]
  },
  {
   "cell_type": "code",
   "execution_count": 153,
   "id": "d84fa375",
   "metadata": {},
   "outputs": [
    {
     "data": {
      "text/plain": [
       "'rAGHUL rAMESH'"
      ]
     },
     "execution_count": 153,
     "metadata": {},
     "output_type": "execute_result"
    }
   ],
   "source": [
    "name.swapcase()"
   ]
  },
  {
   "cell_type": "code",
   "execution_count": 154,
   "id": "a01c1c6c",
   "metadata": {},
   "outputs": [
    {
     "data": {
      "text/plain": [
       "'raghul ramesh'"
      ]
     },
     "execution_count": 154,
     "metadata": {},
     "output_type": "execute_result"
    }
   ],
   "source": [
    "name."
   ]
  },
  {
   "cell_type": "code",
   "execution_count": 155,
   "id": "cee2c956",
   "metadata": {},
   "outputs": [],
   "source": [
    "tech=\"PYTHON\""
   ]
  },
  {
   "cell_type": "code",
   "execution_count": 156,
   "id": "2e34717f",
   "metadata": {},
   "outputs": [
    {
     "data": {
      "text/plain": [
       "True"
      ]
     },
     "execution_count": 156,
     "metadata": {},
     "output_type": "execute_result"
    }
   ],
   "source": [
    "tech.isupper()"
   ]
  },
  {
   "cell_type": "code",
   "execution_count": 157,
   "id": "6fd06496",
   "metadata": {},
   "outputs": [
    {
     "data": {
      "text/plain": [
       "False"
      ]
     },
     "execution_count": 157,
     "metadata": {},
     "output_type": "execute_result"
    }
   ],
   "source": [
    "tech.islower()"
   ]
  },
  {
   "cell_type": "code",
   "execution_count": 158,
   "id": "d3e72871",
   "metadata": {},
   "outputs": [
    {
     "data": {
      "text/plain": [
       "'Raghul Ramesh'"
      ]
     },
     "execution_count": 158,
     "metadata": {},
     "output_type": "execute_result"
    }
   ],
   "source": [
    "name"
   ]
  },
  {
   "cell_type": "code",
   "execution_count": 159,
   "id": "59203457",
   "metadata": {},
   "outputs": [
    {
     "data": {
      "text/plain": [
       "True"
      ]
     },
     "execution_count": 159,
     "metadata": {},
     "output_type": "execute_result"
    }
   ],
   "source": [
    "name.istitle()"
   ]
  },
  {
   "cell_type": "code",
   "execution_count": 160,
   "id": "75eee7c4",
   "metadata": {},
   "outputs": [
    {
     "data": {
      "text/plain": [
       "False"
      ]
     },
     "execution_count": 160,
     "metadata": {},
     "output_type": "execute_result"
    }
   ],
   "source": [
    "name.isalpha()"
   ]
  },
  {
   "cell_type": "code",
   "execution_count": 161,
   "id": "f8c9854d",
   "metadata": {},
   "outputs": [],
   "source": [
    "name1=\"RaghulRamesh\""
   ]
  },
  {
   "cell_type": "code",
   "execution_count": 163,
   "id": "3543a4a8",
   "metadata": {},
   "outputs": [
    {
     "data": {
      "text/plain": [
       "True"
      ]
     },
     "execution_count": 163,
     "metadata": {},
     "output_type": "execute_result"
    }
   ],
   "source": [
    "name1.isalpha()"
   ]
  },
  {
   "cell_type": "code",
   "execution_count": 164,
   "id": "15253f1b",
   "metadata": {},
   "outputs": [],
   "source": [
    "age=\"37\""
   ]
  },
  {
   "cell_type": "code",
   "execution_count": 165,
   "id": "5ad66000",
   "metadata": {},
   "outputs": [
    {
     "data": {
      "text/plain": [
       "True"
      ]
     },
     "execution_count": 165,
     "metadata": {},
     "output_type": "execute_result"
    }
   ],
   "source": [
    "age.isdecimal()"
   ]
  },
  {
   "cell_type": "code",
   "execution_count": 166,
   "id": "147ff7bd",
   "metadata": {},
   "outputs": [
    {
     "data": {
      "text/plain": [
       "True"
      ]
     },
     "execution_count": 166,
     "metadata": {},
     "output_type": "execute_result"
    }
   ],
   "source": [
    "age.isdigit()"
   ]
  },
  {
   "cell_type": "code",
   "execution_count": 167,
   "id": "a6685e2c",
   "metadata": {},
   "outputs": [
    {
     "data": {
      "text/plain": [
       "'Raghul Ramesh'"
      ]
     },
     "execution_count": 167,
     "metadata": {},
     "output_type": "execute_result"
    }
   ],
   "source": [
    "name"
   ]
  },
  {
   "cell_type": "code",
   "execution_count": 168,
   "id": "5bd9bea6",
   "metadata": {},
   "outputs": [
    {
     "data": {
      "text/plain": [
       "1"
      ]
     },
     "execution_count": 168,
     "metadata": {},
     "output_type": "execute_result"
    }
   ],
   "source": [
    "name.index('a')"
   ]
  },
  {
   "cell_type": "code",
   "execution_count": 169,
   "id": "6ff492b1",
   "metadata": {},
   "outputs": [
    {
     "data": {
      "text/plain": [
       "8"
      ]
     },
     "execution_count": 169,
     "metadata": {},
     "output_type": "execute_result"
    }
   ],
   "source": [
    "name.index('a',2)"
   ]
  },
  {
   "cell_type": "code",
   "execution_count": 170,
   "id": "e70b7324",
   "metadata": {},
   "outputs": [
    {
     "data": {
      "text/plain": [
       "7"
      ]
     },
     "execution_count": 170,
     "metadata": {},
     "output_type": "execute_result"
    }
   ],
   "source": [
    "name.index('Ram')"
   ]
  },
  {
   "cell_type": "code",
   "execution_count": 171,
   "id": "d5d0db7d",
   "metadata": {},
   "outputs": [
    {
     "ename": "ValueError",
     "evalue": "substring not found",
     "output_type": "error",
     "traceback": [
      "\u001b[1;31m---------------------------------------------------------------------------\u001b[0m",
      "\u001b[1;31mValueError\u001b[0m                                Traceback (most recent call last)",
      "Input \u001b[1;32mIn [171]\u001b[0m, in \u001b[0;36m<cell line: 1>\u001b[1;34m()\u001b[0m\n\u001b[1;32m----> 1\u001b[0m \u001b[43mname\u001b[49m\u001b[38;5;241;43m.\u001b[39;49m\u001b[43mindex\u001b[49m\u001b[43m(\u001b[49m\u001b[38;5;124;43m'\u001b[39;49m\u001b[38;5;124;43mz\u001b[39;49m\u001b[38;5;124;43m'\u001b[39;49m\u001b[43m)\u001b[49m\n",
      "\u001b[1;31mValueError\u001b[0m: substring not found"
     ]
    }
   ],
   "source": [
    "name.index('z')"
   ]
  },
  {
   "cell_type": "code",
   "execution_count": 172,
   "id": "5a999a05",
   "metadata": {},
   "outputs": [
    {
     "data": {
      "text/plain": [
       "'Raghul Ramesh'"
      ]
     },
     "execution_count": 172,
     "metadata": {},
     "output_type": "execute_result"
    }
   ],
   "source": [
    "name"
   ]
  },
  {
   "cell_type": "code",
   "execution_count": 173,
   "id": "e4e50463",
   "metadata": {},
   "outputs": [
    {
     "data": {
      "text/plain": [
       "1"
      ]
     },
     "execution_count": 173,
     "metadata": {},
     "output_type": "execute_result"
    }
   ],
   "source": [
    "name.find('a')"
   ]
  },
  {
   "cell_type": "code",
   "execution_count": 174,
   "id": "2748eff3",
   "metadata": {},
   "outputs": [
    {
     "data": {
      "text/plain": [
       "8"
      ]
     },
     "execution_count": 174,
     "metadata": {},
     "output_type": "execute_result"
    }
   ],
   "source": [
    "name.find('a',2)"
   ]
  },
  {
   "cell_type": "code",
   "execution_count": 175,
   "id": "0c2c0d9f",
   "metadata": {},
   "outputs": [
    {
     "data": {
      "text/plain": [
       "7"
      ]
     },
     "execution_count": 175,
     "metadata": {},
     "output_type": "execute_result"
    }
   ],
   "source": [
    "name.find('Ram')"
   ]
  },
  {
   "cell_type": "code",
   "execution_count": 176,
   "id": "356c65b6",
   "metadata": {},
   "outputs": [
    {
     "data": {
      "text/plain": [
       "-1"
      ]
     },
     "execution_count": 176,
     "metadata": {},
     "output_type": "execute_result"
    }
   ],
   "source": [
    "name.find('z')"
   ]
  },
  {
   "cell_type": "code",
   "execution_count": 189,
   "id": "1b9b7ae4",
   "metadata": {},
   "outputs": [
    {
     "data": {
      "text/plain": [
       "'Raghul Ramesh'"
      ]
     },
     "execution_count": 189,
     "metadata": {},
     "output_type": "execute_result"
    }
   ],
   "source": [
    "name"
   ]
  },
  {
   "cell_type": "code",
   "execution_count": 190,
   "id": "5fd865c4",
   "metadata": {},
   "outputs": [
    {
     "data": {
      "text/plain": [
       "1"
      ]
     },
     "execution_count": 190,
     "metadata": {},
     "output_type": "execute_result"
    }
   ],
   "source": [
    "name.index('a')"
   ]
  },
  {
   "cell_type": "code",
   "execution_count": 191,
   "id": "53c66ed4",
   "metadata": {},
   "outputs": [
    {
     "data": {
      "text/plain": [
       "8"
      ]
     },
     "execution_count": 191,
     "metadata": {},
     "output_type": "execute_result"
    }
   ],
   "source": [
    "name.rindex('a')"
   ]
  },
  {
   "cell_type": "code",
   "execution_count": 192,
   "id": "ccbd0ddc",
   "metadata": {},
   "outputs": [
    {
     "data": {
      "text/plain": [
       "1"
      ]
     },
     "execution_count": 192,
     "metadata": {},
     "output_type": "execute_result"
    }
   ],
   "source": [
    "name.find('a')"
   ]
  },
  {
   "cell_type": "code",
   "execution_count": 193,
   "id": "ac3b593e",
   "metadata": {},
   "outputs": [
    {
     "data": {
      "text/plain": [
       "8"
      ]
     },
     "execution_count": 193,
     "metadata": {},
     "output_type": "execute_result"
    }
   ],
   "source": [
    "name.rfind('a')"
   ]
  },
  {
   "cell_type": "code",
   "execution_count": 177,
   "id": "e295b19c",
   "metadata": {},
   "outputs": [],
   "source": [
    "#center , ljust, rjust"
   ]
  },
  {
   "cell_type": "code",
   "execution_count": 178,
   "id": "bbc039d2",
   "metadata": {},
   "outputs": [
    {
     "data": {
      "text/plain": [
       "'Raghul Ramesh'"
      ]
     },
     "execution_count": 178,
     "metadata": {},
     "output_type": "execute_result"
    }
   ],
   "source": [
    "name"
   ]
  },
  {
   "cell_type": "code",
   "execution_count": 179,
   "id": "3eb57468",
   "metadata": {},
   "outputs": [
    {
     "data": {
      "text/plain": [
       "'                  Raghul Ramesh                   '"
      ]
     },
     "execution_count": 179,
     "metadata": {},
     "output_type": "execute_result"
    }
   ],
   "source": [
    "name.center(50)"
   ]
  },
  {
   "cell_type": "code",
   "execution_count": 183,
   "id": "6410b5ca",
   "metadata": {},
   "outputs": [
    {
     "data": {
      "text/plain": [
       "'##################Raghul Ramesh###################'"
      ]
     },
     "execution_count": 183,
     "metadata": {},
     "output_type": "execute_result"
    }
   ],
   "source": [
    "name.center(50,'#')"
   ]
  },
  {
   "cell_type": "code",
   "execution_count": 184,
   "id": "3277a61c",
   "metadata": {},
   "outputs": [
    {
     "data": {
      "text/plain": [
       "'Raghul Ramesh#####################################'"
      ]
     },
     "execution_count": 184,
     "metadata": {},
     "output_type": "execute_result"
    }
   ],
   "source": [
    "name.ljust(50,'#')"
   ]
  },
  {
   "cell_type": "code",
   "execution_count": 185,
   "id": "2352e51e",
   "metadata": {},
   "outputs": [
    {
     "data": {
      "text/plain": [
       "'Raghul Ramesh                                     '"
      ]
     },
     "execution_count": 185,
     "metadata": {},
     "output_type": "execute_result"
    }
   ],
   "source": [
    "name.ljust(50)"
   ]
  },
  {
   "cell_type": "code",
   "execution_count": 186,
   "id": "6a56bdc3",
   "metadata": {},
   "outputs": [
    {
     "data": {
      "text/plain": [
       "'Raghul Ramesh_____________________________________'"
      ]
     },
     "execution_count": 186,
     "metadata": {},
     "output_type": "execute_result"
    }
   ],
   "source": [
    "name.ljust(50,'_')"
   ]
  },
  {
   "cell_type": "code",
   "execution_count": 187,
   "id": "b28e9faf",
   "metadata": {},
   "outputs": [
    {
     "data": {
      "text/plain": [
       "'#####################################Raghul Ramesh'"
      ]
     },
     "execution_count": 187,
     "metadata": {},
     "output_type": "execute_result"
    }
   ],
   "source": [
    "name.rjust(50,'#')"
   ]
  },
  {
   "cell_type": "code",
   "execution_count": 188,
   "id": "5875b0a5",
   "metadata": {},
   "outputs": [
    {
     "data": {
      "text/plain": [
       "'_____________________________________Raghul Ramesh'"
      ]
     },
     "execution_count": 188,
     "metadata": {},
     "output_type": "execute_result"
    }
   ],
   "source": [
    "name.rjust(50,'_')"
   ]
  },
  {
   "cell_type": "code",
   "execution_count": 194,
   "id": "7c95ecc6",
   "metadata": {},
   "outputs": [],
   "source": [
    "#strip rstrip lstrip"
   ]
  },
  {
   "cell_type": "code",
   "execution_count": 195,
   "id": "d7299bfe",
   "metadata": {},
   "outputs": [],
   "source": [
    "name=\"    Raghul Ramesh    \""
   ]
  },
  {
   "cell_type": "code",
   "execution_count": 196,
   "id": "9d8c6bd4",
   "metadata": {},
   "outputs": [
    {
     "data": {
      "text/plain": [
       "'    Raghul Ramesh    '"
      ]
     },
     "execution_count": 196,
     "metadata": {},
     "output_type": "execute_result"
    }
   ],
   "source": [
    "name"
   ]
  },
  {
   "cell_type": "code",
   "execution_count": 197,
   "id": "05deda52",
   "metadata": {},
   "outputs": [
    {
     "data": {
      "text/plain": [
       "'Raghul Ramesh'"
      ]
     },
     "execution_count": 197,
     "metadata": {},
     "output_type": "execute_result"
    }
   ],
   "source": [
    "name.strip()"
   ]
  },
  {
   "cell_type": "code",
   "execution_count": 198,
   "id": "06431caf",
   "metadata": {},
   "outputs": [
    {
     "data": {
      "text/plain": [
       "'Raghul Ramesh    '"
      ]
     },
     "execution_count": 198,
     "metadata": {},
     "output_type": "execute_result"
    }
   ],
   "source": [
    "name.lstrip()"
   ]
  },
  {
   "cell_type": "code",
   "execution_count": 199,
   "id": "942fa6fb",
   "metadata": {},
   "outputs": [
    {
     "data": {
      "text/plain": [
       "'    Raghul Ramesh'"
      ]
     },
     "execution_count": 199,
     "metadata": {},
     "output_type": "execute_result"
    }
   ],
   "source": [
    "name.rstrip()   #Strip will remove the last(prefix-suffix) characters if it is space or new line character"
   ]
  },
  {
   "cell_type": "code",
   "execution_count": 200,
   "id": "992efc79",
   "metadata": {},
   "outputs": [],
   "source": [
    "city=\"CHENNAI\""
   ]
  },
  {
   "cell_type": "code",
   "execution_count": 201,
   "id": "8c18527b",
   "metadata": {},
   "outputs": [
    {
     "data": {
      "text/plain": [
       "'CHENNAI'"
      ]
     },
     "execution_count": 201,
     "metadata": {},
     "output_type": "execute_result"
    }
   ],
   "source": [
    "city.strip()"
   ]
  },
  {
   "cell_type": "code",
   "execution_count": 202,
   "id": "8b020837",
   "metadata": {},
   "outputs": [
    {
     "data": {
      "text/plain": [
       "'CHENNAI'"
      ]
     },
     "execution_count": 202,
     "metadata": {},
     "output_type": "execute_result"
    }
   ],
   "source": [
    "city.lstrip()"
   ]
  },
  {
   "cell_type": "code",
   "execution_count": 203,
   "id": "56ff3c9e",
   "metadata": {},
   "outputs": [
    {
     "data": {
      "text/plain": [
       "'CHENNAI'"
      ]
     },
     "execution_count": 203,
     "metadata": {},
     "output_type": "execute_result"
    }
   ],
   "source": [
    "city.rstrip()"
   ]
  },
  {
   "cell_type": "code",
   "execution_count": 204,
   "id": "1bcf464f",
   "metadata": {},
   "outputs": [],
   "source": [
    "#replace translate"
   ]
  },
  {
   "cell_type": "code",
   "execution_count": 205,
   "id": "a3e99f15",
   "metadata": {},
   "outputs": [],
   "source": [
    "trainer=\"Raghul Ramesh from Chennai\""
   ]
  },
  {
   "cell_type": "code",
   "execution_count": 206,
   "id": "021f7a3b",
   "metadata": {},
   "outputs": [
    {
     "data": {
      "text/plain": [
       "'Raghul Ramesh from Chennai'"
      ]
     },
     "execution_count": 206,
     "metadata": {},
     "output_type": "execute_result"
    }
   ],
   "source": [
    "trainer"
   ]
  },
  {
   "cell_type": "code",
   "execution_count": 208,
   "id": "0de6f6d5",
   "metadata": {},
   "outputs": [
    {
     "data": {
      "text/plain": [
       "'Raghul Ramesh from India'"
      ]
     },
     "execution_count": 208,
     "metadata": {},
     "output_type": "execute_result"
    }
   ],
   "source": [
    "trainer.replace('Chennai','India')"
   ]
  },
  {
   "cell_type": "code",
   "execution_count": 209,
   "id": "f8e73972",
   "metadata": {},
   "outputs": [],
   "source": [
    "company=\"C#a$p!ge(m#i!n_)i\""
   ]
  },
  {
   "cell_type": "code",
   "execution_count": 215,
   "id": "ac3002ef",
   "metadata": {},
   "outputs": [
    {
     "data": {
      "text/plain": [
       "'Capgemini'"
      ]
     },
     "execution_count": 215,
     "metadata": {},
     "output_type": "execute_result"
    }
   ],
   "source": [
    "company.replace('#','').replace('$','').replace('!','').replace('(','').replace('_','').replace(')','')"
   ]
  },
  {
   "cell_type": "code",
   "execution_count": 216,
   "id": "6f338194",
   "metadata": {},
   "outputs": [
    {
     "data": {
      "text/plain": [
       "'C#a$p!ge(m#i!n_)i'"
      ]
     },
     "execution_count": 216,
     "metadata": {},
     "output_type": "execute_result"
    }
   ],
   "source": [
    "company"
   ]
  },
  {
   "cell_type": "code",
   "execution_count": 219,
   "id": "c9d8a54d",
   "metadata": {},
   "outputs": [
    {
     "data": {
      "text/plain": [
       "'Raghul Ramesh from Chennai'"
      ]
     },
     "execution_count": 219,
     "metadata": {},
     "output_type": "execute_result"
    }
   ],
   "source": [
    "trainer.replace('ae','AE')"
   ]
  },
  {
   "cell_type": "code",
   "execution_count": 220,
   "id": "17489be3",
   "metadata": {},
   "outputs": [
    {
     "data": {
      "text/plain": [
       "97"
      ]
     },
     "execution_count": 220,
     "metadata": {},
     "output_type": "execute_result"
    }
   ],
   "source": [
    "ord('a')"
   ]
  },
  {
   "cell_type": "code",
   "execution_count": 221,
   "id": "47b6d2ac",
   "metadata": {},
   "outputs": [
    {
     "data": {
      "text/plain": [
       "65"
      ]
     },
     "execution_count": 221,
     "metadata": {},
     "output_type": "execute_result"
    }
   ],
   "source": [
    "ord('A')"
   ]
  },
  {
   "cell_type": "code",
   "execution_count": 222,
   "id": "c1ef3c04",
   "metadata": {},
   "outputs": [
    {
     "data": {
      "text/plain": [
       "101"
      ]
     },
     "execution_count": 222,
     "metadata": {},
     "output_type": "execute_result"
    }
   ],
   "source": [
    "ord('e')"
   ]
  },
  {
   "cell_type": "code",
   "execution_count": 223,
   "id": "3be4dcaa",
   "metadata": {},
   "outputs": [
    {
     "data": {
      "text/plain": [
       "69"
      ]
     },
     "execution_count": 223,
     "metadata": {},
     "output_type": "execute_result"
    }
   ],
   "source": [
    "ord('E')"
   ]
  },
  {
   "cell_type": "code",
   "execution_count": 224,
   "id": "9abd5297",
   "metadata": {},
   "outputs": [
    {
     "data": {
      "text/plain": [
       "'RAghul RAmEsh from ChEnnAi'"
      ]
     },
     "execution_count": 224,
     "metadata": {},
     "output_type": "execute_result"
    }
   ],
   "source": [
    "trainer.translate({97:65,101:69})"
   ]
  },
  {
   "cell_type": "code",
   "execution_count": 227,
   "id": "810cfdae",
   "metadata": {},
   "outputs": [],
   "source": [
    "cng=trainer.maketrans('abcdefghij','ABCDEFGHIJ')"
   ]
  },
  {
   "cell_type": "code",
   "execution_count": 228,
   "id": "a6ce8141",
   "metadata": {},
   "outputs": [
    {
     "data": {
      "text/plain": [
       "'RAGHul RAmEsH From CHEnnAI'"
      ]
     },
     "execution_count": 228,
     "metadata": {},
     "output_type": "execute_result"
    }
   ],
   "source": [
    "trainer.translate(cng)"
   ]
  },
  {
   "cell_type": "code",
   "execution_count": 229,
   "id": "4787839d",
   "metadata": {},
   "outputs": [
    {
     "data": {
      "text/plain": [
       "'C#a$p!ge(m#i!n_)i'"
      ]
     },
     "execution_count": 229,
     "metadata": {},
     "output_type": "execute_result"
    }
   ],
   "source": [
    "company"
   ]
  },
  {
   "cell_type": "code",
   "execution_count": 230,
   "id": "53f36339",
   "metadata": {},
   "outputs": [],
   "source": [
    "change=company.maketrans('~!@#$%^&*()_+-','______________')"
   ]
  },
  {
   "cell_type": "code",
   "execution_count": 233,
   "id": "8905e864",
   "metadata": {},
   "outputs": [],
   "source": [
    "change={126: None,\n",
    " 33: None,\n",
    " 64: None,\n",
    " 35: None,\n",
    " 36: None,\n",
    " 37: None,\n",
    " 94: None,\n",
    " 38: None,\n",
    " 42: None,\n",
    " 40: None,\n",
    " 41: None,\n",
    " 95: None,\n",
    " 43: None,\n",
    " 45: None}"
   ]
  },
  {
   "cell_type": "code",
   "execution_count": 234,
   "id": "83ccbb56",
   "metadata": {},
   "outputs": [
    {
     "data": {
      "text/plain": [
       "'Capgemini'"
      ]
     },
     "execution_count": 234,
     "metadata": {},
     "output_type": "execute_result"
    }
   ],
   "source": [
    "company.translate(change)"
   ]
  },
  {
   "cell_type": "code",
   "execution_count": 235,
   "id": "63dfbc36",
   "metadata": {},
   "outputs": [],
   "source": [
    "city=\"Chennai-Bangalore-Hyderabad-Mumbai-Pune-Delhi-Kolkatta\""
   ]
  },
  {
   "cell_type": "code",
   "execution_count": 237,
   "id": "43e885ab",
   "metadata": {},
   "outputs": [],
   "source": [
    "city_info=city.split('-')"
   ]
  },
  {
   "cell_type": "code",
   "execution_count": 238,
   "id": "58a94b40",
   "metadata": {},
   "outputs": [
    {
     "data": {
      "text/plain": [
       "['Chennai', 'Bangalore', 'Hyderabad', 'Mumbai', 'Pune', 'Delhi', 'Kolkatta']"
      ]
     },
     "execution_count": 238,
     "metadata": {},
     "output_type": "execute_result"
    }
   ],
   "source": [
    "city_info"
   ]
  },
  {
   "cell_type": "code",
   "execution_count": 241,
   "id": "3713b160",
   "metadata": {},
   "outputs": [
    {
     "data": {
      "text/plain": [
       "'Chennai~Bangalore~Hyderabad~Mumbai~Pune~Delhi~Kolkatta'"
      ]
     },
     "execution_count": 241,
     "metadata": {},
     "output_type": "execute_result"
    }
   ],
   "source": [
    "\"~\".join(city_info)"
   ]
  },
  {
   "cell_type": "code",
   "execution_count": 242,
   "id": "4f8298bf",
   "metadata": {},
   "outputs": [
    {
     "data": {
      "text/plain": [
       "'Chennai-Bangalore-Hyderabad-Mumbai-Pune-Delhi-Kolkatta'"
      ]
     },
     "execution_count": 242,
     "metadata": {},
     "output_type": "execute_result"
    }
   ],
   "source": [
    "city"
   ]
  },
  {
   "cell_type": "code",
   "execution_count": 244,
   "id": "ebc0543b",
   "metadata": {},
   "outputs": [
    {
     "data": {
      "text/plain": [
       "('Chennai', '-', 'Bangalore-Hyderabad-Mumbai-Pune-Delhi-Kolkatta')"
      ]
     },
     "execution_count": 244,
     "metadata": {},
     "output_type": "execute_result"
    }
   ],
   "source": [
    "city.partition(\"-\")"
   ]
  },
  {
   "cell_type": "code",
   "execution_count": 245,
   "id": "3a90da2b",
   "metadata": {},
   "outputs": [
    {
     "data": {
      "text/plain": [
       "('Chennai-Bangalore-Hyderabad-Mumbai-Pune-Delhi', '-', 'Kolkatta')"
      ]
     },
     "execution_count": 245,
     "metadata": {},
     "output_type": "execute_result"
    }
   ],
   "source": [
    "city.rpartition(\"-\")"
   ]
  },
  {
   "cell_type": "code",
   "execution_count": 246,
   "id": "662b5692",
   "metadata": {},
   "outputs": [],
   "source": [
    "salary=\"10000\""
   ]
  },
  {
   "cell_type": "code",
   "execution_count": 249,
   "id": "790699ae",
   "metadata": {},
   "outputs": [
    {
     "data": {
      "text/plain": [
       "'1000000000'"
      ]
     },
     "execution_count": 249,
     "metadata": {},
     "output_type": "execute_result"
    }
   ],
   "source": [
    "salary.ljust(10,'0')"
   ]
  },
  {
   "cell_type": "code",
   "execution_count": 250,
   "id": "665849ed",
   "metadata": {},
   "outputs": [
    {
     "data": {
      "text/plain": [
       "'0000010000'"
      ]
     },
     "execution_count": 250,
     "metadata": {},
     "output_type": "execute_result"
    }
   ],
   "source": [
    "salary.rjust(10,'0')"
   ]
  },
  {
   "cell_type": "code",
   "execution_count": 251,
   "id": "519eb9bc",
   "metadata": {},
   "outputs": [
    {
     "data": {
      "text/plain": [
       "'0010000000'"
      ]
     },
     "execution_count": 251,
     "metadata": {},
     "output_type": "execute_result"
    }
   ],
   "source": [
    "salary.center(10,'0')"
   ]
  },
  {
   "cell_type": "code",
   "execution_count": 252,
   "id": "36e353b1",
   "metadata": {},
   "outputs": [
    {
     "data": {
      "text/plain": [
       "'0000010000'"
      ]
     },
     "execution_count": 252,
     "metadata": {},
     "output_type": "execute_result"
    }
   ],
   "source": [
    "salary.zfill(10)"
   ]
  },
  {
   "cell_type": "code",
   "execution_count": null,
   "id": "ebea7233",
   "metadata": {},
   "outputs": [],
   "source": []
  }
 ],
 "metadata": {
  "kernelspec": {
   "display_name": "Python 3 (ipykernel)",
   "language": "python",
   "name": "python3"
  },
  "language_info": {
   "codemirror_mode": {
    "name": "ipython",
    "version": 3
   },
   "file_extension": ".py",
   "mimetype": "text/x-python",
   "name": "python",
   "nbconvert_exporter": "python",
   "pygments_lexer": "ipython3",
   "version": "3.10.4"
  }
 },
 "nbformat": 4,
 "nbformat_minor": 5
}
