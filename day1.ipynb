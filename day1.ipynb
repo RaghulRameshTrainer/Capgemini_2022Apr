{
 "cells": [
  {
   "cell_type": "markdown",
   "id": "4d70ebd1",
   "metadata": {},
   "source": [
    "'''\n",
    "Python is a high-level, dynamic, procedural, object oriented programming language\n",
    "'''"
   ]
  },
  {
   "cell_type": "markdown",
   "id": "60ed035a",
   "metadata": {},
   "source": [
    "# Difference b/w ' | \" | ''' , \"\"\""
   ]
  },
  {
   "cell_type": "code",
   "execution_count": 1,
   "id": "c0c2b69f",
   "metadata": {},
   "outputs": [
    {
     "data": {
      "text/plain": [
       "30"
      ]
     },
     "execution_count": 1,
     "metadata": {},
     "output_type": "execute_result"
    }
   ],
   "source": [
    "x=10\n",
    "y=20\n",
    "x+y"
   ]
  },
  {
   "cell_type": "code",
   "execution_count": 2,
   "id": "6e7200bd",
   "metadata": {},
   "outputs": [
    {
     "data": {
      "text/plain": [
       "30"
      ]
     },
     "execution_count": 2,
     "metadata": {},
     "output_type": "execute_result"
    }
   ],
   "source": [
    "x=10\n",
    "y=20    # Shift + Enter\n",
    "x+y"
   ]
  },
  {
   "cell_type": "code",
   "execution_count": 3,
   "id": "2c7077ff",
   "metadata": {},
   "outputs": [
    {
     "data": {
      "text/plain": [
       "30"
      ]
     },
     "execution_count": 3,
     "metadata": {},
     "output_type": "execute_result"
    }
   ],
   "source": [
    "x=10\n",
    "y=20    #Ctrl+Enter\n",
    "x+y"
   ]
  },
  {
   "cell_type": "code",
   "execution_count": 4,
   "id": "b8b0d7cd",
   "metadata": {},
   "outputs": [],
   "source": [
    "name=\"Raghul Ramesh\""
   ]
  },
  {
   "cell_type": "code",
   "execution_count": 5,
   "id": "8ce9d742",
   "metadata": {},
   "outputs": [
    {
     "data": {
      "text/plain": [
       "'Raghul Ramesh'"
      ]
     },
     "execution_count": 5,
     "metadata": {},
     "output_type": "execute_result"
    }
   ],
   "source": [
    "name"
   ]
  },
  {
   "cell_type": "code",
   "execution_count": 6,
   "id": "5e652861",
   "metadata": {},
   "outputs": [],
   "source": [
    "name='Raghul Ramesh'"
   ]
  },
  {
   "cell_type": "code",
   "execution_count": 7,
   "id": "2ec1b757",
   "metadata": {},
   "outputs": [
    {
     "data": {
      "text/plain": [
       "'Raghul Ramesh'"
      ]
     },
     "execution_count": 7,
     "metadata": {},
     "output_type": "execute_result"
    }
   ],
   "source": [
    "name"
   ]
  },
  {
   "cell_type": "code",
   "execution_count": 9,
   "id": "616d50c3",
   "metadata": {},
   "outputs": [],
   "source": [
    "college=\"St's joseph Engg college\""
   ]
  },
  {
   "cell_type": "code",
   "execution_count": 10,
   "id": "15ac931a",
   "metadata": {},
   "outputs": [
    {
     "name": "stdout",
     "output_type": "stream",
     "text": [
      "St's joseph Engg college\n"
     ]
    }
   ],
   "source": [
    "print(college)"
   ]
  },
  {
   "cell_type": "code",
   "execution_count": 12,
   "id": "490de892",
   "metadata": {},
   "outputs": [],
   "source": [
    "weekend_plan= 'Booked for \"Beast\" Movie for this weekend'"
   ]
  },
  {
   "cell_type": "code",
   "execution_count": 13,
   "id": "7188a5fe",
   "metadata": {},
   "outputs": [
    {
     "name": "stdout",
     "output_type": "stream",
     "text": [
      "Booked for \"Beast\" Movie for this weekend\n"
     ]
    }
   ],
   "source": [
    "print(weekend_plan)"
   ]
  },
  {
   "cell_type": "code",
   "execution_count": 14,
   "id": "158ba54f",
   "metadata": {},
   "outputs": [],
   "source": [
    "college=\"St's joseph Engg college at \\\"CHENNAI\\\"\""
   ]
  },
  {
   "cell_type": "code",
   "execution_count": 15,
   "id": "31a4fd74",
   "metadata": {},
   "outputs": [
    {
     "name": "stdout",
     "output_type": "stream",
     "text": [
      "St's joseph Engg college at \"CHENNAI\"\n"
     ]
    }
   ],
   "source": [
    "print(college)"
   ]
  },
  {
   "cell_type": "code",
   "execution_count": 20,
   "id": "830c8688",
   "metadata": {},
   "outputs": [],
   "source": [
    "about_python=\"\"\"Python was developed by GUIDO VAN ROSSUM.\n",
    "HE IS FROM NETHERLAND.\n",
    "It was released on early 1990\n",
    "Made as open source from day 1\"\"\""
   ]
  },
  {
   "cell_type": "code",
   "execution_count": 21,
   "id": "1f8d36b4",
   "metadata": {},
   "outputs": [
    {
     "name": "stdout",
     "output_type": "stream",
     "text": [
      "Python was developed by GUIDO VAN ROSSUM.\n",
      "HE IS FROM NETHERLAND.\n",
      "It was released on early 1990\n",
      "Made as open source from day 1\n"
     ]
    }
   ],
   "source": [
    "print(about_python)"
   ]
  },
  {
   "cell_type": "code",
   "execution_count": 22,
   "id": "22e1b0aa",
   "metadata": {},
   "outputs": [],
   "source": [
    "#Python is a open source technology\n",
    "# Easy to learn\n",
    "# Easy to understand"
   ]
  },
  {
   "cell_type": "code",
   "execution_count": null,
   "id": "ad58bea4",
   "metadata": {},
   "outputs": [],
   "source": [
    "'''\n",
    "line1\n",
    "line2\n",
    "Python\n",
    "Java\n",
    "BigData\n",
    "'''"
   ]
  },
  {
   "cell_type": "markdown",
   "id": "55cb7e65",
   "metadata": {},
   "source": [
    "# CONTROL STATEMENT"
   ]
  },
  {
   "cell_type": "code",
   "execution_count": 23,
   "id": "a341ca32",
   "metadata": {},
   "outputs": [
    {
     "data": {
      "text/plain": [
       "'\\nSyntax:\\n\\nif condition:\\n    True statements\\nelif condition2\\n    Statements\\nelif condition3\\n    statement\\nelse:\\n    False \\n    \\n'"
      ]
     },
     "execution_count": 23,
     "metadata": {},
     "output_type": "execute_result"
    }
   ],
   "source": [
    "'''\n",
    "Syntax:\n",
    "\n",
    "if condition:\n",
    "    True statements\n",
    "elif condition2\n",
    "    Statements\n",
    "elif condition3\n",
    "    statement\n",
    "else:\n",
    "    False \n",
    "    \n",
    "'''"
   ]
  },
  {
   "cell_type": "code",
   "execution_count": 53,
   "id": "2162985c",
   "metadata": {},
   "outputs": [
    {
     "ename": "IndentationError",
     "evalue": "unindent does not match any outer indentation level (<tokenize>, line 8)",
     "output_type": "error",
     "traceback": [
      "\u001b[1;36m  File \u001b[1;32m<tokenize>:8\u001b[1;36m\u001b[0m\n\u001b[1;33m    print(\"I'm not part of if else statement\")\u001b[0m\n\u001b[1;37m    ^\u001b[0m\n\u001b[1;31mIndentationError\u001b[0m\u001b[1;31m:\u001b[0m unindent does not match any outer indentation level\n"
     ]
    }
   ],
   "source": [
    "x=10\n",
    "\n",
    "if x==10:\n",
    "    print('x is 10')\n",
    "else:\n",
    "    print('value of x has been changed to :',x)\n",
    "    print(\"Thanks\")\n",
    "print(\"I'm not part of if else statement\")"
   ]
  },
  {
   "cell_type": "code",
   "execution_count": 71,
   "id": "617c226c",
   "metadata": {},
   "outputs": [
    {
     "name": "stdout",
     "output_type": "stream",
     "text": [
      "Enter your age:37\n",
      "Variable type is :  <class 'int'>\n",
      "New age is :  47\n"
     ]
    }
   ],
   "source": [
    "age=int(input(\"Enter your age:\"))\n",
    "print(\"Variable type is : \", type(age))\n",
    "age=age+10\n",
    "print(\"New age is : \", age)"
   ]
  },
  {
   "cell_type": "code",
   "execution_count": 46,
   "id": "25c35705",
   "metadata": {},
   "outputs": [
    {
     "name": "stdout",
     "output_type": "stream",
     "text": [
      "Enter your age:17\n",
      " School Student\n"
     ]
    }
   ],
   "source": [
    "age=int(input(\"Enter your age:\"))\n",
    "\n",
    "if age < 18:\n",
    "    print(\" School Student\")\n",
    "elif age < 25:\n",
    "    print(\" Either college student or working\")\n",
    "elif age >= 25 and age < 60:\n",
    "    print(\"Working\")\n",
    "else:\n",
    "    print(\"Retried\")"
   ]
  },
  {
   "cell_type": "code",
   "execution_count": 49,
   "id": "b70c4779",
   "metadata": {},
   "outputs": [
    {
     "name": "stdout",
     "output_type": "stream",
     "text": [
      "Enter your country name:USA\n",
      "Enter your age:50\n",
      "Please follow your country: USA standard\n"
     ]
    }
   ],
   "source": [
    "country=input(\"Enter your country name:\")\n",
    "age=int(input(\"Enter your age:\"))\n",
    "\n",
    "if country == \"India\":\n",
    "    if age>18:\n",
    "        print(\"YOu can vote\")\n",
    "    else:\n",
    "        print(\"You can't vote\")\n",
    "else:\n",
    "    print(\"Please follow your country: {} standard\".format(country))"
   ]
  },
  {
   "cell_type": "markdown",
   "id": "4c842c1b",
   "metadata": {},
   "source": [
    "# LOOPS"
   ]
  },
  {
   "cell_type": "code",
   "execution_count": 54,
   "id": "60211b6d",
   "metadata": {},
   "outputs": [
    {
     "data": {
      "text/plain": [
       "'\\nWhile Loops\\nFor Loops\\n'"
      ]
     },
     "execution_count": 54,
     "metadata": {},
     "output_type": "execute_result"
    }
   ],
   "source": [
    "'''\n",
    "While Loops\n",
    "For Loops\n",
    "'''"
   ]
  },
  {
   "cell_type": "markdown",
   "id": "65e5d45a",
   "metadata": {},
   "source": [
    "## While loop"
   ]
  },
  {
   "cell_type": "code",
   "execution_count": null,
   "id": "ce48eb1f",
   "metadata": {},
   "outputs": [],
   "source": [
    "'''\n",
    "while condition:\n",
    "    statements\n",
    "else:\n",
    "    false statement\n",
    "'''"
   ]
  },
  {
   "cell_type": "code",
   "execution_count": 58,
   "id": "2da841fa",
   "metadata": {},
   "outputs": [
    {
     "name": "stdout",
     "output_type": "stream",
     "text": [
      "0\n",
      "1\n",
      "2\n",
      "3\n",
      "4\n",
      "5\n",
      "6\n",
      "7\n",
      "8\n",
      "9\n",
      "10\n",
      "Value of x is :  11\n"
     ]
    }
   ],
   "source": [
    "    x=0\n",
    "\n",
    "    while x<=10:\n",
    "        print(x)\n",
    "        x+=1\n",
    "    else:\n",
    "        print(\"Value of x is : \", x)"
   ]
  },
  {
   "cell_type": "markdown",
   "id": "a03817d7",
   "metadata": {},
   "source": [
    "## break and continue"
   ]
  },
  {
   "cell_type": "code",
   "execution_count": 59,
   "id": "cad0b56f",
   "metadata": {},
   "outputs": [
    {
     "name": "stdout",
     "output_type": "stream",
     "text": [
      "0\n",
      "1\n",
      "2\n",
      "3\n",
      "4\n",
      "I am not part of while loop!\n"
     ]
    }
   ],
   "source": [
    "x=0\n",
    "\n",
    "while x<=10:\n",
    "    if x==5:\n",
    "        break\n",
    "    print(x)\n",
    "    x+=1\n",
    "print(\"I am not part of while loop!\")"
   ]
  },
  {
   "cell_type": "code",
   "execution_count": 60,
   "id": "6be94d30",
   "metadata": {},
   "outputs": [
    {
     "name": "stdout",
     "output_type": "stream",
     "text": [
      "1\n",
      "2\n",
      "3\n",
      "4\n",
      "6\n",
      "7\n",
      "8\n",
      "9\n",
      "10\n",
      "11\n",
      "I am not part of while loop!\n"
     ]
    }
   ],
   "source": [
    "x=0\n",
    "\n",
    "while x<=10:\n",
    "    x+=1\n",
    "    if x==5:\n",
    "        continue\n",
    "    print(x)\n",
    "    \n",
    "print(\"I am not part of while loop!\")"
   ]
  },
  {
   "cell_type": "markdown",
   "id": "f64985ff",
   "metadata": {},
   "source": [
    "## FOR LOOP"
   ]
  },
  {
   "cell_type": "code",
   "execution_count": 62,
   "id": "5a6d1403",
   "metadata": {},
   "outputs": [
    {
     "name": "stdout",
     "output_type": "stream",
     "text": [
      "1 2 3 4 5 6 7 8 9 10 "
     ]
    }
   ],
   "source": [
    "for x in range(1,11):\n",
    "    print(x,end=' ')"
   ]
  },
  {
   "cell_type": "code",
   "execution_count": 63,
   "id": "2ab20d87",
   "metadata": {},
   "outputs": [],
   "source": [
    "city=['Chennai','Bangalore','Hyderabad','Mumbai','Delhi']"
   ]
  },
  {
   "cell_type": "code",
   "execution_count": 66,
   "id": "0cb8ef2b",
   "metadata": {},
   "outputs": [
    {
     "name": "stdout",
     "output_type": "stream",
     "text": [
      "Chennai-Bangalore-Hyderabad-Mumbai-Delhi-"
     ]
    }
   ],
   "source": [
    "for c in city:\n",
    "    print(c,end=\"-\")"
   ]
  },
  {
   "cell_type": "code",
   "execution_count": 67,
   "id": "153315ac",
   "metadata": {},
   "outputs": [],
   "source": [
    "data=['Raghul Ramesh',37,70.5,False,'India']"
   ]
  },
  {
   "cell_type": "code",
   "execution_count": 69,
   "id": "ea6b4704",
   "metadata": {},
   "outputs": [
    {
     "name": "stdout",
     "output_type": "stream",
     "text": [
      "Raghul Ramesh\n",
      "37\n",
      "70.5\n",
      "False\n",
      "India\n"
     ]
    }
   ],
   "source": [
    "for x in data:\n",
    "    print(x)"
   ]
  },
  {
   "cell_type": "code",
   "execution_count": null,
   "id": "0e945117",
   "metadata": {},
   "outputs": [],
   "source": [
    "'''\n",
    "DATA STRUCTURE:\n",
    "    Immutable\n",
    "        Numbers\n",
    "        Strings\n",
    "        Tuple\n",
    "    Mutable\n",
    "        List\n",
    "        Dictionary\n",
    "        Set\n",
    "'''"
   ]
  },
  {
   "cell_type": "markdown",
   "id": "90b69fa1",
   "metadata": {},
   "source": [
    "# NUMBERS"
   ]
  },
  {
   "cell_type": "code",
   "execution_count": 73,
   "id": "6145e186",
   "metadata": {},
   "outputs": [
    {
     "data": {
      "text/plain": [
       "'\\nOperators:\\n    Arithmetic\\n    Assignment\\n    Comparison\\n    Logical\\n    Bitwise\\n    Identity\\n    Membership\\n'"
      ]
     },
     "execution_count": 73,
     "metadata": {},
     "output_type": "execute_result"
    }
   ],
   "source": [
    "'''\n",
    "Operators:\n",
    "    Arithmetic\n",
    "    Assignment\n",
    "    Comparison\n",
    "    Logical\n",
    "    Bitwise\n",
    "    Identity\n",
    "    Membership\n",
    "'''"
   ]
  },
  {
   "cell_type": "markdown",
   "id": "285d0edd",
   "metadata": {},
   "source": [
    "## Arithmetic Operators"
   ]
  },
  {
   "cell_type": "code",
   "execution_count": 74,
   "id": "6f443bf2",
   "metadata": {},
   "outputs": [
    {
     "data": {
      "text/plain": [
       "11"
      ]
     },
     "execution_count": 74,
     "metadata": {},
     "output_type": "execute_result"
    }
   ],
   "source": [
    "5+6   "
   ]
  },
  {
   "cell_type": "code",
   "execution_count": 75,
   "id": "48793c41",
   "metadata": {},
   "outputs": [
    {
     "data": {
      "text/plain": [
       "-1"
      ]
     },
     "execution_count": 75,
     "metadata": {},
     "output_type": "execute_result"
    }
   ],
   "source": [
    "5-6"
   ]
  },
  {
   "cell_type": "code",
   "execution_count": 76,
   "id": "bf484c67",
   "metadata": {},
   "outputs": [
    {
     "data": {
      "text/plain": [
       "30"
      ]
     },
     "execution_count": 76,
     "metadata": {},
     "output_type": "execute_result"
    }
   ],
   "source": [
    "5*6"
   ]
  },
  {
   "cell_type": "code",
   "execution_count": 77,
   "id": "42a1a9c7",
   "metadata": {},
   "outputs": [
    {
     "data": {
      "text/plain": [
       "0.8333333333333334"
      ]
     },
     "execution_count": 77,
     "metadata": {},
     "output_type": "execute_result"
    }
   ],
   "source": [
    "5/6"
   ]
  },
  {
   "cell_type": "code",
   "execution_count": 78,
   "id": "c151f768",
   "metadata": {},
   "outputs": [
    {
     "data": {
      "text/plain": [
       "125"
      ]
     },
     "execution_count": 78,
     "metadata": {},
     "output_type": "execute_result"
    }
   ],
   "source": [
    "5**3    #Exponent"
   ]
  },
  {
   "cell_type": "code",
   "execution_count": 79,
   "id": "0785eaa9",
   "metadata": {},
   "outputs": [
    {
     "data": {
      "text/plain": [
       "2"
      ]
     },
     "execution_count": 79,
     "metadata": {},
     "output_type": "execute_result"
    }
   ],
   "source": [
    "5%3   #Modulus"
   ]
  },
  {
   "cell_type": "code",
   "execution_count": 80,
   "id": "e510265e",
   "metadata": {},
   "outputs": [
    {
     "data": {
      "text/plain": [
       "1"
      ]
     },
     "execution_count": 80,
     "metadata": {},
     "output_type": "execute_result"
    }
   ],
   "source": [
    "5//3  #Floor division"
   ]
  },
  {
   "cell_type": "code",
   "execution_count": 82,
   "id": "dacc84a2",
   "metadata": {},
   "outputs": [
    {
     "data": {
      "text/plain": [
       "25.0"
      ]
     },
     "execution_count": 82,
     "metadata": {},
     "output_type": "execute_result"
    }
   ],
   "source": [
    "5*6+3-2**(15/5)   #PEMDAS RULE"
   ]
  },
  {
   "cell_type": "markdown",
   "id": "8d84c4f1",
   "metadata": {},
   "source": [
    "# Assignment Operatos"
   ]
  },
  {
   "cell_type": "code",
   "execution_count": 83,
   "id": "c3bce7b0",
   "metadata": {},
   "outputs": [],
   "source": [
    "x=10"
   ]
  },
  {
   "cell_type": "code",
   "execution_count": 84,
   "id": "665537e0",
   "metadata": {},
   "outputs": [
    {
     "data": {
      "text/plain": [
       "10"
      ]
     },
     "execution_count": 84,
     "metadata": {},
     "output_type": "execute_result"
    }
   ],
   "source": [
    "x"
   ]
  },
  {
   "cell_type": "code",
   "execution_count": 85,
   "id": "035d9171",
   "metadata": {},
   "outputs": [],
   "source": [
    "y=x"
   ]
  },
  {
   "cell_type": "code",
   "execution_count": 86,
   "id": "b9c2fb82",
   "metadata": {},
   "outputs": [
    {
     "data": {
      "text/plain": [
       "10"
      ]
     },
     "execution_count": 86,
     "metadata": {},
     "output_type": "execute_result"
    }
   ],
   "source": [
    "y"
   ]
  },
  {
   "cell_type": "code",
   "execution_count": 87,
   "id": "0f586c5b",
   "metadata": {},
   "outputs": [],
   "source": [
    "z=x+y+10"
   ]
  },
  {
   "cell_type": "code",
   "execution_count": 88,
   "id": "c202a8cc",
   "metadata": {},
   "outputs": [
    {
     "data": {
      "text/plain": [
       "30"
      ]
     },
     "execution_count": 88,
     "metadata": {},
     "output_type": "execute_result"
    }
   ],
   "source": [
    "z"
   ]
  },
  {
   "cell_type": "code",
   "execution_count": 89,
   "id": "a5f9cdfe",
   "metadata": {},
   "outputs": [],
   "source": [
    "r=x*y/50"
   ]
  },
  {
   "cell_type": "code",
   "execution_count": 90,
   "id": "47054762",
   "metadata": {},
   "outputs": [
    {
     "data": {
      "text/plain": [
       "2.0"
      ]
     },
     "execution_count": 90,
     "metadata": {},
     "output_type": "execute_result"
    }
   ],
   "source": [
    "r"
   ]
  },
  {
   "cell_type": "markdown",
   "id": "9dae65e7",
   "metadata": {},
   "source": [
    "# Comparison Opearators"
   ]
  },
  {
   "cell_type": "code",
   "execution_count": 91,
   "id": "0a3e6623",
   "metadata": {},
   "outputs": [],
   "source": [
    "x=10\n",
    "y=20"
   ]
  },
  {
   "cell_type": "code",
   "execution_count": 92,
   "id": "9b7504f7",
   "metadata": {},
   "outputs": [
    {
     "data": {
      "text/plain": [
       "False"
      ]
     },
     "execution_count": 92,
     "metadata": {},
     "output_type": "execute_result"
    }
   ],
   "source": [
    "x>y"
   ]
  },
  {
   "cell_type": "code",
   "execution_count": 93,
   "id": "020f9680",
   "metadata": {},
   "outputs": [
    {
     "data": {
      "text/plain": [
       "True"
      ]
     },
     "execution_count": 93,
     "metadata": {},
     "output_type": "execute_result"
    }
   ],
   "source": [
    "x<y"
   ]
  },
  {
   "cell_type": "code",
   "execution_count": 94,
   "id": "bb39e018",
   "metadata": {},
   "outputs": [
    {
     "data": {
      "text/plain": [
       "False"
      ]
     },
     "execution_count": 94,
     "metadata": {},
     "output_type": "execute_result"
    }
   ],
   "source": [
    "x==y"
   ]
  },
  {
   "cell_type": "code",
   "execution_count": 95,
   "id": "78090978",
   "metadata": {},
   "outputs": [
    {
     "data": {
      "text/plain": [
       "True"
      ]
     },
     "execution_count": 95,
     "metadata": {},
     "output_type": "execute_result"
    }
   ],
   "source": [
    "x!=y"
   ]
  },
  {
   "cell_type": "markdown",
   "id": "e5b2fadc",
   "metadata": {},
   "source": [
    "# Logical Operators"
   ]
  },
  {
   "cell_type": "code",
   "execution_count": 96,
   "id": "1422ba80",
   "metadata": {},
   "outputs": [
    {
     "data": {
      "text/plain": [
       "3"
      ]
     },
     "execution_count": 96,
     "metadata": {},
     "output_type": "execute_result"
    }
   ],
   "source": [
    "#x and y => return x if x is false , y otherwise\n",
    "2 and 3"
   ]
  },
  {
   "cell_type": "code",
   "execution_count": 97,
   "id": "514c206c",
   "metadata": {},
   "outputs": [
    {
     "data": {
      "text/plain": [
       "2"
      ]
     },
     "execution_count": 97,
     "metadata": {},
     "output_type": "execute_result"
    }
   ],
   "source": [
    "2 or 3"
   ]
  },
  {
   "cell_type": "code",
   "execution_count": 98,
   "id": "ed3eeadc",
   "metadata": {},
   "outputs": [
    {
     "data": {
      "text/plain": [
       "False"
      ]
     },
     "execution_count": 98,
     "metadata": {},
     "output_type": "execute_result"
    }
   ],
   "source": [
    "not 1"
   ]
  },
  {
   "cell_type": "code",
   "execution_count": 99,
   "id": "7e8d3d82",
   "metadata": {},
   "outputs": [
    {
     "data": {
      "text/plain": [
       "True"
      ]
     },
     "execution_count": 99,
     "metadata": {},
     "output_type": "execute_result"
    }
   ],
   "source": [
    "not 0"
   ]
  },
  {
   "cell_type": "markdown",
   "id": "8e371969",
   "metadata": {},
   "source": [
    "# Bitwise Operators"
   ]
  },
  {
   "cell_type": "code",
   "execution_count": 103,
   "id": "7d6c356f",
   "metadata": {},
   "outputs": [
    {
     "data": {
      "text/plain": [
       "5"
      ]
     },
     "execution_count": 103,
     "metadata": {},
     "output_type": "execute_result"
    }
   ],
   "source": [
    "# &(and) |(or) ^(XOR)\n",
    "\n",
    "5 & 7"
   ]
  },
  {
   "cell_type": "code",
   "execution_count": 102,
   "id": "a7f3098b",
   "metadata": {},
   "outputs": [
    {
     "data": {
      "text/plain": [
       "7"
      ]
     },
     "execution_count": 102,
     "metadata": {},
     "output_type": "execute_result"
    }
   ],
   "source": [
    "5 | 7"
   ]
  },
  {
   "cell_type": "code",
   "execution_count": 104,
   "id": "a27771a9",
   "metadata": {},
   "outputs": [
    {
     "data": {
      "text/plain": [
       "2"
      ]
     },
     "execution_count": 104,
     "metadata": {},
     "output_type": "execute_result"
    }
   ],
   "source": [
    "5 ^ 7"
   ]
  },
  {
   "cell_type": "markdown",
   "id": "05650080",
   "metadata": {},
   "source": [
    "# Identity Operators"
   ]
  },
  {
   "cell_type": "code",
   "execution_count": 105,
   "id": "e9236286",
   "metadata": {},
   "outputs": [],
   "source": [
    "x=10"
   ]
  },
  {
   "cell_type": "code",
   "execution_count": 106,
   "id": "10d8fbc3",
   "metadata": {},
   "outputs": [
    {
     "name": "stderr",
     "output_type": "stream",
     "text": [
      "<>:1: SyntaxWarning: \"is\" with a literal. Did you mean \"==\"?\n",
      "<>:1: SyntaxWarning: \"is\" with a literal. Did you mean \"==\"?\n",
      "C:\\Users\\RaghulRamesh\\AppData\\Local\\Temp\\ipykernel_11940\\2183931627.py:1: SyntaxWarning: \"is\" with a literal. Did you mean \"==\"?\n",
      "  x is 10\n"
     ]
    },
    {
     "data": {
      "text/plain": [
       "True"
      ]
     },
     "execution_count": 106,
     "metadata": {},
     "output_type": "execute_result"
    }
   ],
   "source": [
    "x is 10"
   ]
  },
  {
   "cell_type": "code",
   "execution_count": 107,
   "id": "52bb2796",
   "metadata": {},
   "outputs": [
    {
     "name": "stderr",
     "output_type": "stream",
     "text": [
      "<>:1: SyntaxWarning: \"is not\" with a literal. Did you mean \"!=\"?\n",
      "<>:1: SyntaxWarning: \"is not\" with a literal. Did you mean \"!=\"?\n",
      "C:\\Users\\RaghulRamesh\\AppData\\Local\\Temp\\ipykernel_11940\\3620244120.py:1: SyntaxWarning: \"is not\" with a literal. Did you mean \"!=\"?\n",
      "  x is not 100\n"
     ]
    },
    {
     "data": {
      "text/plain": [
       "True"
      ]
     },
     "execution_count": 107,
     "metadata": {},
     "output_type": "execute_result"
    }
   ],
   "source": [
    "x is not 100"
   ]
  },
  {
   "cell_type": "code",
   "execution_count": 108,
   "id": "4923dc62",
   "metadata": {},
   "outputs": [
    {
     "name": "stderr",
     "output_type": "stream",
     "text": [
      "<>:1: SyntaxWarning: \"is not\" with a literal. Did you mean \"!=\"?\n",
      "<>:1: SyntaxWarning: \"is not\" with a literal. Did you mean \"!=\"?\n",
      "C:\\Users\\RaghulRamesh\\AppData\\Local\\Temp\\ipykernel_11940\\1660080432.py:1: SyntaxWarning: \"is not\" with a literal. Did you mean \"!=\"?\n",
      "  x is not 10\n"
     ]
    },
    {
     "data": {
      "text/plain": [
       "False"
      ]
     },
     "execution_count": 108,
     "metadata": {},
     "output_type": "execute_result"
    }
   ],
   "source": [
    "x is not 10"
   ]
  },
  {
   "cell_type": "markdown",
   "id": "90735c27",
   "metadata": {},
   "source": [
    "# Membership Operator"
   ]
  },
  {
   "cell_type": "code",
   "execution_count": 109,
   "id": "7d209579",
   "metadata": {},
   "outputs": [],
   "source": [
    "nums=[1,24,535,5744,3,23,56,100,43,76,50,342,56,65,34,52]"
   ]
  },
  {
   "cell_type": "code",
   "execution_count": 110,
   "id": "57d03228",
   "metadata": {},
   "outputs": [
    {
     "data": {
      "text/plain": [
       "False"
      ]
     },
     "execution_count": 110,
     "metadata": {},
     "output_type": "execute_result"
    }
   ],
   "source": [
    "66 in nums"
   ]
  },
  {
   "cell_type": "code",
   "execution_count": 111,
   "id": "61d0d2ae",
   "metadata": {},
   "outputs": [
    {
     "data": {
      "text/plain": [
       "True"
      ]
     },
     "execution_count": 111,
     "metadata": {},
     "output_type": "execute_result"
    }
   ],
   "source": [
    "76 in nums"
   ]
  },
  {
   "cell_type": "code",
   "execution_count": 112,
   "id": "c592aada",
   "metadata": {},
   "outputs": [
    {
     "data": {
      "text/plain": [
       "False"
      ]
     },
     "execution_count": 112,
     "metadata": {},
     "output_type": "execute_result"
    }
   ],
   "source": [
    "100 not in nums"
   ]
  },
  {
   "cell_type": "code",
   "execution_count": 113,
   "id": "f7bd7d82",
   "metadata": {},
   "outputs": [
    {
     "data": {
      "text/plain": [
       "True"
      ]
     },
     "execution_count": 113,
     "metadata": {},
     "output_type": "execute_result"
    }
   ],
   "source": [
    "66 not in nums"
   ]
  },
  {
   "cell_type": "code",
   "execution_count": null,
   "id": "196bf187",
   "metadata": {},
   "outputs": [],
   "source": [
    "#True False None Class_names"
   ]
  },
  {
   "cell_type": "markdown",
   "id": "92d7a77a",
   "metadata": {},
   "source": [
    "# STRINGS"
   ]
  },
  {
   "cell_type": "code",
   "execution_count": 114,
   "id": "c0e86790",
   "metadata": {},
   "outputs": [],
   "source": [
    "name=\"Raghul Ramesh\"  # Strings are stored as indices based"
   ]
  },
  {
   "cell_type": "code",
   "execution_count": 115,
   "id": "cf1ba875",
   "metadata": {},
   "outputs": [
    {
     "data": {
      "text/plain": [
       "'R'"
      ]
     },
     "execution_count": 115,
     "metadata": {},
     "output_type": "execute_result"
    }
   ],
   "source": [
    "name[0]"
   ]
  },
  {
   "cell_type": "code",
   "execution_count": 116,
   "id": "1e61f185",
   "metadata": {},
   "outputs": [
    {
     "data": {
      "text/plain": [
       "'a'"
      ]
     },
     "execution_count": 116,
     "metadata": {},
     "output_type": "execute_result"
    }
   ],
   "source": [
    "name[1]"
   ]
  },
  {
   "cell_type": "code",
   "execution_count": 117,
   "id": "2d7ceee9",
   "metadata": {},
   "outputs": [
    {
     "data": {
      "text/plain": [
       "'h'"
      ]
     },
     "execution_count": 117,
     "metadata": {},
     "output_type": "execute_result"
    }
   ],
   "source": [
    "name[12]"
   ]
  },
  {
   "cell_type": "code",
   "execution_count": 118,
   "id": "704ada2a",
   "metadata": {},
   "outputs": [
    {
     "data": {
      "text/plain": [
       "'h'"
      ]
     },
     "execution_count": 118,
     "metadata": {},
     "output_type": "execute_result"
    }
   ],
   "source": [
    "name[-1]"
   ]
  },
  {
   "cell_type": "code",
   "execution_count": 119,
   "id": "0dca733b",
   "metadata": {},
   "outputs": [
    {
     "data": {
      "text/plain": [
       "'s'"
      ]
     },
     "execution_count": 119,
     "metadata": {},
     "output_type": "execute_result"
    }
   ],
   "source": [
    "name[-2]"
   ]
  },
  {
   "cell_type": "code",
   "execution_count": 120,
   "id": "3da6f340",
   "metadata": {},
   "outputs": [
    {
     "data": {
      "text/plain": [
       "'s'"
      ]
     },
     "execution_count": 120,
     "metadata": {},
     "output_type": "execute_result"
    }
   ],
   "source": [
    "name[-2]"
   ]
  },
  {
   "cell_type": "code",
   "execution_count": 121,
   "id": "73f27f6e",
   "metadata": {},
   "outputs": [
    {
     "data": {
      "text/plain": [
       "'Raghul Ramesh'"
      ]
     },
     "execution_count": 121,
     "metadata": {},
     "output_type": "execute_result"
    }
   ],
   "source": [
    "name"
   ]
  },
  {
   "cell_type": "code",
   "execution_count": 124,
   "id": "a93ec700",
   "metadata": {},
   "outputs": [
    {
     "data": {
      "text/plain": [
       "'Raghul'"
      ]
     },
     "execution_count": 124,
     "metadata": {},
     "output_type": "execute_result"
    }
   ],
   "source": [
    "name[0:6]"
   ]
  },
  {
   "cell_type": "code",
   "execution_count": 126,
   "id": "45450e1e",
   "metadata": {},
   "outputs": [
    {
     "data": {
      "text/plain": [
       "'Ramesh'"
      ]
     },
     "execution_count": 126,
     "metadata": {},
     "output_type": "execute_result"
    }
   ],
   "source": [
    "name[7:13]"
   ]
  },
  {
   "cell_type": "code",
   "execution_count": 127,
   "id": "72e2d8c8",
   "metadata": {},
   "outputs": [
    {
     "data": {
      "text/plain": [
       "'Raghul'"
      ]
     },
     "execution_count": 127,
     "metadata": {},
     "output_type": "execute_result"
    }
   ],
   "source": [
    "name[:6]"
   ]
  },
  {
   "cell_type": "code",
   "execution_count": 128,
   "id": "37060108",
   "metadata": {},
   "outputs": [
    {
     "data": {
      "text/plain": [
       "'Ramesh'"
      ]
     },
     "execution_count": 128,
     "metadata": {},
     "output_type": "execute_result"
    }
   ],
   "source": [
    "name[7:]"
   ]
  },
  {
   "cell_type": "code",
   "execution_count": 133,
   "id": "3cc0e4c8",
   "metadata": {},
   "outputs": [
    {
     "data": {
      "text/plain": [
       "'Rgu aeh'"
      ]
     },
     "execution_count": 133,
     "metadata": {},
     "output_type": "execute_result"
    }
   ],
   "source": [
    "name[::2]"
   ]
  },
  {
   "cell_type": "code",
   "execution_count": 134,
   "id": "58af5b0c",
   "metadata": {},
   "outputs": [
    {
     "data": {
      "text/plain": [
       "'Rh mh'"
      ]
     },
     "execution_count": 134,
     "metadata": {},
     "output_type": "execute_result"
    }
   ],
   "source": [
    "name[::3]"
   ]
  },
  {
   "cell_type": "code",
   "execution_count": 135,
   "id": "f96594d8",
   "metadata": {},
   "outputs": [
    {
     "data": {
      "text/plain": [
       "'Raghul Ramesh'"
      ]
     },
     "execution_count": 135,
     "metadata": {},
     "output_type": "execute_result"
    }
   ],
   "source": [
    "name[::1]"
   ]
  },
  {
   "cell_type": "code",
   "execution_count": 136,
   "id": "4853f2a9",
   "metadata": {},
   "outputs": [
    {
     "data": {
      "text/plain": [
       "'hsemaR luhgaR'"
      ]
     },
     "execution_count": 136,
     "metadata": {},
     "output_type": "execute_result"
    }
   ],
   "source": [
    "name[::-1]"
   ]
  },
  {
   "cell_type": "code",
   "execution_count": 137,
   "id": "a28528fc",
   "metadata": {},
   "outputs": [
    {
     "data": {
      "text/plain": [
       "'Raghul Ramesh'"
      ]
     },
     "execution_count": 137,
     "metadata": {},
     "output_type": "execute_result"
    }
   ],
   "source": [
    "name"
   ]
  },
  {
   "cell_type": "code",
   "execution_count": 138,
   "id": "9251e57b",
   "metadata": {},
   "outputs": [
    {
     "data": {
      "text/plain": [
       "13"
      ]
     },
     "execution_count": 138,
     "metadata": {},
     "output_type": "execute_result"
    }
   ],
   "source": [
    "len(name)"
   ]
  },
  {
   "cell_type": "code",
   "execution_count": 139,
   "id": "28a8a955",
   "metadata": {},
   "outputs": [],
   "source": [
    "# STRING METHODS"
   ]
  },
  {
   "cell_type": "code",
   "execution_count": 141,
   "id": "908477cf",
   "metadata": {},
   "outputs": [
    {
     "name": "stdout",
     "output_type": "stream",
     "text": [
      "['__add__', '__class__', '__contains__', '__delattr__', '__dir__', '__doc__', '__eq__', '__format__', '__ge__', '__getattribute__', '__getitem__', '__getnewargs__', '__gt__', '__hash__', '__init__', '__init_subclass__', '__iter__', '__le__', '__len__', '__lt__', '__mod__', '__mul__', '__ne__', '__new__', '__reduce__', '__reduce_ex__', '__repr__', '__rmod__', '__rmul__', '__setattr__', '__sizeof__', '__str__', '__subclasshook__', 'capitalize', 'casefold', 'center', 'count', 'encode', 'endswith', 'expandtabs', 'find', 'format', 'format_map', 'index', 'isalnum', 'isalpha', 'isascii', 'isdecimal', 'isdigit', 'isidentifier', 'islower', 'isnumeric', 'isprintable', 'isspace', 'istitle', 'isupper', 'join', 'ljust', 'lower', 'lstrip', 'maketrans', 'partition', 'removeprefix', 'removesuffix', 'replace', 'rfind', 'rindex', 'rjust', 'rpartition', 'rsplit', 'rstrip', 'split', 'splitlines', 'startswith', 'strip', 'swapcase', 'title', 'translate', 'upper', 'zfill']\n"
     ]
    }
   ],
   "source": [
    "print(dir(name))"
   ]
  },
  {
   "cell_type": "code",
   "execution_count": 142,
   "id": "37abfd1b",
   "metadata": {},
   "outputs": [
    {
     "data": {
      "text/plain": [
       "'Raghul Ramesh'"
      ]
     },
     "execution_count": 142,
     "metadata": {},
     "output_type": "execute_result"
    }
   ],
   "source": [
    "name"
   ]
  },
  {
   "cell_type": "code",
   "execution_count": 143,
   "id": "3aad36fe",
   "metadata": {},
   "outputs": [
    {
     "data": {
      "text/plain": [
       "'RAGHUL RAMESH'"
      ]
     },
     "execution_count": 143,
     "metadata": {},
     "output_type": "execute_result"
    }
   ],
   "source": [
    "name.upper()"
   ]
  },
  {
   "cell_type": "code",
   "execution_count": 144,
   "id": "c382a685",
   "metadata": {},
   "outputs": [
    {
     "data": {
      "text/plain": [
       "'Raghul Ramesh'"
      ]
     },
     "execution_count": 144,
     "metadata": {},
     "output_type": "execute_result"
    }
   ],
   "source": [
    "name"
   ]
  },
  {
   "cell_type": "code",
   "execution_count": 145,
   "id": "550d07bc",
   "metadata": {},
   "outputs": [
    {
     "data": {
      "text/plain": [
       "'raghul ramesh'"
      ]
     },
     "execution_count": 145,
     "metadata": {},
     "output_type": "execute_result"
    }
   ],
   "source": [
    "name.lower()"
   ]
  },
  {
   "cell_type": "code",
   "execution_count": 146,
   "id": "150ef3cc",
   "metadata": {},
   "outputs": [],
   "source": [
    "city=\"chennai in india\""
   ]
  },
  {
   "cell_type": "code",
   "execution_count": 147,
   "id": "6c8680e0",
   "metadata": {},
   "outputs": [
    {
     "data": {
      "text/plain": [
       "'Chennai In India'"
      ]
     },
     "execution_count": 147,
     "metadata": {},
     "output_type": "execute_result"
    }
   ],
   "source": [
    "city.title()"
   ]
  },
  {
   "cell_type": "code",
   "execution_count": 148,
   "id": "be62606b",
   "metadata": {},
   "outputs": [
    {
     "data": {
      "text/plain": [
       "'Chennai in india'"
      ]
     },
     "execution_count": 148,
     "metadata": {},
     "output_type": "execute_result"
    }
   ],
   "source": [
    "city.capitalize()"
   ]
  },
  {
   "cell_type": "code",
   "execution_count": 149,
   "id": "f01527aa",
   "metadata": {},
   "outputs": [
    {
     "data": {
      "text/plain": [
       "'Raghul Ramesh'"
      ]
     },
     "execution_count": 149,
     "metadata": {},
     "output_type": "execute_result"
    }
   ],
   "source": [
    "name"
   ]
  },
  {
   "cell_type": "code",
   "execution_count": 150,
   "id": "7f258f9f",
   "metadata": {},
   "outputs": [
    {
     "data": {
      "text/plain": [
       "'raghul ramesh'"
      ]
     },
     "execution_count": 150,
     "metadata": {},
     "output_type": "execute_result"
    }
   ],
   "source": [
    "name.casefold()"
   ]
  },
  {
   "cell_type": "code",
   "execution_count": 151,
   "id": "f75c922f",
   "metadata": {},
   "outputs": [
    {
     "data": {
      "text/plain": [
       "'raghul ramesh'"
      ]
     },
     "execution_count": 151,
     "metadata": {},
     "output_type": "execute_result"
    }
   ],
   "source": [
    "name.lower()"
   ]
  },
  {
   "cell_type": "code",
   "execution_count": 152,
   "id": "64181fcb",
   "metadata": {},
   "outputs": [
    {
     "data": {
      "text/plain": [
       "'Raghul Ramesh'"
      ]
     },
     "execution_count": 152,
     "metadata": {},
     "output_type": "execute_result"
    }
   ],
   "source": [
    "name"
   ]
  },
  {
   "cell_type": "code",
   "execution_count": 153,
   "id": "d84fa375",
   "metadata": {},
   "outputs": [
    {
     "data": {
      "text/plain": [
       "'rAGHUL rAMESH'"
      ]
     },
     "execution_count": 153,
     "metadata": {},
     "output_type": "execute_result"
    }
   ],
   "source": [
    "name.swapcase()"
   ]
  },
  {
   "cell_type": "code",
   "execution_count": 154,
   "id": "a01c1c6c",
   "metadata": {},
   "outputs": [
    {
     "data": {
      "text/plain": [
       "'raghul ramesh'"
      ]
     },
     "execution_count": 154,
     "metadata": {},
     "output_type": "execute_result"
    }
   ],
   "source": [
    "name."
   ]
  },
  {
   "cell_type": "code",
   "execution_count": 155,
   "id": "cee2c956",
   "metadata": {},
   "outputs": [],
   "source": [
    "tech=\"PYTHON\""
   ]
  },
  {
   "cell_type": "code",
   "execution_count": 156,
   "id": "2e34717f",
   "metadata": {},
   "outputs": [
    {
     "data": {
      "text/plain": [
       "True"
      ]
     },
     "execution_count": 156,
     "metadata": {},
     "output_type": "execute_result"
    }
   ],
   "source": [
    "tech.isupper()"
   ]
  },
  {
   "cell_type": "code",
   "execution_count": 157,
   "id": "6fd06496",
   "metadata": {},
   "outputs": [
    {
     "data": {
      "text/plain": [
       "False"
      ]
     },
     "execution_count": 157,
     "metadata": {},
     "output_type": "execute_result"
    }
   ],
   "source": [
    "tech.islower()"
   ]
  },
  {
   "cell_type": "code",
   "execution_count": 158,
   "id": "d3e72871",
   "metadata": {},
   "outputs": [
    {
     "data": {
      "text/plain": [
       "'Raghul Ramesh'"
      ]
     },
     "execution_count": 158,
     "metadata": {},
     "output_type": "execute_result"
    }
   ],
   "source": [
    "name"
   ]
  },
  {
   "cell_type": "code",
   "execution_count": 159,
   "id": "59203457",
   "metadata": {},
   "outputs": [
    {
     "data": {
      "text/plain": [
       "True"
      ]
     },
     "execution_count": 159,
     "metadata": {},
     "output_type": "execute_result"
    }
   ],
   "source": [
    "name.istitle()"
   ]
  },
  {
   "cell_type": "code",
   "execution_count": 160,
   "id": "75eee7c4",
   "metadata": {},
   "outputs": [
    {
     "data": {
      "text/plain": [
       "False"
      ]
     },
     "execution_count": 160,
     "metadata": {},
     "output_type": "execute_result"
    }
   ],
   "source": [
    "name.isalpha()"
   ]
  },
  {
   "cell_type": "code",
   "execution_count": 161,
   "id": "f8c9854d",
   "metadata": {},
   "outputs": [],
   "source": [
    "name1=\"RaghulRamesh\""
   ]
  },
  {
   "cell_type": "code",
   "execution_count": 163,
   "id": "3543a4a8",
   "metadata": {},
   "outputs": [
    {
     "data": {
      "text/plain": [
       "True"
      ]
     },
     "execution_count": 163,
     "metadata": {},
     "output_type": "execute_result"
    }
   ],
   "source": [
    "name1.isalpha()"
   ]
  },
  {
   "cell_type": "code",
   "execution_count": 164,
   "id": "15253f1b",
   "metadata": {},
   "outputs": [],
   "source": [
    "age=\"37\""
   ]
  },
  {
   "cell_type": "code",
   "execution_count": 165,
   "id": "5ad66000",
   "metadata": {},
   "outputs": [
    {
     "data": {
      "text/plain": [
       "True"
      ]
     },
     "execution_count": 165,
     "metadata": {},
     "output_type": "execute_result"
    }
   ],
   "source": [
    "age.isdecimal()"
   ]
  },
  {
   "cell_type": "code",
   "execution_count": 166,
   "id": "147ff7bd",
   "metadata": {},
   "outputs": [
    {
     "data": {
      "text/plain": [
       "True"
      ]
     },
     "execution_count": 166,
     "metadata": {},
     "output_type": "execute_result"
    }
   ],
   "source": [
    "age.isdigit()"
   ]
  },
  {
   "cell_type": "code",
   "execution_count": 167,
   "id": "a6685e2c",
   "metadata": {},
   "outputs": [
    {
     "data": {
      "text/plain": [
       "'Raghul Ramesh'"
      ]
     },
     "execution_count": 167,
     "metadata": {},
     "output_type": "execute_result"
    }
   ],
   "source": [
    "name"
   ]
  },
  {
   "cell_type": "code",
   "execution_count": 168,
   "id": "5bd9bea6",
   "metadata": {},
   "outputs": [
    {
     "data": {
      "text/plain": [
       "1"
      ]
     },
     "execution_count": 168,
     "metadata": {},
     "output_type": "execute_result"
    }
   ],
   "source": [
    "name.index('a')"
   ]
  },
  {
   "cell_type": "code",
   "execution_count": 169,
   "id": "6ff492b1",
   "metadata": {},
   "outputs": [
    {
     "data": {
      "text/plain": [
       "8"
      ]
     },
     "execution_count": 169,
     "metadata": {},
     "output_type": "execute_result"
    }
   ],
   "source": [
    "name.index('a',2)"
   ]
  },
  {
   "cell_type": "code",
   "execution_count": 170,
   "id": "e70b7324",
   "metadata": {},
   "outputs": [
    {
     "data": {
      "text/plain": [
       "7"
      ]
     },
     "execution_count": 170,
     "metadata": {},
     "output_type": "execute_result"
    }
   ],
   "source": [
    "name.index('Ram')"
   ]
  },
  {
   "cell_type": "code",
   "execution_count": 171,
   "id": "d5d0db7d",
   "metadata": {},
   "outputs": [
    {
     "ename": "ValueError",
     "evalue": "substring not found",
     "output_type": "error",
     "traceback": [
      "\u001b[1;31m---------------------------------------------------------------------------\u001b[0m",
      "\u001b[1;31mValueError\u001b[0m                                Traceback (most recent call last)",
      "Input \u001b[1;32mIn [171]\u001b[0m, in \u001b[0;36m<cell line: 1>\u001b[1;34m()\u001b[0m\n\u001b[1;32m----> 1\u001b[0m \u001b[43mname\u001b[49m\u001b[38;5;241;43m.\u001b[39;49m\u001b[43mindex\u001b[49m\u001b[43m(\u001b[49m\u001b[38;5;124;43m'\u001b[39;49m\u001b[38;5;124;43mz\u001b[39;49m\u001b[38;5;124;43m'\u001b[39;49m\u001b[43m)\u001b[49m\n",
      "\u001b[1;31mValueError\u001b[0m: substring not found"
     ]
    }
   ],
   "source": [
    "name.index('z')"
   ]
  },
  {
   "cell_type": "code",
   "execution_count": 172,
   "id": "5a999a05",
   "metadata": {},
   "outputs": [
    {
     "data": {
      "text/plain": [
       "'Raghul Ramesh'"
      ]
     },
     "execution_count": 172,
     "metadata": {},
     "output_type": "execute_result"
    }
   ],
   "source": [
    "name"
   ]
  },
  {
   "cell_type": "code",
   "execution_count": 173,
   "id": "e4e50463",
   "metadata": {},
   "outputs": [
    {
     "data": {
      "text/plain": [
       "1"
      ]
     },
     "execution_count": 173,
     "metadata": {},
     "output_type": "execute_result"
    }
   ],
   "source": [
    "name.find('a')"
   ]
  },
  {
   "cell_type": "code",
   "execution_count": 174,
   "id": "2748eff3",
   "metadata": {},
   "outputs": [
    {
     "data": {
      "text/plain": [
       "8"
      ]
     },
     "execution_count": 174,
     "metadata": {},
     "output_type": "execute_result"
    }
   ],
   "source": [
    "name.find('a',2)"
   ]
  },
  {
   "cell_type": "code",
   "execution_count": 175,
   "id": "0c2c0d9f",
   "metadata": {},
   "outputs": [
    {
     "data": {
      "text/plain": [
       "7"
      ]
     },
     "execution_count": 175,
     "metadata": {},
     "output_type": "execute_result"
    }
   ],
   "source": [
    "name.find('Ram')"
   ]
  },
  {
   "cell_type": "code",
   "execution_count": 176,
   "id": "356c65b6",
   "metadata": {},
   "outputs": [
    {
     "data": {
      "text/plain": [
       "-1"
      ]
     },
     "execution_count": 176,
     "metadata": {},
     "output_type": "execute_result"
    }
   ],
   "source": [
    "name.find('z')"
   ]
  },
  {
   "cell_type": "code",
   "execution_count": 189,
   "id": "1b9b7ae4",
   "metadata": {},
   "outputs": [
    {
     "data": {
      "text/plain": [
       "'Raghul Ramesh'"
      ]
     },
     "execution_count": 189,
     "metadata": {},
     "output_type": "execute_result"
    }
   ],
   "source": [
    "name"
   ]
  },
  {
   "cell_type": "code",
   "execution_count": 190,
   "id": "5fd865c4",
   "metadata": {},
   "outputs": [
    {
     "data": {
      "text/plain": [
       "1"
      ]
     },
     "execution_count": 190,
     "metadata": {},
     "output_type": "execute_result"
    }
   ],
   "source": [
    "name.index('a')"
   ]
  },
  {
   "cell_type": "code",
   "execution_count": 191,
   "id": "53c66ed4",
   "metadata": {},
   "outputs": [
    {
     "data": {
      "text/plain": [
       "8"
      ]
     },
     "execution_count": 191,
     "metadata": {},
     "output_type": "execute_result"
    }
   ],
   "source": [
    "name.rindex('a')"
   ]
  },
  {
   "cell_type": "code",
   "execution_count": 192,
   "id": "ccbd0ddc",
   "metadata": {},
   "outputs": [
    {
     "data": {
      "text/plain": [
       "1"
      ]
     },
     "execution_count": 192,
     "metadata": {},
     "output_type": "execute_result"
    }
   ],
   "source": [
    "name.find('a')"
   ]
  },
  {
   "cell_type": "code",
   "execution_count": 193,
   "id": "ac3b593e",
   "metadata": {},
   "outputs": [
    {
     "data": {
      "text/plain": [
       "8"
      ]
     },
     "execution_count": 193,
     "metadata": {},
     "output_type": "execute_result"
    }
   ],
   "source": [
    "name.rfind('a')"
   ]
  },
  {
   "cell_type": "code",
   "execution_count": 177,
   "id": "e295b19c",
   "metadata": {},
   "outputs": [],
   "source": [
    "#center , ljust, rjust"
   ]
  },
  {
   "cell_type": "code",
   "execution_count": 178,
   "id": "bbc039d2",
   "metadata": {},
   "outputs": [
    {
     "data": {
      "text/plain": [
       "'Raghul Ramesh'"
      ]
     },
     "execution_count": 178,
     "metadata": {},
     "output_type": "execute_result"
    }
   ],
   "source": [
    "name"
   ]
  },
  {
   "cell_type": "code",
   "execution_count": 179,
   "id": "3eb57468",
   "metadata": {},
   "outputs": [
    {
     "data": {
      "text/plain": [
       "'                  Raghul Ramesh                   '"
      ]
     },
     "execution_count": 179,
     "metadata": {},
     "output_type": "execute_result"
    }
   ],
   "source": [
    "name.center(50)"
   ]
  },
  {
   "cell_type": "code",
   "execution_count": 183,
   "id": "6410b5ca",
   "metadata": {},
   "outputs": [
    {
     "data": {
      "text/plain": [
       "'##################Raghul Ramesh###################'"
      ]
     },
     "execution_count": 183,
     "metadata": {},
     "output_type": "execute_result"
    }
   ],
   "source": [
    "name.center(50,'#')"
   ]
  },
  {
   "cell_type": "code",
   "execution_count": 184,
   "id": "3277a61c",
   "metadata": {},
   "outputs": [
    {
     "data": {
      "text/plain": [
       "'Raghul Ramesh#####################################'"
      ]
     },
     "execution_count": 184,
     "metadata": {},
     "output_type": "execute_result"
    }
   ],
   "source": [
    "name.ljust(50,'#')"
   ]
  },
  {
   "cell_type": "code",
   "execution_count": 185,
   "id": "2352e51e",
   "metadata": {},
   "outputs": [
    {
     "data": {
      "text/plain": [
       "'Raghul Ramesh                                     '"
      ]
     },
     "execution_count": 185,
     "metadata": {},
     "output_type": "execute_result"
    }
   ],
   "source": [
    "name.ljust(50)"
   ]
  },
  {
   "cell_type": "code",
   "execution_count": 186,
   "id": "6a56bdc3",
   "metadata": {},
   "outputs": [
    {
     "data": {
      "text/plain": [
       "'Raghul Ramesh_____________________________________'"
      ]
     },
     "execution_count": 186,
     "metadata": {},
     "output_type": "execute_result"
    }
   ],
   "source": [
    "name.ljust(50,'_')"
   ]
  },
  {
   "cell_type": "code",
   "execution_count": 187,
   "id": "b28e9faf",
   "metadata": {},
   "outputs": [
    {
     "data": {
      "text/plain": [
       "'#####################################Raghul Ramesh'"
      ]
     },
     "execution_count": 187,
     "metadata": {},
     "output_type": "execute_result"
    }
   ],
   "source": [
    "name.rjust(50,'#')"
   ]
  },
  {
   "cell_type": "code",
   "execution_count": 188,
   "id": "5875b0a5",
   "metadata": {},
   "outputs": [
    {
     "data": {
      "text/plain": [
       "'_____________________________________Raghul Ramesh'"
      ]
     },
     "execution_count": 188,
     "metadata": {},
     "output_type": "execute_result"
    }
   ],
   "source": [
    "name.rjust(50,'_')"
   ]
  },
  {
   "cell_type": "code",
   "execution_count": 194,
   "id": "7c95ecc6",
   "metadata": {},
   "outputs": [],
   "source": [
    "#strip rstrip lstrip"
   ]
  },
  {
   "cell_type": "code",
   "execution_count": 195,
   "id": "d7299bfe",
   "metadata": {},
   "outputs": [],
   "source": [
    "name=\"    Raghul Ramesh    \""
   ]
  },
  {
   "cell_type": "code",
   "execution_count": 196,
   "id": "9d8c6bd4",
   "metadata": {},
   "outputs": [
    {
     "data": {
      "text/plain": [
       "'    Raghul Ramesh    '"
      ]
     },
     "execution_count": 196,
     "metadata": {},
     "output_type": "execute_result"
    }
   ],
   "source": [
    "name"
   ]
  },
  {
   "cell_type": "code",
   "execution_count": 197,
   "id": "05deda52",
   "metadata": {},
   "outputs": [
    {
     "data": {
      "text/plain": [
       "'Raghul Ramesh'"
      ]
     },
     "execution_count": 197,
     "metadata": {},
     "output_type": "execute_result"
    }
   ],
   "source": [
    "name.strip()"
   ]
  },
  {
   "cell_type": "code",
   "execution_count": 198,
   "id": "06431caf",
   "metadata": {},
   "outputs": [
    {
     "data": {
      "text/plain": [
       "'Raghul Ramesh    '"
      ]
     },
     "execution_count": 198,
     "metadata": {},
     "output_type": "execute_result"
    }
   ],
   "source": [
    "name.lstrip()"
   ]
  },
  {
   "cell_type": "code",
   "execution_count": 199,
   "id": "942fa6fb",
   "metadata": {},
   "outputs": [
    {
     "data": {
      "text/plain": [
       "'    Raghul Ramesh'"
      ]
     },
     "execution_count": 199,
     "metadata": {},
     "output_type": "execute_result"
    }
   ],
   "source": [
    "name.rstrip()   #Strip will remove the last(prefix-suffix) characters if it is space or new line character"
   ]
  },
  {
   "cell_type": "code",
   "execution_count": 200,
   "id": "992efc79",
   "metadata": {},
   "outputs": [],
   "source": [
    "city=\"CHENNAI\""
   ]
  },
  {
   "cell_type": "code",
   "execution_count": 201,
   "id": "8c18527b",
   "metadata": {},
   "outputs": [
    {
     "data": {
      "text/plain": [
       "'CHENNAI'"
      ]
     },
     "execution_count": 201,
     "metadata": {},
     "output_type": "execute_result"
    }
   ],
   "source": [
    "city.strip()"
   ]
  },
  {
   "cell_type": "code",
   "execution_count": 202,
   "id": "8b020837",
   "metadata": {},
   "outputs": [
    {
     "data": {
      "text/plain": [
       "'CHENNAI'"
      ]
     },
     "execution_count": 202,
     "metadata": {},
     "output_type": "execute_result"
    }
   ],
   "source": [
    "city.lstrip()"
   ]
  },
  {
   "cell_type": "code",
   "execution_count": 203,
   "id": "56ff3c9e",
   "metadata": {},
   "outputs": [
    {
     "data": {
      "text/plain": [
       "'CHENNAI'"
      ]
     },
     "execution_count": 203,
     "metadata": {},
     "output_type": "execute_result"
    }
   ],
   "source": [
    "city.rstrip()"
   ]
  },
  {
   "cell_type": "code",
   "execution_count": 204,
   "id": "1bcf464f",
   "metadata": {},
   "outputs": [],
   "source": [
    "#replace translate"
   ]
  },
  {
   "cell_type": "code",
   "execution_count": 205,
   "id": "a3e99f15",
   "metadata": {},
   "outputs": [],
   "source": [
    "trainer=\"Raghul Ramesh from Chennai\""
   ]
  },
  {
   "cell_type": "code",
   "execution_count": 206,
   "id": "021f7a3b",
   "metadata": {},
   "outputs": [
    {
     "data": {
      "text/plain": [
       "'Raghul Ramesh from Chennai'"
      ]
     },
     "execution_count": 206,
     "metadata": {},
     "output_type": "execute_result"
    }
   ],
   "source": [
    "trainer"
   ]
  },
  {
   "cell_type": "code",
   "execution_count": 208,
   "id": "0de6f6d5",
   "metadata": {},
   "outputs": [
    {
     "data": {
      "text/plain": [
       "'Raghul Ramesh from India'"
      ]
     },
     "execution_count": 208,
     "metadata": {},
     "output_type": "execute_result"
    }
   ],
   "source": [
    "trainer.replace('Chennai','India')"
   ]
  },
  {
   "cell_type": "code",
   "execution_count": 209,
   "id": "f8e73972",
   "metadata": {},
   "outputs": [],
   "source": [
    "company=\"C#a$p!ge(m#i!n_)i\""
   ]
  },
  {
   "cell_type": "code",
   "execution_count": 215,
   "id": "ac3002ef",
   "metadata": {},
   "outputs": [
    {
     "data": {
      "text/plain": [
       "'Capgemini'"
      ]
     },
     "execution_count": 215,
     "metadata": {},
     "output_type": "execute_result"
    }
   ],
   "source": [
    "company.replace('#','').replace('$','').replace('!','').replace('(','').replace('_','').replace(')','')"
   ]
  },
  {
   "cell_type": "code",
   "execution_count": 216,
   "id": "6f338194",
   "metadata": {},
   "outputs": [
    {
     "data": {
      "text/plain": [
       "'C#a$p!ge(m#i!n_)i'"
      ]
     },
     "execution_count": 216,
     "metadata": {},
     "output_type": "execute_result"
    }
   ],
   "source": [
    "company"
   ]
  },
  {
   "cell_type": "code",
   "execution_count": 219,
   "id": "c9d8a54d",
   "metadata": {},
   "outputs": [
    {
     "data": {
      "text/plain": [
       "'Raghul Ramesh from Chennai'"
      ]
     },
     "execution_count": 219,
     "metadata": {},
     "output_type": "execute_result"
    }
   ],
   "source": [
    "trainer.replace('ae','AE')"
   ]
  },
  {
   "cell_type": "code",
   "execution_count": 220,
   "id": "17489be3",
   "metadata": {},
   "outputs": [
    {
     "data": {
      "text/plain": [
       "97"
      ]
     },
     "execution_count": 220,
     "metadata": {},
     "output_type": "execute_result"
    }
   ],
   "source": [
    "ord('a')"
   ]
  },
  {
   "cell_type": "code",
   "execution_count": 221,
   "id": "47b6d2ac",
   "metadata": {},
   "outputs": [
    {
     "data": {
      "text/plain": [
       "65"
      ]
     },
     "execution_count": 221,
     "metadata": {},
     "output_type": "execute_result"
    }
   ],
   "source": [
    "ord('A')"
   ]
  },
  {
   "cell_type": "code",
   "execution_count": 222,
   "id": "c1ef3c04",
   "metadata": {},
   "outputs": [
    {
     "data": {
      "text/plain": [
       "101"
      ]
     },
     "execution_count": 222,
     "metadata": {},
     "output_type": "execute_result"
    }
   ],
   "source": [
    "ord('e')"
   ]
  },
  {
   "cell_type": "code",
   "execution_count": 223,
   "id": "3be4dcaa",
   "metadata": {},
   "outputs": [
    {
     "data": {
      "text/plain": [
       "69"
      ]
     },
     "execution_count": 223,
     "metadata": {},
     "output_type": "execute_result"
    }
   ],
   "source": [
    "ord('E')"
   ]
  },
  {
   "cell_type": "code",
   "execution_count": 224,
   "id": "9abd5297",
   "metadata": {},
   "outputs": [
    {
     "data": {
      "text/plain": [
       "'RAghul RAmEsh from ChEnnAi'"
      ]
     },
     "execution_count": 224,
     "metadata": {},
     "output_type": "execute_result"
    }
   ],
   "source": [
    "trainer.translate({97:65,101:69})"
   ]
  },
  {
   "cell_type": "code",
   "execution_count": 227,
   "id": "810cfdae",
   "metadata": {},
   "outputs": [],
   "source": [
    "cng=trainer.maketrans('abcdefghij','ABCDEFGHIJ')"
   ]
  },
  {
   "cell_type": "code",
   "execution_count": 228,
   "id": "a6ce8141",
   "metadata": {},
   "outputs": [
    {
     "data": {
      "text/plain": [
       "'RAGHul RAmEsH From CHEnnAI'"
      ]
     },
     "execution_count": 228,
     "metadata": {},
     "output_type": "execute_result"
    }
   ],
   "source": [
    "trainer.translate(cng)"
   ]
  },
  {
   "cell_type": "code",
   "execution_count": 229,
   "id": "4787839d",
   "metadata": {},
   "outputs": [
    {
     "data": {
      "text/plain": [
       "'C#a$p!ge(m#i!n_)i'"
      ]
     },
     "execution_count": 229,
     "metadata": {},
     "output_type": "execute_result"
    }
   ],
   "source": [
    "company"
   ]
  },
  {
   "cell_type": "code",
   "execution_count": 230,
   "id": "53f36339",
   "metadata": {},
   "outputs": [],
   "source": [
    "change=company.maketrans('~!@#$%^&*()_+-','______________')"
   ]
  },
  {
   "cell_type": "code",
   "execution_count": 233,
   "id": "8905e864",
   "metadata": {},
   "outputs": [],
   "source": [
    "change={126: None,\n",
    " 33: None,\n",
    " 64: None,\n",
    " 35: None,\n",
    " 36: None,\n",
    " 37: None,\n",
    " 94: None,\n",
    " 38: None,\n",
    " 42: None,\n",
    " 40: None,\n",
    " 41: None,\n",
    " 95: None,\n",
    " 43: None,\n",
    " 45: None}"
   ]
  },
  {
   "cell_type": "code",
   "execution_count": 234,
   "id": "83ccbb56",
   "metadata": {},
   "outputs": [
    {
     "data": {
      "text/plain": [
       "'Capgemini'"
      ]
     },
     "execution_count": 234,
     "metadata": {},
     "output_type": "execute_result"
    }
   ],
   "source": [
    "company.translate(change)"
   ]
  },
  {
   "cell_type": "code",
   "execution_count": 235,
   "id": "63dfbc36",
   "metadata": {},
   "outputs": [],
   "source": [
    "city=\"Chennai-Bangalore-Hyderabad-Mumbai-Pune-Delhi-Kolkatta\""
   ]
  },
  {
   "cell_type": "code",
   "execution_count": 237,
   "id": "0df82671",
   "metadata": {},
   "outputs": [],
   "source": [
    "city_info=city.split('-')"
   ]
  },
  {
   "cell_type": "code",
   "execution_count": 238,
   "id": "6e40a5c7",
   "metadata": {},
   "outputs": [
    {
     "data": {
      "text/plain": [
       "['Chennai', 'Bangalore', 'Hyderabad', 'Mumbai', 'Pune', 'Delhi', 'Kolkatta']"
      ]
     },
     "execution_count": 238,
     "metadata": {},
     "output_type": "execute_result"
    }
   ],
   "source": [
    "city_info"
   ]
  },
  {
   "cell_type": "code",
   "execution_count": 241,
   "id": "6a7c3a6e",
   "metadata": {},
   "outputs": [
    {
     "data": {
      "text/plain": [
       "'Chennai~Bangalore~Hyderabad~Mumbai~Pune~Delhi~Kolkatta'"
      ]
     },
     "execution_count": 241,
     "metadata": {},
     "output_type": "execute_result"
    }
   ],
   "source": [
    "\"~\".join(city_info)"
   ]
  },
  {
   "cell_type": "code",
   "execution_count": 242,
   "id": "5dbfb8da",
   "metadata": {},
   "outputs": [
    {
     "data": {
      "text/plain": [
       "'Chennai-Bangalore-Hyderabad-Mumbai-Pune-Delhi-Kolkatta'"
      ]
     },
     "execution_count": 242,
     "metadata": {},
     "output_type": "execute_result"
    }
   ],
   "source": [
    "city"
   ]
  },
  {
   "cell_type": "code",
   "execution_count": 244,
   "id": "0de0f790",
   "metadata": {},
   "outputs": [
    {
     "data": {
      "text/plain": [
       "('Chennai', '-', 'Bangalore-Hyderabad-Mumbai-Pune-Delhi-Kolkatta')"
      ]
     },
     "execution_count": 244,
     "metadata": {},
     "output_type": "execute_result"
    }
   ],
   "source": [
    "city.partition(\"-\")"
   ]
  },
  {
   "cell_type": "markdown",
   "id": "2918d385",
   "metadata": {},
   "source": [
    "# city.rpartition(\"-\")"
   ]
  },
  {
   "cell_type": "code",
   "execution_count": 246,
   "id": "6a3b05f7",
   "metadata": {},
   "outputs": [],
   "source": [
    "salary=\"10000\""
   ]
  },
  {
   "cell_type": "code",
   "execution_count": 249,
   "id": "5a059636",
   "metadata": {},
   "outputs": [
    {
     "data": {
      "text/plain": [
       "'1000000000'"
      ]
     },
     "execution_count": 249,
     "metadata": {},
     "output_type": "execute_result"
    }
   ],
   "source": [
    "salary.ljust(10,'0')"
   ]
  },
  {
   "cell_type": "code",
   "execution_count": 250,
   "id": "6b18f60e",
   "metadata": {},
   "outputs": [
    {
     "data": {
      "text/plain": [
       "'0000010000'"
      ]
     },
     "execution_count": 250,
     "metadata": {},
     "output_type": "execute_result"
    }
   ],
   "source": [
    "salary.rjust(10,'0')"
   ]
  },
  {
   "cell_type": "code",
   "execution_count": 251,
   "id": "e92b7e73",
   "metadata": {},
   "outputs": [
    {
     "data": {
      "text/plain": [
       "'0010000000'"
      ]
     },
     "execution_count": 251,
     "metadata": {},
     "output_type": "execute_result"
    }
   ],
   "source": [
    "salary.center(10,'0')"
   ]
  },
  {
   "cell_type": "code",
   "execution_count": 252,
   "id": "d2eff968",
   "metadata": {},
   "outputs": [
    {
     "data": {
      "text/plain": [
       "'0000010000'"
      ]
     },
     "execution_count": 252,
     "metadata": {},
     "output_type": "execute_result"
    }
   ],
   "source": [
    "salary.zfill(10)"
   ]
  },
  {
   "cell_type": "markdown",
   "id": "c8c88383",
   "metadata": {},
   "source": [
    "# LIST"
   ]
  },
  {
   "cell_type": "code",
   "execution_count": 254,
   "id": "9423f7e5",
   "metadata": {},
   "outputs": [],
   "source": [
    "#creating a list - list is a collection of heterogeneous elemets \n",
    "x=[]\n"
   ]
  },
  {
   "cell_type": "code",
   "execution_count": 255,
   "id": "ad00ccb1",
   "metadata": {},
   "outputs": [
    {
     "data": {
      "text/plain": [
       "list"
      ]
     },
     "execution_count": 255,
     "metadata": {},
     "output_type": "execute_result"
    }
   ],
   "source": [
    "type(x)"
   ]
  },
  {
   "cell_type": "code",
   "execution_count": 256,
   "id": "4928c788",
   "metadata": {},
   "outputs": [],
   "source": [
    "y=list()"
   ]
  },
  {
   "cell_type": "code",
   "execution_count": 257,
   "id": "3c27574f",
   "metadata": {},
   "outputs": [
    {
     "data": {
      "text/plain": [
       "list"
      ]
     },
     "execution_count": 257,
     "metadata": {},
     "output_type": "execute_result"
    }
   ],
   "source": [
    "type(y)"
   ]
  },
  {
   "cell_type": "code",
   "execution_count": 258,
   "id": "331a9025",
   "metadata": {},
   "outputs": [],
   "source": [
    "nums=[1,2,3,4,5,6,7,8,9,10]"
   ]
  },
  {
   "cell_type": "code",
   "execution_count": 259,
   "id": "0d8c3628",
   "metadata": {},
   "outputs": [
    {
     "data": {
      "text/plain": [
       "list"
      ]
     },
     "execution_count": 259,
     "metadata": {},
     "output_type": "execute_result"
    }
   ],
   "source": [
    "type(nums)"
   ]
  },
  {
   "cell_type": "code",
   "execution_count": 260,
   "id": "0bdffdb0",
   "metadata": {},
   "outputs": [
    {
     "data": {
      "text/plain": [
       "10"
      ]
     },
     "execution_count": 260,
     "metadata": {},
     "output_type": "execute_result"
    }
   ],
   "source": [
    "len(nums)"
   ]
  },
  {
   "cell_type": "code",
   "execution_count": 262,
   "id": "a3954db9",
   "metadata": {},
   "outputs": [
    {
     "data": {
      "text/plain": [
       "1"
      ]
     },
     "execution_count": 262,
     "metadata": {},
     "output_type": "execute_result"
    }
   ],
   "source": [
    "min(nums)"
   ]
  },
  {
   "cell_type": "code",
   "execution_count": 263,
   "id": "524da1fc",
   "metadata": {},
   "outputs": [
    {
     "data": {
      "text/plain": [
       "10"
      ]
     },
     "execution_count": 263,
     "metadata": {},
     "output_type": "execute_result"
    }
   ],
   "source": [
    "max(nums)"
   ]
  },
  {
   "cell_type": "code",
   "execution_count": 264,
   "id": "6df2af75",
   "metadata": {},
   "outputs": [
    {
     "data": {
      "text/plain": [
       "55"
      ]
     },
     "execution_count": 264,
     "metadata": {},
     "output_type": "execute_result"
    }
   ],
   "source": [
    "sum(nums)"
   ]
  },
  {
   "cell_type": "code",
   "execution_count": 265,
   "id": "a323ef61",
   "metadata": {},
   "outputs": [
    {
     "data": {
      "text/plain": [
       "5.5"
      ]
     },
     "execution_count": 265,
     "metadata": {},
     "output_type": "execute_result"
    }
   ],
   "source": [
    "sum(nums)/len(nums)"
   ]
  },
  {
   "cell_type": "code",
   "execution_count": 266,
   "id": "16974bd0",
   "metadata": {},
   "outputs": [
    {
     "data": {
      "text/plain": [
       "[1, 2, 3, 4, 5, 6, 7, 8, 9, 10]"
      ]
     },
     "execution_count": 266,
     "metadata": {},
     "output_type": "execute_result"
    }
   ],
   "source": [
    "nums"
   ]
  },
  {
   "cell_type": "code",
   "execution_count": 267,
   "id": "69952800",
   "metadata": {},
   "outputs": [
    {
     "data": {
      "text/plain": [
       "1"
      ]
     },
     "execution_count": 267,
     "metadata": {},
     "output_type": "execute_result"
    }
   ],
   "source": [
    "nums.count(5)"
   ]
  },
  {
   "cell_type": "code",
   "execution_count": 268,
   "id": "14d0073e",
   "metadata": {},
   "outputs": [
    {
     "data": {
      "text/plain": [
       "True"
      ]
     },
     "execution_count": 268,
     "metadata": {},
     "output_type": "execute_result"
    }
   ],
   "source": [
    "6 in nums"
   ]
  },
  {
   "cell_type": "code",
   "execution_count": 269,
   "id": "f44e4888",
   "metadata": {},
   "outputs": [
    {
     "data": {
      "text/plain": [
       "False"
      ]
     },
     "execution_count": 269,
     "metadata": {},
     "output_type": "execute_result"
    }
   ],
   "source": [
    "50 in nums"
   ]
  },
  {
   "cell_type": "code",
   "execution_count": 270,
   "id": "a1f45f18",
   "metadata": {},
   "outputs": [
    {
     "data": {
      "text/plain": [
       "True"
      ]
     },
     "execution_count": 270,
     "metadata": {},
     "output_type": "execute_result"
    }
   ],
   "source": [
    "50 not in nums"
   ]
  },
  {
   "cell_type": "code",
   "execution_count": 271,
   "id": "f6933cbc",
   "metadata": {},
   "outputs": [],
   "source": [
    "nums=['Raghul Ramesh',37,'Chennai',False,'Python',70.5]"
   ]
  },
  {
   "cell_type": "code",
   "execution_count": 272,
   "id": "e5280b17",
   "metadata": {},
   "outputs": [
    {
     "data": {
      "text/plain": [
       "['Raghul Ramesh', 37, 'Chennai', False, 'Python', 70.5]"
      ]
     },
     "execution_count": 272,
     "metadata": {},
     "output_type": "execute_result"
    }
   ],
   "source": [
    "nums"
   ]
  },
  {
   "cell_type": "code",
   "execution_count": 273,
   "id": "c57a254f",
   "metadata": {},
   "outputs": [
    {
     "data": {
      "text/plain": [
       "6"
      ]
     },
     "execution_count": 273,
     "metadata": {},
     "output_type": "execute_result"
    }
   ],
   "source": [
    "len(nums)"
   ]
  },
  {
   "cell_type": "markdown",
   "id": "969c926c",
   "metadata": {},
   "source": [
    "## LIST METHODS"
   ]
  },
  {
   "cell_type": "code",
   "execution_count": 274,
   "id": "e7d42e88",
   "metadata": {},
   "outputs": [],
   "source": [
    "nums=[1,2,3,4,5]"
   ]
  },
  {
   "cell_type": "code",
   "execution_count": 275,
   "id": "9eb0d8b5",
   "metadata": {},
   "outputs": [
    {
     "data": {
      "text/plain": [
       "[1, 2, 3, 4, 5]"
      ]
     },
     "execution_count": 275,
     "metadata": {},
     "output_type": "execute_result"
    }
   ],
   "source": [
    "nums"
   ]
  },
  {
   "cell_type": "code",
   "execution_count": 276,
   "id": "489e9dcb",
   "metadata": {},
   "outputs": [],
   "source": [
    "nums.append(6)"
   ]
  },
  {
   "cell_type": "code",
   "execution_count": 277,
   "id": "53d7776a",
   "metadata": {},
   "outputs": [
    {
     "data": {
      "text/plain": [
       "[1, 2, 3, 4, 5, 6]"
      ]
     },
     "execution_count": 277,
     "metadata": {},
     "output_type": "execute_result"
    }
   ],
   "source": [
    "nums"
   ]
  },
  {
   "cell_type": "code",
   "execution_count": 278,
   "id": "0f191a6e",
   "metadata": {},
   "outputs": [
    {
     "ename": "TypeError",
     "evalue": "list.append() takes exactly one argument (4 given)",
     "output_type": "error",
     "traceback": [
      "\u001b[1;31m---------------------------------------------------------------------------\u001b[0m",
      "\u001b[1;31mTypeError\u001b[0m                                 Traceback (most recent call last)",
      "Input \u001b[1;32mIn [278]\u001b[0m, in \u001b[0;36m<cell line: 1>\u001b[1;34m()\u001b[0m\n\u001b[1;32m----> 1\u001b[0m \u001b[43mnums\u001b[49m\u001b[38;5;241;43m.\u001b[39;49m\u001b[43mappend\u001b[49m\u001b[43m(\u001b[49m\u001b[38;5;241;43m7\u001b[39;49m\u001b[43m,\u001b[49m\u001b[38;5;241;43m8\u001b[39;49m\u001b[43m,\u001b[49m\u001b[38;5;241;43m9\u001b[39;49m\u001b[43m,\u001b[49m\u001b[38;5;241;43m10\u001b[39;49m\u001b[43m)\u001b[49m\n",
      "\u001b[1;31mTypeError\u001b[0m: list.append() takes exactly one argument (4 given)"
     ]
    }
   ],
   "source": [
    "nums.append(7,8,9,10)"
   ]
  },
  {
   "cell_type": "code",
   "execution_count": 279,
   "id": "44e98b48",
   "metadata": {},
   "outputs": [],
   "source": [
    "nums.append([7,8,9,10])"
   ]
  },
  {
   "cell_type": "code",
   "execution_count": 280,
   "id": "b11401e9",
   "metadata": {},
   "outputs": [
    {
     "data": {
      "text/plain": [
       "[1, 2, 3, 4, 5, 6, [7, 8, 9, 10]]"
      ]
     },
     "execution_count": 280,
     "metadata": {},
     "output_type": "execute_result"
    }
   ],
   "source": [
    "nums"
   ]
  },
  {
   "cell_type": "code",
   "execution_count": 281,
   "id": "8a428fc8",
   "metadata": {},
   "outputs": [
    {
     "data": {
      "text/plain": [
       "[7, 8, 9, 10]"
      ]
     },
     "execution_count": 281,
     "metadata": {},
     "output_type": "execute_result"
    }
   ],
   "source": [
    "nums[-1]"
   ]
  },
  {
   "cell_type": "code",
   "execution_count": 283,
   "id": "2788ecb2",
   "metadata": {},
   "outputs": [
    {
     "ename": "TypeError",
     "evalue": "list.extend() takes exactly one argument (5 given)",
     "output_type": "error",
     "traceback": [
      "\u001b[1;31m---------------------------------------------------------------------------\u001b[0m",
      "\u001b[1;31mTypeError\u001b[0m                                 Traceback (most recent call last)",
      "Input \u001b[1;32mIn [283]\u001b[0m, in \u001b[0;36m<cell line: 1>\u001b[1;34m()\u001b[0m\n\u001b[1;32m----> 1\u001b[0m \u001b[43mnums\u001b[49m\u001b[38;5;241;43m.\u001b[39;49m\u001b[43mextend\u001b[49m\u001b[43m(\u001b[49m\u001b[38;5;241;43m11\u001b[39;49m\u001b[43m,\u001b[49m\u001b[38;5;241;43m12\u001b[39;49m\u001b[43m,\u001b[49m\u001b[38;5;241;43m13\u001b[39;49m\u001b[43m,\u001b[49m\u001b[38;5;241;43m14\u001b[39;49m\u001b[43m,\u001b[49m\u001b[38;5;241;43m15\u001b[39;49m\u001b[43m)\u001b[49m\n",
      "\u001b[1;31mTypeError\u001b[0m: list.extend() takes exactly one argument (5 given)"
     ]
    }
   ],
   "source": [
    "nums.extend([11,12,13,14,15])"
   ]
  },
  {
   "cell_type": "code",
   "execution_count": 284,
   "id": "1ec0dcaf",
   "metadata": {},
   "outputs": [
    {
     "data": {
      "text/plain": [
       "[1, 2, 3, 4, 5, 6, [7, 8, 9, 10], 11, 12, 13, 14, 15]"
      ]
     },
     "execution_count": 284,
     "metadata": {},
     "output_type": "execute_result"
    }
   ],
   "source": [
    "nums"
   ]
  },
  {
   "cell_type": "code",
   "execution_count": 285,
   "id": "157df4ad",
   "metadata": {},
   "outputs": [
    {
     "data": {
      "text/plain": [
       "15"
      ]
     },
     "execution_count": 285,
     "metadata": {},
     "output_type": "execute_result"
    }
   ],
   "source": [
    "nums[-1]"
   ]
  },
  {
   "cell_type": "code",
   "execution_count": 286,
   "id": "81dd23aa",
   "metadata": {},
   "outputs": [
    {
     "data": {
      "text/plain": [
       "14"
      ]
     },
     "execution_count": 286,
     "metadata": {},
     "output_type": "execute_result"
    }
   ],
   "source": [
    "nums[-2]"
   ]
  },
  {
   "cell_type": "code",
   "execution_count": 287,
   "id": "a263675d",
   "metadata": {},
   "outputs": [
    {
     "data": {
      "text/plain": [
       "[1, 2, 3, 4, 5, 6, [7, 8, 9, 10], 11, 12, 13, 14, 15]"
      ]
     },
     "execution_count": 287,
     "metadata": {},
     "output_type": "execute_result"
    }
   ],
   "source": [
    "nums"
   ]
  },
  {
   "cell_type": "code",
   "execution_count": 288,
   "id": "346949d4",
   "metadata": {},
   "outputs": [],
   "source": [
    "nums.insert(0,100)"
   ]
  },
  {
   "cell_type": "code",
   "execution_count": 289,
   "id": "fee486f6",
   "metadata": {},
   "outputs": [
    {
     "data": {
      "text/plain": [
       "[100, 1, 2, 3, 4, 5, 6, [7, 8, 9, 10], 11, 12, 13, 14, 15]"
      ]
     },
     "execution_count": 289,
     "metadata": {},
     "output_type": "execute_result"
    }
   ],
   "source": [
    "nums"
   ]
  },
  {
   "cell_type": "code",
   "execution_count": 290,
   "id": "ce393d28",
   "metadata": {},
   "outputs": [],
   "source": [
    "nums.insert(6,5.5)"
   ]
  },
  {
   "cell_type": "code",
   "execution_count": 291,
   "id": "a1ee2d59",
   "metadata": {},
   "outputs": [
    {
     "data": {
      "text/plain": [
       "[100, 1, 2, 3, 4, 5, 5.5, 6, [7, 8, 9, 10], 11, 12, 13, 14, 15]"
      ]
     },
     "execution_count": 291,
     "metadata": {},
     "output_type": "execute_result"
    }
   ],
   "source": [
    "nums"
   ]
  },
  {
   "cell_type": "code",
   "execution_count": 293,
   "id": "a502c145",
   "metadata": {},
   "outputs": [],
   "source": [
    "nums[8].append(11)"
   ]
  },
  {
   "cell_type": "code",
   "execution_count": 294,
   "id": "11f8e532",
   "metadata": {},
   "outputs": [
    {
     "data": {
      "text/plain": [
       "[100, 1, 2, 3, 4, 5, 5.5, 6, [7, 8, 9, 10, 11], 11, 12, 13, 14, 15]"
      ]
     },
     "execution_count": 294,
     "metadata": {},
     "output_type": "execute_result"
    }
   ],
   "source": [
    "nums"
   ]
  },
  {
   "cell_type": "code",
   "execution_count": 295,
   "id": "11ed5e0d",
   "metadata": {},
   "outputs": [],
   "source": [
    "nums.remove(5.5)"
   ]
  },
  {
   "cell_type": "code",
   "execution_count": 296,
   "id": "19e54aa8",
   "metadata": {},
   "outputs": [
    {
     "data": {
      "text/plain": [
       "[100, 1, 2, 3, 4, 5, 6, [7, 8, 9, 10, 11], 11, 12, 13, 14, 15]"
      ]
     },
     "execution_count": 296,
     "metadata": {},
     "output_type": "execute_result"
    }
   ],
   "source": [
    "nums"
   ]
  },
  {
   "cell_type": "code",
   "execution_count": 297,
   "id": "21e94b01",
   "metadata": {},
   "outputs": [],
   "source": [
    "nums.remove(100)"
   ]
  },
  {
   "cell_type": "code",
   "execution_count": 298,
   "id": "2a1e96f9",
   "metadata": {},
   "outputs": [
    {
     "data": {
      "text/plain": [
       "[1, 2, 3, 4, 5, 6, [7, 8, 9, 10, 11], 11, 12, 13, 14, 15]"
      ]
     },
     "execution_count": 298,
     "metadata": {},
     "output_type": "execute_result"
    }
   ],
   "source": [
    "nums"
   ]
  },
  {
   "cell_type": "code",
   "execution_count": 299,
   "id": "e64a1651",
   "metadata": {},
   "outputs": [
    {
     "data": {
      "text/plain": [
       "[7, 8, 9, 10, 11]"
      ]
     },
     "execution_count": 299,
     "metadata": {},
     "output_type": "execute_result"
    }
   ],
   "source": [
    "nums.pop(6)"
   ]
  },
  {
   "cell_type": "code",
   "execution_count": 300,
   "id": "abf8f613",
   "metadata": {},
   "outputs": [
    {
     "data": {
      "text/plain": [
       "[1, 2, 3, 4, 5, 6, 11, 12, 13, 14, 15]"
      ]
     },
     "execution_count": 300,
     "metadata": {},
     "output_type": "execute_result"
    }
   ],
   "source": [
    "nums"
   ]
  },
  {
   "cell_type": "code",
   "execution_count": 301,
   "id": "1a19ac05",
   "metadata": {},
   "outputs": [
    {
     "data": {
      "text/plain": [
       "14"
      ]
     },
     "execution_count": 301,
     "metadata": {},
     "output_type": "execute_result"
    }
   ],
   "source": [
    "nums.pop(-2)"
   ]
  },
  {
   "cell_type": "code",
   "execution_count": 302,
   "id": "a10bb118",
   "metadata": {},
   "outputs": [
    {
     "data": {
      "text/plain": [
       "[1, 2, 3, 4, 5, 6, 11, 12, 13, 15]"
      ]
     },
     "execution_count": 302,
     "metadata": {},
     "output_type": "execute_result"
    }
   ],
   "source": [
    "nums"
   ]
  },
  {
   "cell_type": "code",
   "execution_count": 304,
   "id": "eb6f4cd1",
   "metadata": {},
   "outputs": [],
   "source": [
    "mylist=[1,4,2,5,7,8,4,35,66,4,76,7,5,30,11]"
   ]
  },
  {
   "cell_type": "code",
   "execution_count": 306,
   "id": "d99594cd",
   "metadata": {},
   "outputs": [
    {
     "data": {
      "text/plain": [
       "[1, 4, 2, 5, 7, 8, 4, 35, 66, 4, 76, 7, 5, 30, 11]"
      ]
     },
     "execution_count": 306,
     "metadata": {},
     "output_type": "execute_result"
    }
   ],
   "source": [
    "mylist"
   ]
  },
  {
   "cell_type": "code",
   "execution_count": 307,
   "id": "39cc254a",
   "metadata": {},
   "outputs": [],
   "source": [
    "mylist.sort()"
   ]
  },
  {
   "cell_type": "code",
   "execution_count": 308,
   "id": "99241b6c",
   "metadata": {},
   "outputs": [
    {
     "data": {
      "text/plain": [
       "[1, 2, 4, 4, 4, 5, 5, 7, 7, 8, 11, 30, 35, 66, 76]"
      ]
     },
     "execution_count": 308,
     "metadata": {},
     "output_type": "execute_result"
    }
   ],
   "source": [
    "mylist"
   ]
  },
  {
   "cell_type": "code",
   "execution_count": 309,
   "id": "7c64c012",
   "metadata": {},
   "outputs": [],
   "source": [
    "mylists=[1,4,2,5,7,8,4,35,66,4,76,7,5,30,11]"
   ]
  },
  {
   "cell_type": "code",
   "execution_count": 310,
   "id": "c8d9f6da",
   "metadata": {},
   "outputs": [],
   "source": [
    "mylists.sort(reverse=True)"
   ]
  },
  {
   "cell_type": "code",
   "execution_count": 311,
   "id": "6d8f0eae",
   "metadata": {},
   "outputs": [
    {
     "data": {
      "text/plain": [
       "[76, 66, 35, 30, 11, 8, 7, 7, 5, 5, 4, 4, 4, 2, 1]"
      ]
     },
     "execution_count": 311,
     "metadata": {},
     "output_type": "execute_result"
    }
   ],
   "source": [
    "mylists"
   ]
  },
  {
   "cell_type": "code",
   "execution_count": 312,
   "id": "546f48c1",
   "metadata": {},
   "outputs": [],
   "source": [
    "mylist2=[1,4,2,5,7,8,4,35,66,4,76,7,5,30,11]"
   ]
  },
  {
   "cell_type": "code",
   "execution_count": 313,
   "id": "73a73c43",
   "metadata": {},
   "outputs": [],
   "source": [
    "mylist2.reverse()"
   ]
  },
  {
   "cell_type": "code",
   "execution_count": 314,
   "id": "a05f1909",
   "metadata": {},
   "outputs": [
    {
     "data": {
      "text/plain": [
       "[11, 30, 5, 7, 76, 4, 66, 35, 4, 8, 7, 5, 2, 4, 1]"
      ]
     },
     "execution_count": 314,
     "metadata": {},
     "output_type": "execute_result"
    }
   ],
   "source": [
    "mylist2"
   ]
  },
  {
   "cell_type": "code",
   "execution_count": 317,
   "id": "e7bc2721",
   "metadata": {},
   "outputs": [
    {
     "data": {
      "text/plain": [
       "3"
      ]
     },
     "execution_count": 317,
     "metadata": {},
     "output_type": "execute_result"
    }
   ],
   "source": [
    "mylist2.count(4)"
   ]
  },
  {
   "cell_type": "code",
   "execution_count": 318,
   "id": "b1a52356",
   "metadata": {},
   "outputs": [
    {
     "data": {
      "text/plain": [
       "[11, 30, 5, 7, 76, 4, 66, 35, 4, 8, 7, 5, 2, 4, 1]"
      ]
     },
     "execution_count": 318,
     "metadata": {},
     "output_type": "execute_result"
    }
   ],
   "source": [
    "mylist2"
   ]
  },
  {
   "cell_type": "code",
   "execution_count": 319,
   "id": "70400f89",
   "metadata": {},
   "outputs": [],
   "source": [
    "mylist2.clear()"
   ]
  },
  {
   "cell_type": "code",
   "execution_count": 320,
   "id": "96958824",
   "metadata": {},
   "outputs": [
    {
     "data": {
      "text/plain": [
       "[]"
      ]
     },
     "execution_count": 320,
     "metadata": {},
     "output_type": "execute_result"
    }
   ],
   "source": [
    "mylist2"
   ]
  },
  {
   "cell_type": "markdown",
   "id": "b3d3a4a7",
   "metadata": {},
   "source": [
    "## COPY"
   ]
  },
  {
   "cell_type": "code",
   "execution_count": 321,
   "id": "ba8ed4f4",
   "metadata": {},
   "outputs": [],
   "source": [
    "nums=[1,2,3,4,5]"
   ]
  },
  {
   "cell_type": "code",
   "execution_count": 322,
   "id": "f60580cb",
   "metadata": {},
   "outputs": [],
   "source": [
    "nums_bk=nums"
   ]
  },
  {
   "cell_type": "code",
   "execution_count": 323,
   "id": "2b17c31b",
   "metadata": {},
   "outputs": [
    {
     "data": {
      "text/plain": [
       "[1, 2, 3, 4, 5]"
      ]
     },
     "execution_count": 323,
     "metadata": {},
     "output_type": "execute_result"
    }
   ],
   "source": [
    "nums"
   ]
  },
  {
   "cell_type": "code",
   "execution_count": 324,
   "id": "b6baf53e",
   "metadata": {},
   "outputs": [
    {
     "data": {
      "text/plain": [
       "[1, 2, 3, 4, 5]"
      ]
     },
     "execution_count": 324,
     "metadata": {},
     "output_type": "execute_result"
    }
   ],
   "source": [
    "nums_bk"
   ]
  },
  {
   "cell_type": "code",
   "execution_count": 325,
   "id": "dd6a7bb6",
   "metadata": {},
   "outputs": [],
   "source": [
    "nums.append(6)"
   ]
  },
  {
   "cell_type": "code",
   "execution_count": 326,
   "id": "736a3874",
   "metadata": {},
   "outputs": [
    {
     "data": {
      "text/plain": [
       "[1, 2, 3, 4, 5, 6]"
      ]
     },
     "execution_count": 326,
     "metadata": {},
     "output_type": "execute_result"
    }
   ],
   "source": [
    "nums"
   ]
  },
  {
   "cell_type": "code",
   "execution_count": 327,
   "id": "ee29df4f",
   "metadata": {},
   "outputs": [
    {
     "data": {
      "text/plain": [
       "[1, 2, 3, 4, 5, 6]"
      ]
     },
     "execution_count": 327,
     "metadata": {},
     "output_type": "execute_result"
    }
   ],
   "source": [
    "nums_bk"
   ]
  },
  {
   "cell_type": "code",
   "execution_count": 328,
   "id": "6b8932b0",
   "metadata": {},
   "outputs": [],
   "source": [
    "nums_bk.remove(4)"
   ]
  },
  {
   "cell_type": "code",
   "execution_count": 329,
   "id": "59577903",
   "metadata": {},
   "outputs": [
    {
     "data": {
      "text/plain": [
       "[1, 2, 3, 5, 6]"
      ]
     },
     "execution_count": 329,
     "metadata": {},
     "output_type": "execute_result"
    }
   ],
   "source": [
    "nums_bk"
   ]
  },
  {
   "cell_type": "code",
   "execution_count": 330,
   "id": "f1d31f69",
   "metadata": {},
   "outputs": [
    {
     "data": {
      "text/plain": [
       "[1, 2, 3, 5, 6]"
      ]
     },
     "execution_count": 330,
     "metadata": {},
     "output_type": "execute_result"
    }
   ],
   "source": [
    "nums"
   ]
  },
  {
   "cell_type": "code",
   "execution_count": 331,
   "id": "b316b457",
   "metadata": {},
   "outputs": [
    {
     "data": {
      "text/plain": [
       "2013573665152"
      ]
     },
     "execution_count": 331,
     "metadata": {},
     "output_type": "execute_result"
    }
   ],
   "source": [
    "id(nums)"
   ]
  },
  {
   "cell_type": "code",
   "execution_count": 332,
   "id": "f8f1e0f4",
   "metadata": {},
   "outputs": [
    {
     "data": {
      "text/plain": [
       "2013573665152"
      ]
     },
     "execution_count": 332,
     "metadata": {},
     "output_type": "execute_result"
    }
   ],
   "source": [
    "id(nums_bk)"
   ]
  },
  {
   "cell_type": "code",
   "execution_count": 333,
   "id": "cc66ce97",
   "metadata": {},
   "outputs": [],
   "source": [
    "#Shallow Copy and Deep Copy"
   ]
  },
  {
   "cell_type": "code",
   "execution_count": 334,
   "id": "d5600d91",
   "metadata": {},
   "outputs": [],
   "source": [
    "mylist=[1,2,[3,4],5]"
   ]
  },
  {
   "cell_type": "code",
   "execution_count": 335,
   "id": "14bb55ed",
   "metadata": {},
   "outputs": [],
   "source": [
    "import copy"
   ]
  },
  {
   "cell_type": "code",
   "execution_count": 336,
   "id": "8c72a087",
   "metadata": {},
   "outputs": [],
   "source": [
    "mylist_s = copy.copy(mylist)    #SHALLOW COPY"
   ]
  },
  {
   "cell_type": "code",
   "execution_count": 337,
   "id": "ead8b6af",
   "metadata": {},
   "outputs": [
    {
     "data": {
      "text/plain": [
       "[1, 2, [3, 4], 5]"
      ]
     },
     "execution_count": 337,
     "metadata": {},
     "output_type": "execute_result"
    }
   ],
   "source": [
    "mylist"
   ]
  },
  {
   "cell_type": "code",
   "execution_count": 338,
   "id": "d0d115eb",
   "metadata": {},
   "outputs": [
    {
     "data": {
      "text/plain": [
       "[1, 2, [3, 4], 5]"
      ]
     },
     "execution_count": 338,
     "metadata": {},
     "output_type": "execute_result"
    }
   ],
   "source": [
    "mylist_s"
   ]
  },
  {
   "cell_type": "code",
   "execution_count": 339,
   "id": "01ff5bc0",
   "metadata": {},
   "outputs": [],
   "source": [
    "mylist.append(6)"
   ]
  },
  {
   "cell_type": "code",
   "execution_count": 340,
   "id": "624f8196",
   "metadata": {},
   "outputs": [
    {
     "data": {
      "text/plain": [
       "[1, 2, [3, 4], 5, 6]"
      ]
     },
     "execution_count": 340,
     "metadata": {},
     "output_type": "execute_result"
    }
   ],
   "source": [
    "mylist"
   ]
  },
  {
   "cell_type": "code",
   "execution_count": 341,
   "id": "c4cc7893",
   "metadata": {},
   "outputs": [
    {
     "data": {
      "text/plain": [
       "[1, 2, [3, 4], 5]"
      ]
     },
     "execution_count": 341,
     "metadata": {},
     "output_type": "execute_result"
    }
   ],
   "source": [
    "mylist_s"
   ]
  },
  {
   "cell_type": "code",
   "execution_count": 342,
   "id": "b268a9d7",
   "metadata": {},
   "outputs": [],
   "source": [
    "mylist_s.insert(1,100)"
   ]
  },
  {
   "cell_type": "code",
   "execution_count": 343,
   "id": "30909b6f",
   "metadata": {},
   "outputs": [
    {
     "data": {
      "text/plain": [
       "[1, 100, 2, [3, 4], 5]"
      ]
     },
     "execution_count": 343,
     "metadata": {},
     "output_type": "execute_result"
    }
   ],
   "source": [
    "mylist_s"
   ]
  },
  {
   "cell_type": "code",
   "execution_count": 344,
   "id": "faa519fe",
   "metadata": {},
   "outputs": [
    {
     "data": {
      "text/plain": [
       "[1, 2, [3, 4], 5, 6]"
      ]
     },
     "execution_count": 344,
     "metadata": {},
     "output_type": "execute_result"
    }
   ],
   "source": [
    "mylist"
   ]
  },
  {
   "cell_type": "code",
   "execution_count": 346,
   "id": "900b5c67",
   "metadata": {},
   "outputs": [],
   "source": [
    "mylist[2].insert(1,3.5)"
   ]
  },
  {
   "cell_type": "code",
   "execution_count": 347,
   "id": "f54e9ef5",
   "metadata": {},
   "outputs": [
    {
     "data": {
      "text/plain": [
       "[1, 2, [3, 3.5, 4], 5, 6]"
      ]
     },
     "execution_count": 347,
     "metadata": {},
     "output_type": "execute_result"
    }
   ],
   "source": [
    "mylist"
   ]
  },
  {
   "cell_type": "code",
   "execution_count": 348,
   "id": "60c3dc2f",
   "metadata": {},
   "outputs": [
    {
     "data": {
      "text/plain": [
       "[1, 100, 2, [3, 3.5, 4], 5]"
      ]
     },
     "execution_count": 348,
     "metadata": {},
     "output_type": "execute_result"
    }
   ],
   "source": [
    "mylist_s"
   ]
  },
  {
   "cell_type": "code",
   "execution_count": 350,
   "id": "c8d27ffc",
   "metadata": {},
   "outputs": [],
   "source": [
    "mylist=[1,2,[3,4],5]     # FOR DEEP COPY DISCUSSION"
   ]
  },
  {
   "cell_type": "code",
   "execution_count": 351,
   "id": "3e15b0fb",
   "metadata": {},
   "outputs": [],
   "source": [
    "mylist_d = copy.deepcopy(mylist)"
   ]
  },
  {
   "cell_type": "code",
   "execution_count": 352,
   "id": "779da8f4",
   "metadata": {},
   "outputs": [
    {
     "data": {
      "text/plain": [
       "[1, 2, [3, 4], 5]"
      ]
     },
     "execution_count": 352,
     "metadata": {},
     "output_type": "execute_result"
    }
   ],
   "source": [
    "mylist"
   ]
  },
  {
   "cell_type": "code",
   "execution_count": 354,
   "id": "8ed2d6f4",
   "metadata": {},
   "outputs": [
    {
     "data": {
      "text/plain": [
       "[1, 2, [3, 4], 5]"
      ]
     },
     "execution_count": 354,
     "metadata": {},
     "output_type": "execute_result"
    }
   ],
   "source": [
    "mylist_d"
   ]
  },
  {
   "cell_type": "code",
   "execution_count": 355,
   "id": "265ff1c5",
   "metadata": {},
   "outputs": [],
   "source": [
    "mylist.extend([6,7])"
   ]
  },
  {
   "cell_type": "code",
   "execution_count": 356,
   "id": "7d71b48f",
   "metadata": {},
   "outputs": [
    {
     "data": {
      "text/plain": [
       "[1, 2, [3, 4], 5, 6, 7]"
      ]
     },
     "execution_count": 356,
     "metadata": {},
     "output_type": "execute_result"
    }
   ],
   "source": [
    "mylist"
   ]
  },
  {
   "cell_type": "code",
   "execution_count": 357,
   "id": "a2686cf7",
   "metadata": {},
   "outputs": [
    {
     "data": {
      "text/plain": [
       "[1, 2, [3, 4], 5]"
      ]
     },
     "execution_count": 357,
     "metadata": {},
     "output_type": "execute_result"
    }
   ],
   "source": [
    "mylist_d"
   ]
  },
  {
   "cell_type": "code",
   "execution_count": 358,
   "id": "2cd517f9",
   "metadata": {},
   "outputs": [],
   "source": [
    "mylist_d.insert(0,100)"
   ]
  },
  {
   "cell_type": "code",
   "execution_count": 360,
   "id": "0520ee4e",
   "metadata": {},
   "outputs": [
    {
     "data": {
      "text/plain": [
       "[100, 1, 2, [3, 4], 5]"
      ]
     },
     "execution_count": 360,
     "metadata": {},
     "output_type": "execute_result"
    }
   ],
   "source": [
    "mylist_d"
   ]
  },
  {
   "cell_type": "code",
   "execution_count": 361,
   "id": "383891a2",
   "metadata": {},
   "outputs": [
    {
     "data": {
      "text/plain": [
       "[1, 2, [3, 4], 5, 6, 7]"
      ]
     },
     "execution_count": 361,
     "metadata": {},
     "output_type": "execute_result"
    }
   ],
   "source": [
    "mylist"
   ]
  },
  {
   "cell_type": "code",
   "execution_count": 363,
   "id": "4816c9fa",
   "metadata": {},
   "outputs": [],
   "source": [
    "mylist[2].insert(1,3.5)"
   ]
  },
  {
   "cell_type": "code",
   "execution_count": 364,
   "id": "639b0e51",
   "metadata": {},
   "outputs": [
    {
     "data": {
      "text/plain": [
       "[1, 2, [3, 3.5, 4], 5, 6, 7]"
      ]
     },
     "execution_count": 364,
     "metadata": {},
     "output_type": "execute_result"
    }
   ],
   "source": [
    "mylist"
   ]
  },
  {
   "cell_type": "code",
   "execution_count": 365,
   "id": "6895a063",
   "metadata": {},
   "outputs": [
    {
     "data": {
      "text/plain": [
       "[100, 1, 2, [3, 4], 5]"
      ]
     },
     "execution_count": 365,
     "metadata": {},
     "output_type": "execute_result"
    }
   ],
   "source": [
    "mylist_d"
   ]
  },
  {
   "cell_type": "code",
   "execution_count": null,
   "id": "458313a2",
   "metadata": {},
   "outputs": [],
   "source": [
    "'''\n",
    "append\n",
    "extend\n",
    "insert\n",
    "remove\n",
    "pop\n",
    "sort\n",
    "reverse\n",
    "count\n",
    "clear\n",
    "copy -> shallow and deep\n",
    "index\n",
    "'''"
   ]
  },
  {
   "cell_type": "markdown",
   "id": "8b4d65b8",
   "metadata": {},
   "source": [
    "# TUPLE"
   ]
  },
  {
   "cell_type": "code",
   "execution_count": 366,
   "id": "da8922ea",
   "metadata": {},
   "outputs": [],
   "source": [
    "mytuple=()"
   ]
  },
  {
   "cell_type": "code",
   "execution_count": 367,
   "id": "3b28dffe",
   "metadata": {},
   "outputs": [
    {
     "data": {
      "text/plain": [
       "tuple"
      ]
     },
     "execution_count": 367,
     "metadata": {},
     "output_type": "execute_result"
    }
   ],
   "source": [
    "type(mytuple)"
   ]
  },
  {
   "cell_type": "code",
   "execution_count": 368,
   "id": "9e2ef0a3",
   "metadata": {},
   "outputs": [],
   "source": [
    "t1=tuple()"
   ]
  },
  {
   "cell_type": "code",
   "execution_count": 369,
   "id": "1ee9edd6",
   "metadata": {},
   "outputs": [
    {
     "data": {
      "text/plain": [
       "tuple"
      ]
     },
     "execution_count": 369,
     "metadata": {},
     "output_type": "execute_result"
    }
   ],
   "source": [
    "type(t1)"
   ]
  },
  {
   "cell_type": "code",
   "execution_count": 370,
   "id": "d3eb6e7b",
   "metadata": {},
   "outputs": [],
   "source": [
    "nums=(1,2,3,4,5,5,5,6,7,6,5,4,3,2,1)"
   ]
  },
  {
   "cell_type": "code",
   "execution_count": 371,
   "id": "38e49128",
   "metadata": {},
   "outputs": [
    {
     "data": {
      "text/plain": [
       "(1, 2, 3, 4, 5, 5, 5, 6, 7, 6, 5, 4, 3, 2, 1)"
      ]
     },
     "execution_count": 371,
     "metadata": {},
     "output_type": "execute_result"
    }
   ],
   "source": [
    "nums"
   ]
  },
  {
   "cell_type": "code",
   "execution_count": 372,
   "id": "0cb2f85a",
   "metadata": {},
   "outputs": [
    {
     "data": {
      "text/plain": [
       "tuple"
      ]
     },
     "execution_count": 372,
     "metadata": {},
     "output_type": "execute_result"
    }
   ],
   "source": [
    "type(nums)"
   ]
  },
  {
   "cell_type": "code",
   "execution_count": 373,
   "id": "8d38ce3f",
   "metadata": {},
   "outputs": [
    {
     "data": {
      "text/plain": [
       "4"
      ]
     },
     "execution_count": 373,
     "metadata": {},
     "output_type": "execute_result"
    }
   ],
   "source": [
    "nums.count(5)"
   ]
  },
  {
   "cell_type": "code",
   "execution_count": 375,
   "id": "d0a86d79",
   "metadata": {},
   "outputs": [
    {
     "data": {
      "text/plain": [
       "8"
      ]
     },
     "execution_count": 375,
     "metadata": {},
     "output_type": "execute_result"
    }
   ],
   "source": [
    "nums.index(7)"
   ]
  },
  {
   "cell_type": "code",
   "execution_count": 376,
   "id": "ab2f13d1",
   "metadata": {},
   "outputs": [],
   "source": [
    "# TUPLE FUNCTIONS"
   ]
  },
  {
   "cell_type": "code",
   "execution_count": 377,
   "id": "34b4df22",
   "metadata": {},
   "outputs": [
    {
     "data": {
      "text/plain": [
       "15"
      ]
     },
     "execution_count": 377,
     "metadata": {},
     "output_type": "execute_result"
    }
   ],
   "source": [
    "len(nums)"
   ]
  },
  {
   "cell_type": "code",
   "execution_count": 378,
   "id": "192a61e0",
   "metadata": {},
   "outputs": [
    {
     "data": {
      "text/plain": [
       "1"
      ]
     },
     "execution_count": 378,
     "metadata": {},
     "output_type": "execute_result"
    }
   ],
   "source": [
    "min(nums)"
   ]
  },
  {
   "cell_type": "code",
   "execution_count": 379,
   "id": "9f7c971b",
   "metadata": {},
   "outputs": [
    {
     "data": {
      "text/plain": [
       "7"
      ]
     },
     "execution_count": 379,
     "metadata": {},
     "output_type": "execute_result"
    }
   ],
   "source": [
    "max(nums)"
   ]
  },
  {
   "cell_type": "code",
   "execution_count": 380,
   "id": "51a320f5",
   "metadata": {},
   "outputs": [
    {
     "data": {
      "text/plain": [
       "59"
      ]
     },
     "execution_count": 380,
     "metadata": {},
     "output_type": "execute_result"
    }
   ],
   "source": [
    "sum(nums)"
   ]
  },
  {
   "cell_type": "code",
   "execution_count": null,
   "id": "bf11817c",
   "metadata": {},
   "outputs": [],
   "source": [
    " '''\n",
    "    LIST Vs Tuple\n",
    "   1. List is Mutable whereas Tuple is immutable\n",
    "   2. List takes more memory than tuple\n",
    "   3. List cosumes more time to process than tuple \n",
    "'''"
   ]
  },
  {
   "cell_type": "code",
   "execution_count": 381,
   "id": "ce537b68",
   "metadata": {},
   "outputs": [],
   "source": [
    "import sys"
   ]
  },
  {
   "cell_type": "code",
   "execution_count": 382,
   "id": "e5f2b13d",
   "metadata": {},
   "outputs": [
    {
     "data": {
      "text/plain": [
       "152"
      ]
     },
     "execution_count": 382,
     "metadata": {},
     "output_type": "execute_result"
    }
   ],
   "source": [
    "list1=[1,2,3,4,5,6,7,8,9,10]\n",
    "tuple1=(1,2,3,4,5,6,7,8,9,10)\n",
    "\n",
    "sys.getsizeof(list1)"
   ]
  },
  {
   "cell_type": "code",
   "execution_count": 383,
   "id": "df31596c",
   "metadata": {},
   "outputs": [
    {
     "data": {
      "text/plain": [
       "120"
      ]
     },
     "execution_count": 383,
     "metadata": {},
     "output_type": "execute_result"
    }
   ],
   "source": [
    "sys.getsizeof(tuple1)"
   ]
  },
  {
   "cell_type": "code",
   "execution_count": 395,
   "id": "a129ecc9",
   "metadata": {},
   "outputs": [
    {
     "data": {
      "text/plain": [
       "64.48939989786595"
      ]
     },
     "execution_count": 395,
     "metadata": {},
     "output_type": "execute_result"
    }
   ],
   "source": [
    "import timeit\n",
    "\n",
    "timeit.timeit(stmt=\"[1,2,3,4,5,6,7,8,9,10]\", number=1000000)*1000"
   ]
  },
  {
   "cell_type": "code",
   "execution_count": 396,
   "id": "34a8f653",
   "metadata": {},
   "outputs": [
    {
     "data": {
      "text/plain": [
       "13.156000059098005"
      ]
     },
     "execution_count": 396,
     "metadata": {},
     "output_type": "execute_result"
    }
   ],
   "source": [
    "timeit.timeit(stmt=\"(1,2,3,4,5,6,7,8,9,10)\", number=1000000)*1000"
   ]
  },
  {
   "cell_type": "code",
   "execution_count": 397,
   "id": "9088b038",
   "metadata": {},
   "outputs": [],
   "source": [
    "onelist=[10]"
   ]
  },
  {
   "cell_type": "code",
   "execution_count": 398,
   "id": "2fd4654e",
   "metadata": {},
   "outputs": [
    {
     "data": {
      "text/plain": [
       "list"
      ]
     },
     "execution_count": 398,
     "metadata": {},
     "output_type": "execute_result"
    }
   ],
   "source": [
    "type(onelist)"
   ]
  },
  {
   "cell_type": "code",
   "execution_count": 405,
   "id": "6c444c71",
   "metadata": {},
   "outputs": [],
   "source": [
    "onetuple=(10,)"
   ]
  },
  {
   "cell_type": "code",
   "execution_count": 406,
   "id": "fa5955ab",
   "metadata": {},
   "outputs": [
    {
     "data": {
      "text/plain": [
       "tuple"
      ]
     },
     "execution_count": 406,
     "metadata": {},
     "output_type": "execute_result"
    }
   ],
   "source": [
    "type(onetuple)"
   ]
  },
  {
   "cell_type": "markdown",
   "id": "53fbf93e",
   "metadata": {},
   "source": [
    "# DICTIONARY"
   ]
  },
  {
   "cell_type": "code",
   "execution_count": null,
   "id": "8cbd89a5",
   "metadata": {},
   "outputs": [],
   "source": [
    "'''\n",
    "Dictionary is a key value pairs of elements\n",
    "key:value\n",
    "key cannot be duplicated\n",
    "It is unordered array, hash, hashmap,\n",
    "'''"
   ]
  },
  {
   "cell_type": "code",
   "execution_count": 412,
   "id": "7594c793",
   "metadata": {},
   "outputs": [],
   "source": [
    "trainer_info={}"
   ]
  },
  {
   "cell_type": "code",
   "execution_count": 413,
   "id": "151d8623",
   "metadata": {},
   "outputs": [
    {
     "data": {
      "text/plain": [
       "dict"
      ]
     },
     "execution_count": 413,
     "metadata": {},
     "output_type": "execute_result"
    }
   ],
   "source": [
    "type(trainer_info)"
   ]
  },
  {
   "cell_type": "code",
   "execution_count": 414,
   "id": "b6f99dc8",
   "metadata": {},
   "outputs": [],
   "source": [
    "trainer_info={'name':'Raghul Ramesh','age':37,'tech':'python',100:'Century'}"
   ]
  },
  {
   "cell_type": "code",
   "execution_count": 415,
   "id": "8610fd79",
   "metadata": {},
   "outputs": [
    {
     "data": {
      "text/plain": [
       "{'name': 'Raghul Ramesh', 'age': 37, 'tech': 'python', 100: 'Century'}"
      ]
     },
     "execution_count": 415,
     "metadata": {},
     "output_type": "execute_result"
    }
   ],
   "source": [
    "trainer_info"
   ]
  },
  {
   "cell_type": "code",
   "execution_count": 416,
   "id": "87fc3c47",
   "metadata": {},
   "outputs": [
    {
     "data": {
      "text/plain": [
       "'Raghul Ramesh'"
      ]
     },
     "execution_count": 416,
     "metadata": {},
     "output_type": "execute_result"
    }
   ],
   "source": [
    "trainer_info['name']"
   ]
  },
  {
   "cell_type": "code",
   "execution_count": 417,
   "id": "2b5221b1",
   "metadata": {},
   "outputs": [],
   "source": [
    "trainer_info['city']='Chennai'"
   ]
  },
  {
   "cell_type": "code",
   "execution_count": 419,
   "id": "f2e7996f",
   "metadata": {},
   "outputs": [
    {
     "name": "stdout",
     "output_type": "stream",
     "text": [
      "{'name': 'Raghul Ramesh', 'age': 37, 'tech': 'python', 100: 'Century', 'city': 'Chennai'}\n"
     ]
    }
   ],
   "source": [
    "print(trainer_info)"
   ]
  },
  {
   "cell_type": "code",
   "execution_count": 420,
   "id": "0334bd50",
   "metadata": {},
   "outputs": [],
   "source": [
    "trainer_info['manager']='Mudit'"
   ]
  },
  {
   "cell_type": "code",
   "execution_count": 421,
   "id": "9032912e",
   "metadata": {},
   "outputs": [
    {
     "data": {
      "text/plain": [
       "{'name': 'Raghul Ramesh',\n",
       " 'age': 37,\n",
       " 'tech': 'python',\n",
       " 100: 'Century',\n",
       " 'city': 'Chennai',\n",
       " 'manager': 'Mudit'}"
      ]
     },
     "execution_count": 421,
     "metadata": {},
     "output_type": "execute_result"
    }
   ],
   "source": [
    "trainer_info"
   ]
  },
  {
   "cell_type": "code",
   "execution_count": 422,
   "id": "d7a1c7b5",
   "metadata": {},
   "outputs": [],
   "source": [
    "trainer_info['age']=100"
   ]
  },
  {
   "cell_type": "code",
   "execution_count": 423,
   "id": "428fde2b",
   "metadata": {},
   "outputs": [
    {
     "data": {
      "text/plain": [
       "{'name': 'Raghul Ramesh',\n",
       " 'age': 100,\n",
       " 'tech': 'python',\n",
       " 100: 'Century',\n",
       " 'city': 'Chennai',\n",
       " 'manager': 'Mudit'}"
      ]
     },
     "execution_count": 423,
     "metadata": {},
     "output_type": "execute_result"
    }
   ],
   "source": [
    "trainer_info"
   ]
  },
  {
   "cell_type": "code",
   "execution_count": 424,
   "id": "206abb71",
   "metadata": {},
   "outputs": [],
   "source": [
    "trainer_info.update({'city':'Bangalore','salary':1000,'fav_food':'spicy','country':'india'})"
   ]
  },
  {
   "cell_type": "code",
   "execution_count": 425,
   "id": "87f9bae2",
   "metadata": {},
   "outputs": [
    {
     "name": "stdout",
     "output_type": "stream",
     "text": [
      "{'name': 'Raghul Ramesh', 'age': 100, 'tech': 'python', 100: 'Century', 'city': 'Bangalore', 'manager': 'Mudit', 'salary': 1000, 'fav_food': 'spicy', 'country': 'india'}\n"
     ]
    }
   ],
   "source": [
    "print(trainer_info)"
   ]
  },
  {
   "cell_type": "code",
   "execution_count": 427,
   "id": "9da4bbc9",
   "metadata": {},
   "outputs": [],
   "source": [
    "del trainer_info['fav_food']"
   ]
  },
  {
   "cell_type": "code",
   "execution_count": 429,
   "id": "b2d1d2b0",
   "metadata": {},
   "outputs": [
    {
     "name": "stdout",
     "output_type": "stream",
     "text": [
      "{'name': 'Raghul Ramesh', 'age': 100, 'tech': 'python', 100: 'Century', 'city': 'Bangalore', 'manager': 'Mudit', 'salary': 1000, 'country': 'india'}\n"
     ]
    }
   ],
   "source": [
    "print(trainer_info)"
   ]
  },
  {
   "cell_type": "code",
   "execution_count": 430,
   "id": "48847563",
   "metadata": {},
   "outputs": [
    {
     "data": {
      "text/plain": [
       "1000"
      ]
     },
     "execution_count": 430,
     "metadata": {},
     "output_type": "execute_result"
    }
   ],
   "source": [
    "trainer_info.pop('salary')"
   ]
  },
  {
   "cell_type": "code",
   "execution_count": 431,
   "id": "09fcf0c8",
   "metadata": {},
   "outputs": [
    {
     "name": "stdout",
     "output_type": "stream",
     "text": [
      "{'name': 'Raghul Ramesh', 'age': 100, 'tech': 'python', 100: 'Century', 'city': 'Bangalore', 'manager': 'Mudit', 'country': 'india'}\n"
     ]
    }
   ],
   "source": [
    "print(trainer_info)"
   ]
  },
  {
   "cell_type": "code",
   "execution_count": 433,
   "id": "9aff87ad",
   "metadata": {},
   "outputs": [
    {
     "data": {
      "text/plain": [
       "'Century'"
      ]
     },
     "execution_count": 433,
     "metadata": {},
     "output_type": "execute_result"
    }
   ],
   "source": [
    "trainer_info.pop(100)"
   ]
  },
  {
   "cell_type": "code",
   "execution_count": 434,
   "id": "10104ae7",
   "metadata": {},
   "outputs": [
    {
     "name": "stdout",
     "output_type": "stream",
     "text": [
      "{'name': 'Raghul Ramesh', 'age': 100, 'tech': 'python', 'city': 'Bangalore', 'manager': 'Mudit', 'country': 'india'}\n"
     ]
    }
   ],
   "source": [
    "print(trainer_info)"
   ]
  },
  {
   "cell_type": "code",
   "execution_count": 435,
   "id": "4f3ea774",
   "metadata": {},
   "outputs": [
    {
     "data": {
      "text/plain": [
       "('country', 'india')"
      ]
     },
     "execution_count": 435,
     "metadata": {},
     "output_type": "execute_result"
    }
   ],
   "source": [
    "trainer_info.popitem()"
   ]
  },
  {
   "cell_type": "code",
   "execution_count": 436,
   "id": "f808f5a8",
   "metadata": {},
   "outputs": [
    {
     "name": "stdout",
     "output_type": "stream",
     "text": [
      "{'name': 'Raghul Ramesh', 'age': 100, 'tech': 'python', 'city': 'Bangalore', 'manager': 'Mudit'}\n"
     ]
    }
   ],
   "source": [
    "print(trainer_info)"
   ]
  },
  {
   "cell_type": "code",
   "execution_count": 437,
   "id": "2ebe01b4",
   "metadata": {},
   "outputs": [
    {
     "data": {
      "text/plain": [
       "('manager', 'Mudit')"
      ]
     },
     "execution_count": 437,
     "metadata": {},
     "output_type": "execute_result"
    }
   ],
   "source": [
    "trainer_info.popitem()"
   ]
  },
  {
   "cell_type": "code",
   "execution_count": 438,
   "id": "37875b0d",
   "metadata": {},
   "outputs": [
    {
     "name": "stdout",
     "output_type": "stream",
     "text": [
      "{'name': 'Raghul Ramesh', 'age': 100, 'tech': 'python', 'city': 'Bangalore'}\n"
     ]
    }
   ],
   "source": [
    "print(trainer_info)"
   ]
  },
  {
   "cell_type": "code",
   "execution_count": 439,
   "id": "2078ad1e",
   "metadata": {},
   "outputs": [
    {
     "data": {
      "text/plain": [
       "'Raghul Ramesh'"
      ]
     },
     "execution_count": 439,
     "metadata": {},
     "output_type": "execute_result"
    }
   ],
   "source": [
    "trainer_info['name']"
   ]
  },
  {
   "cell_type": "code",
   "execution_count": 440,
   "id": "543d8b02",
   "metadata": {},
   "outputs": [
    {
     "ename": "KeyError",
     "evalue": "'country'",
     "output_type": "error",
     "traceback": [
      "\u001b[1;31m---------------------------------------------------------------------------\u001b[0m",
      "\u001b[1;31mKeyError\u001b[0m                                  Traceback (most recent call last)",
      "Input \u001b[1;32mIn [440]\u001b[0m, in \u001b[0;36m<cell line: 1>\u001b[1;34m()\u001b[0m\n\u001b[1;32m----> 1\u001b[0m \u001b[43mtrainer_info\u001b[49m\u001b[43m[\u001b[49m\u001b[38;5;124;43m'\u001b[39;49m\u001b[38;5;124;43mcountry\u001b[39;49m\u001b[38;5;124;43m'\u001b[39;49m\u001b[43m]\u001b[49m\n",
      "\u001b[1;31mKeyError\u001b[0m: 'country'"
     ]
    }
   ],
   "source": [
    "trainer_info['country']"
   ]
  },
  {
   "cell_type": "code",
   "execution_count": 441,
   "id": "26e38cd9",
   "metadata": {},
   "outputs": [
    {
     "data": {
      "text/plain": [
       "'Raghul Ramesh'"
      ]
     },
     "execution_count": 441,
     "metadata": {},
     "output_type": "execute_result"
    }
   ],
   "source": [
    "#get, setdefault\n",
    "\n",
    "trainer_info.get('name')"
   ]
  },
  {
   "cell_type": "code",
   "execution_count": 447,
   "id": "f94ba473",
   "metadata": {},
   "outputs": [
    {
     "data": {
      "text/plain": [
       "'Not Exists'"
      ]
     },
     "execution_count": 447,
     "metadata": {},
     "output_type": "execute_result"
    }
   ],
   "source": [
    "trainer_info.get('salary','Not Exists')"
   ]
  },
  {
   "cell_type": "code",
   "execution_count": 448,
   "id": "dacf023a",
   "metadata": {},
   "outputs": [
    {
     "data": {
      "text/plain": [
       "{'name': 'Raghul Ramesh', 'age': 100, 'tech': 'python', 'city': 'Bangalore'}"
      ]
     },
     "execution_count": 448,
     "metadata": {},
     "output_type": "execute_result"
    }
   ],
   "source": [
    "trainer_info"
   ]
  },
  {
   "cell_type": "code",
   "execution_count": 449,
   "id": "b7a303b2",
   "metadata": {},
   "outputs": [
    {
     "data": {
      "text/plain": [
       "'Raghul Ramesh'"
      ]
     },
     "execution_count": 449,
     "metadata": {},
     "output_type": "execute_result"
    }
   ],
   "source": [
    "trainer_info.setdefault('name')"
   ]
  },
  {
   "cell_type": "code",
   "execution_count": 450,
   "id": "87a6eda6",
   "metadata": {},
   "outputs": [
    {
     "data": {
      "text/plain": [
       "100"
      ]
     },
     "execution_count": 450,
     "metadata": {},
     "output_type": "execute_result"
    }
   ],
   "source": [
    "trainer_info.setdefault('age')"
   ]
  },
  {
   "cell_type": "code",
   "execution_count": 451,
   "id": "a6dc4354",
   "metadata": {},
   "outputs": [
    {
     "data": {
      "text/plain": [
       "{'name': 'Raghul Ramesh', 'age': 100, 'tech': 'python', 'city': 'Bangalore'}"
      ]
     },
     "execution_count": 451,
     "metadata": {},
     "output_type": "execute_result"
    }
   ],
   "source": [
    "trainer_info"
   ]
  },
  {
   "cell_type": "code",
   "execution_count": 454,
   "id": "04a5db64",
   "metadata": {},
   "outputs": [
    {
     "data": {
      "text/plain": [
       "'India'"
      ]
     },
     "execution_count": 454,
     "metadata": {},
     "output_type": "execute_result"
    }
   ],
   "source": [
    "trainer_info.setdefault('country','India')"
   ]
  },
  {
   "cell_type": "code",
   "execution_count": 455,
   "id": "0bf4effc",
   "metadata": {},
   "outputs": [
    {
     "data": {
      "text/plain": [
       "{'name': 'Raghul Ramesh',\n",
       " 'age': 100,\n",
       " 'tech': 'python',\n",
       " 'city': 'Bangalore',\n",
       " 'salary': None,\n",
       " 'country': 'India'}"
      ]
     },
     "execution_count": 455,
     "metadata": {},
     "output_type": "execute_result"
    }
   ],
   "source": [
    "trainer_info"
   ]
  },
  {
   "cell_type": "code",
   "execution_count": 456,
   "id": "27d28672",
   "metadata": {},
   "outputs": [],
   "source": [
    "trainer_info['salary']=10000"
   ]
  },
  {
   "cell_type": "code",
   "execution_count": 457,
   "id": "84f50538",
   "metadata": {},
   "outputs": [
    {
     "data": {
      "text/plain": [
       "{'name': 'Raghul Ramesh',\n",
       " 'age': 100,\n",
       " 'tech': 'python',\n",
       " 'city': 'Bangalore',\n",
       " 'salary': 10000,\n",
       " 'country': 'India'}"
      ]
     },
     "execution_count": 457,
     "metadata": {},
     "output_type": "execute_result"
    }
   ],
   "source": [
    "trainer_info"
   ]
  },
  {
   "cell_type": "code",
   "execution_count": 458,
   "id": "e9928e85",
   "metadata": {},
   "outputs": [
    {
     "data": {
      "text/plain": [
       "dict_keys(['name', 'age', 'tech', 'city', 'salary', 'country'])"
      ]
     },
     "execution_count": 458,
     "metadata": {},
     "output_type": "execute_result"
    }
   ],
   "source": [
    "trainer_info.keys()"
   ]
  },
  {
   "cell_type": "code",
   "execution_count": 459,
   "id": "51e6a3c6",
   "metadata": {},
   "outputs": [
    {
     "data": {
      "text/plain": [
       "dict_values(['Raghul Ramesh', 100, 'python', 'Bangalore', 10000, 'India'])"
      ]
     },
     "execution_count": 459,
     "metadata": {},
     "output_type": "execute_result"
    }
   ],
   "source": [
    "trainer_info.values()"
   ]
  },
  {
   "cell_type": "code",
   "execution_count": 460,
   "id": "f5c1f81d",
   "metadata": {},
   "outputs": [
    {
     "data": {
      "text/plain": [
       "dict_items([('name', 'Raghul Ramesh'), ('age', 100), ('tech', 'python'), ('city', 'Bangalore'), ('salary', 10000), ('country', 'India')])"
      ]
     },
     "execution_count": 460,
     "metadata": {},
     "output_type": "execute_result"
    }
   ],
   "source": [
    "trainer_info.items()"
   ]
  },
  {
   "cell_type": "code",
   "execution_count": 464,
   "id": "b1aead08",
   "metadata": {},
   "outputs": [
    {
     "name": "stdout",
     "output_type": "stream",
     "text": [
      "name ====> Raghul Ramesh\n",
      "age ====> 100\n",
      "tech ====> python\n",
      "city ====> Bangalore\n",
      "salary ====> 10000\n",
      "country ====> India\n"
     ]
    }
   ],
   "source": [
    "for k in trainer_info.keys():\n",
    "    print(k+\" ====> \"+ str(trainer_info[k]))"
   ]
  },
  {
   "cell_type": "code",
   "execution_count": 465,
   "id": "a03b7f0a",
   "metadata": {},
   "outputs": [
    {
     "name": "stdout",
     "output_type": "stream",
     "text": [
      "name ====> Raghul Ramesh\n",
      "age ====> 100\n",
      "tech ====> python\n",
      "city ====> Bangalore\n",
      "salary ====> 10000\n",
      "country ====> India\n"
     ]
    }
   ],
   "source": [
    "for k,v in trainer_info.items():\n",
    "    print(k+\" ====> \"+ str(v))"
   ]
  },
  {
   "cell_type": "code",
   "execution_count": 466,
   "id": "399818c4",
   "metadata": {},
   "outputs": [],
   "source": [
    "trainer_info.clear()"
   ]
  },
  {
   "cell_type": "code",
   "execution_count": 468,
   "id": "a5f8150a",
   "metadata": {},
   "outputs": [
    {
     "data": {
      "text/plain": [
       "{}"
      ]
     },
     "execution_count": 468,
     "metadata": {},
     "output_type": "execute_result"
    }
   ],
   "source": [
    "trainer_info"
   ]
  },
  {
   "cell_type": "code",
   "execution_count": null,
   "id": "6c29ce73",
   "metadata": {},
   "outputs": [],
   "source": [
    "'''\n",
    "get\n",
    "setdefult\n",
    "update\n",
    "pop\n",
    "popitem\n",
    "keys\n",
    "values\n",
    "items\n",
    "clear\n",
    "\n",
    "'''"
   ]
  },
  {
   "cell_type": "markdown",
   "id": "775b73ed",
   "metadata": {},
   "source": [
    "# SET"
   ]
  },
  {
   "cell_type": "code",
   "execution_count": 469,
   "id": "327f2eaa",
   "metadata": {},
   "outputs": [
    {
     "data": {
      "text/plain": [
       "'\\nSet will not store the duplicate value\\nset will store the elements in an ascending order\\n'"
      ]
     },
     "execution_count": 469,
     "metadata": {},
     "output_type": "execute_result"
    }
   ],
   "source": [
    "'''\n",
    "Set will not store the duplicate value\n",
    "set will store the elements in an ascending order\n",
    "'''"
   ]
  },
  {
   "cell_type": "code",
   "execution_count": 470,
   "id": "79fb4b5c",
   "metadata": {},
   "outputs": [],
   "source": [
    "myset={}"
   ]
  },
  {
   "cell_type": "code",
   "execution_count": 471,
   "id": "372e8bd6",
   "metadata": {},
   "outputs": [
    {
     "data": {
      "text/plain": [
       "dict"
      ]
     },
     "execution_count": 471,
     "metadata": {},
     "output_type": "execute_result"
    }
   ],
   "source": [
    "type(myset)"
   ]
  },
  {
   "cell_type": "code",
   "execution_count": 472,
   "id": "3aa09a99",
   "metadata": {},
   "outputs": [],
   "source": [
    "myset={1,2,4,1,2,5,7,5,4,3,8,5,3,2,11,11,111,2,4,5,6,7}"
   ]
  },
  {
   "cell_type": "code",
   "execution_count": 473,
   "id": "bb97707c",
   "metadata": {},
   "outputs": [
    {
     "data": {
      "text/plain": [
       "{1, 2, 3, 4, 5, 6, 7, 8, 11, 111}"
      ]
     },
     "execution_count": 473,
     "metadata": {},
     "output_type": "execute_result"
    }
   ],
   "source": [
    "myset"
   ]
  },
  {
   "cell_type": "code",
   "execution_count": 474,
   "id": "689e8258",
   "metadata": {},
   "outputs": [
    {
     "data": {
      "text/plain": [
       "set"
      ]
     },
     "execution_count": 474,
     "metadata": {},
     "output_type": "execute_result"
    }
   ],
   "source": [
    "type(myset)"
   ]
  },
  {
   "cell_type": "code",
   "execution_count": 475,
   "id": "9d6ffe30",
   "metadata": {},
   "outputs": [],
   "source": [
    "myset.add(100)"
   ]
  },
  {
   "cell_type": "code",
   "execution_count": 476,
   "id": "42099597",
   "metadata": {},
   "outputs": [
    {
     "data": {
      "text/plain": [
       "{1, 2, 3, 4, 5, 6, 7, 8, 11, 100, 111}"
      ]
     },
     "execution_count": 476,
     "metadata": {},
     "output_type": "execute_result"
    }
   ],
   "source": [
    "myset"
   ]
  },
  {
   "cell_type": "code",
   "execution_count": 477,
   "id": "0f52e45b",
   "metadata": {},
   "outputs": [],
   "source": [
    "myset.add(100)"
   ]
  },
  {
   "cell_type": "code",
   "execution_count": 478,
   "id": "e1833ec9",
   "metadata": {},
   "outputs": [
    {
     "data": {
      "text/plain": [
       "{1, 2, 3, 4, 5, 6, 7, 8, 11, 100, 111}"
      ]
     },
     "execution_count": 478,
     "metadata": {},
     "output_type": "execute_result"
    }
   ],
   "source": [
    "myset"
   ]
  },
  {
   "cell_type": "code",
   "execution_count": 479,
   "id": "2d2cd413",
   "metadata": {},
   "outputs": [],
   "source": [
    "myset.remove(4)"
   ]
  },
  {
   "cell_type": "code",
   "execution_count": 480,
   "id": "dc5a24e4",
   "metadata": {},
   "outputs": [
    {
     "data": {
      "text/plain": [
       "{1, 2, 3, 5, 6, 7, 8, 11, 100, 111}"
      ]
     },
     "execution_count": 480,
     "metadata": {},
     "output_type": "execute_result"
    }
   ],
   "source": [
    "myset"
   ]
  },
  {
   "cell_type": "code",
   "execution_count": 483,
   "id": "b96032b8",
   "metadata": {},
   "outputs": [],
   "source": [
    "#----REMOVE THE DUPLICATES FROM LIST OF ELEMENTS\n",
    "\n",
    "list1=[1,3,4,3,2,5,4,5,7,9,5,6,7,8,9]"
   ]
  },
  {
   "cell_type": "code",
   "execution_count": 487,
   "id": "e58dae43",
   "metadata": {},
   "outputs": [
    {
     "data": {
      "text/plain": [
       "[1, 2, 3, 4, 5, 6, 7, 8, 9]"
      ]
     },
     "execution_count": 487,
     "metadata": {},
     "output_type": "execute_result"
    }
   ],
   "source": [
    "list(set(list1))"
   ]
  },
  {
   "cell_type": "code",
   "execution_count": 488,
   "id": "a80cb6f4",
   "metadata": {},
   "outputs": [],
   "source": [
    "odds={1,3,5,7,9}\n",
    "even={2,4,6,8,10}\n",
    "prime={1,3,5,7}\n",
    "composites={2,3,4,5,6,7,8}"
   ]
  },
  {
   "cell_type": "code",
   "execution_count": 489,
   "id": "eb760ddd",
   "metadata": {},
   "outputs": [
    {
     "data": {
      "text/plain": [
       "{1, 2, 3, 4, 5, 6, 7, 8, 9, 10}"
      ]
     },
     "execution_count": 489,
     "metadata": {},
     "output_type": "execute_result"
    }
   ],
   "source": [
    "odds.union(even)"
   ]
  },
  {
   "cell_type": "code",
   "execution_count": 490,
   "id": "e6740517",
   "metadata": {},
   "outputs": [
    {
     "data": {
      "text/plain": [
       "{1, 2, 3, 4, 5, 6, 7, 8, 9, 10}"
      ]
     },
     "execution_count": 490,
     "metadata": {},
     "output_type": "execute_result"
    }
   ],
   "source": [
    "even.union(odds)"
   ]
  },
  {
   "cell_type": "code",
   "execution_count": 491,
   "id": "1aab6295",
   "metadata": {},
   "outputs": [
    {
     "data": {
      "text/plain": [
       "{2, 4, 6, 8}"
      ]
     },
     "execution_count": 491,
     "metadata": {},
     "output_type": "execute_result"
    }
   ],
   "source": [
    "even.intersection(composites)"
   ]
  },
  {
   "cell_type": "code",
   "execution_count": 492,
   "id": "7a514251",
   "metadata": {},
   "outputs": [
    {
     "data": {
      "text/plain": [
       "{3, 5, 7}"
      ]
     },
     "execution_count": 492,
     "metadata": {},
     "output_type": "execute_result"
    }
   ],
   "source": [
    "odds.intersection(composites)"
   ]
  },
  {
   "cell_type": "code",
   "execution_count": 493,
   "id": "e4227196",
   "metadata": {},
   "outputs": [
    {
     "data": {
      "text/plain": [
       "{2, 4, 6, 8}"
      ]
     },
     "execution_count": 493,
     "metadata": {},
     "output_type": "execute_result"
    }
   ],
   "source": [
    "composites.difference(odds)"
   ]
  },
  {
   "cell_type": "code",
   "execution_count": 494,
   "id": "5308c1c0",
   "metadata": {},
   "outputs": [
    {
     "data": {
      "text/plain": [
       "{1, 9}"
      ]
     },
     "execution_count": 494,
     "metadata": {},
     "output_type": "execute_result"
    }
   ],
   "source": [
    "odds.difference(composites)"
   ]
  },
  {
   "cell_type": "code",
   "execution_count": null,
   "id": "2bda91a5",
   "metadata": {},
   "outputs": [],
   "source": [
    "odds={1,3,5,7,9}\n",
    "composites={2,3,4,5,6,7,8}"
   ]
  },
  {
   "cell_type": "code",
   "execution_count": null,
   "id": "243af979",
   "metadata": {},
   "outputs": [],
   "source": [
    "{1,2,4,6,8,9}"
   ]
  },
  {
   "cell_type": "code",
   "execution_count": 495,
   "id": "2e37486e",
   "metadata": {},
   "outputs": [
    {
     "data": {
      "text/plain": [
       "{1, 2, 4, 6, 8, 9}"
      ]
     },
     "execution_count": 495,
     "metadata": {},
     "output_type": "execute_result"
    }
   ],
   "source": [
    "(composites.difference(odds)).union(odds.difference(composites))"
   ]
  },
  {
   "cell_type": "code",
   "execution_count": 498,
   "id": "126d0a1e",
   "metadata": {},
   "outputs": [
    {
     "data": {
      "text/plain": [
       "{1, 2, 4, 6, 8, 9}"
      ]
     },
     "execution_count": 498,
     "metadata": {},
     "output_type": "execute_result"
    }
   ],
   "source": [
    "composites.symmetric_difference(odds)"
   ]
  },
  {
   "cell_type": "code",
   "execution_count": null,
   "id": "73204b18",
   "metadata": {},
   "outputs": [],
   "source": []
  }
 ],
 "metadata": {
  "kernelspec": {
   "display_name": "Python 3 (ipykernel)",
   "language": "python",
   "name": "python3"
  },
  "language_info": {
   "codemirror_mode": {
    "name": "ipython",
    "version": 3
   },
   "file_extension": ".py",
   "mimetype": "text/x-python",
   "name": "python",
   "nbconvert_exporter": "python",
   "pygments_lexer": "ipython3",
   "version": "3.10.4"
  }
 },
 "nbformat": 4,
 "nbformat_minor": 5
}
