{
 "cells": [
  {
   "cell_type": "code",
   "execution_count": null,
   "id": "cc08e994",
   "metadata": {},
   "outputs": [],
   "source": [
    "'''\n",
    "functions => definitions\n",
    "function should get created using def keyword\n",
    "'''"
   ]
  },
  {
   "cell_type": "code",
   "execution_count": 1,
   "id": "0706f025",
   "metadata": {},
   "outputs": [],
   "source": [
    "def findbignum(x,y,z):\n",
    "    if x>y and x>z:\n",
    "        return x\n",
    "    elif y>x and y>z:\n",
    "        return y\n",
    "    else:\n",
    "        return z"
   ]
  },
  {
   "cell_type": "code",
   "execution_count": 4,
   "id": "28596d89",
   "metadata": {},
   "outputs": [
    {
     "data": {
      "text/plain": [
       "200"
      ]
     },
     "execution_count": 4,
     "metadata": {},
     "output_type": "execute_result"
    }
   ],
   "source": [
    "findbignum(100,200,30)"
   ]
  },
  {
   "cell_type": "code",
   "execution_count": 5,
   "id": "bdc57acb",
   "metadata": {},
   "outputs": [],
   "source": [
    "def addnums(x,y):\n",
    "    return x+y"
   ]
  },
  {
   "cell_type": "code",
   "execution_count": 6,
   "id": "f989df5b",
   "metadata": {},
   "outputs": [
    {
     "data": {
      "text/plain": [
       "300"
      ]
     },
     "execution_count": 6,
     "metadata": {},
     "output_type": "execute_result"
    }
   ],
   "source": [
    "addnums(100,200)"
   ]
  },
  {
   "cell_type": "code",
   "execution_count": 7,
   "id": "9f6d5a18",
   "metadata": {},
   "outputs": [
    {
     "ename": "TypeError",
     "evalue": "addnums() missing 1 required positional argument: 'y'",
     "output_type": "error",
     "traceback": [
      "\u001b[1;31m---------------------------------------------------------------------------\u001b[0m",
      "\u001b[1;31mTypeError\u001b[0m                                 Traceback (most recent call last)",
      "Input \u001b[1;32mIn [7]\u001b[0m, in \u001b[0;36m<cell line: 1>\u001b[1;34m()\u001b[0m\n\u001b[1;32m----> 1\u001b[0m \u001b[43maddnums\u001b[49m\u001b[43m(\u001b[49m\u001b[38;5;241;43m100\u001b[39;49m\u001b[43m)\u001b[49m\n",
      "\u001b[1;31mTypeError\u001b[0m: addnums() missing 1 required positional argument: 'y'"
     ]
    }
   ],
   "source": [
    "addnums(100)"
   ]
  },
  {
   "cell_type": "code",
   "execution_count": 8,
   "id": "3e4739ad",
   "metadata": {},
   "outputs": [],
   "source": [
    "def addnums(x,y):\n",
    "    '''addnums function should be called with 2 integer value to get the sum of them'''\n",
    "    return x+y"
   ]
  },
  {
   "cell_type": "code",
   "execution_count": 9,
   "id": "2293aa1d",
   "metadata": {},
   "outputs": [
    {
     "data": {
      "text/plain": [
       "'addnums function should be called with 2 integer value to get the sum of them'"
      ]
     },
     "execution_count": 9,
     "metadata": {},
     "output_type": "execute_result"
    }
   ],
   "source": [
    "addnums.__doc__"
   ]
  },
  {
   "cell_type": "code",
   "execution_count": 10,
   "id": "9c62ed42",
   "metadata": {},
   "outputs": [
    {
     "data": {
      "text/plain": [
       "30"
      ]
     },
     "execution_count": 10,
     "metadata": {},
     "output_type": "execute_result"
    }
   ],
   "source": [
    "addnums(10,20)"
   ]
  },
  {
   "cell_type": "code",
   "execution_count": 11,
   "id": "8e2bc839",
   "metadata": {},
   "outputs": [
    {
     "ename": "TypeError",
     "evalue": "addnums() takes 2 positional arguments but 5 were given",
     "output_type": "error",
     "traceback": [
      "\u001b[1;31m---------------------------------------------------------------------------\u001b[0m",
      "\u001b[1;31mTypeError\u001b[0m                                 Traceback (most recent call last)",
      "Input \u001b[1;32mIn [11]\u001b[0m, in \u001b[0;36m<cell line: 1>\u001b[1;34m()\u001b[0m\n\u001b[1;32m----> 1\u001b[0m \u001b[43maddnums\u001b[49m\u001b[43m(\u001b[49m\u001b[38;5;241;43m10\u001b[39;49m\u001b[43m,\u001b[49m\u001b[38;5;241;43m20\u001b[39;49m\u001b[43m,\u001b[49m\u001b[38;5;241;43m30\u001b[39;49m\u001b[43m,\u001b[49m\u001b[38;5;241;43m40\u001b[39;49m\u001b[43m,\u001b[49m\u001b[38;5;241;43m50\u001b[39;49m\u001b[43m)\u001b[49m\n",
      "\u001b[1;31mTypeError\u001b[0m: addnums() takes 2 positional arguments but 5 were given"
     ]
    }
   ],
   "source": [
    "addnums(10,20,30,40,50)"
   ]
  },
  {
   "cell_type": "code",
   "execution_count": 12,
   "id": "f05ed705",
   "metadata": {},
   "outputs": [
    {
     "ename": "TypeError",
     "evalue": "addnums() missing 1 required positional argument: 'y'",
     "output_type": "error",
     "traceback": [
      "\u001b[1;31m---------------------------------------------------------------------------\u001b[0m",
      "\u001b[1;31mTypeError\u001b[0m                                 Traceback (most recent call last)",
      "Input \u001b[1;32mIn [12]\u001b[0m, in \u001b[0;36m<cell line: 1>\u001b[1;34m()\u001b[0m\n\u001b[1;32m----> 1\u001b[0m \u001b[43maddnums\u001b[49m\u001b[43m(\u001b[49m\u001b[38;5;241;43m10\u001b[39;49m\u001b[43m)\u001b[49m\n",
      "\u001b[1;31mTypeError\u001b[0m: addnums() missing 1 required positional argument: 'y'"
     ]
    }
   ],
   "source": [
    "addnums(10)"
   ]
  },
  {
   "cell_type": "code",
   "execution_count": 13,
   "id": "a69a2b8f",
   "metadata": {},
   "outputs": [],
   "source": [
    "#DEFAULT ARGUMENT\n",
    "def addnums(x,y=0):\n",
    "    return x+y"
   ]
  },
  {
   "cell_type": "code",
   "execution_count": 14,
   "id": "7549af13",
   "metadata": {},
   "outputs": [
    {
     "data": {
      "text/plain": [
       "300"
      ]
     },
     "execution_count": 14,
     "metadata": {},
     "output_type": "execute_result"
    }
   ],
   "source": [
    "addnums(100,200)"
   ]
  },
  {
   "cell_type": "code",
   "execution_count": 15,
   "id": "0c203724",
   "metadata": {},
   "outputs": [
    {
     "data": {
      "text/plain": [
       "100"
      ]
     },
     "execution_count": 15,
     "metadata": {},
     "output_type": "execute_result"
    }
   ],
   "source": [
    "addnums(100)"
   ]
  },
  {
   "cell_type": "code",
   "execution_count": 16,
   "id": "2c357d6a",
   "metadata": {},
   "outputs": [
    {
     "ename": "SyntaxError",
     "evalue": "non-default argument follows default argument (46109416.py, line 2)",
     "output_type": "error",
     "traceback": [
      "\u001b[1;36m  Input \u001b[1;32mIn [16]\u001b[1;36m\u001b[0m\n\u001b[1;33m    def addnums(x=0,y):\u001b[0m\n\u001b[1;37m                    ^\u001b[0m\n\u001b[1;31mSyntaxError\u001b[0m\u001b[1;31m:\u001b[0m non-default argument follows default argument\n"
     ]
    }
   ],
   "source": [
    "#DEFAULT ARGUMENT\n",
    "def addnums(x=0,y):\n",
    "    return x+y"
   ]
  },
  {
   "cell_type": "code",
   "execution_count": 17,
   "id": "e2a13a0e",
   "metadata": {},
   "outputs": [
    {
     "ename": "TypeError",
     "evalue": "addnums() takes from 1 to 2 positional arguments but 3 were given",
     "output_type": "error",
     "traceback": [
      "\u001b[1;31m---------------------------------------------------------------------------\u001b[0m",
      "\u001b[1;31mTypeError\u001b[0m                                 Traceback (most recent call last)",
      "Input \u001b[1;32mIn [17]\u001b[0m, in \u001b[0;36m<cell line: 1>\u001b[1;34m()\u001b[0m\n\u001b[1;32m----> 1\u001b[0m \u001b[43maddnums\u001b[49m\u001b[43m(\u001b[49m\u001b[38;5;241;43m10\u001b[39;49m\u001b[43m,\u001b[49m\u001b[38;5;241;43m20\u001b[39;49m\u001b[43m,\u001b[49m\u001b[38;5;241;43m30\u001b[39;49m\u001b[43m)\u001b[49m\n",
      "\u001b[1;31mTypeError\u001b[0m: addnums() takes from 1 to 2 positional arguments but 3 were given"
     ]
    }
   ],
   "source": [
    "addnums(10,20,30)"
   ]
  },
  {
   "cell_type": "code",
   "execution_count": 18,
   "id": "d0373715",
   "metadata": {},
   "outputs": [],
   "source": [
    "# *args \n",
    "\n",
    "def addnums(x,*y):\n",
    "    return x+sum(y)"
   ]
  },
  {
   "cell_type": "code",
   "execution_count": 19,
   "id": "0b03ff62",
   "metadata": {},
   "outputs": [
    {
     "data": {
      "text/plain": [
       "60"
      ]
     },
     "execution_count": 19,
     "metadata": {},
     "output_type": "execute_result"
    }
   ],
   "source": [
    "addnums(10,20,30)"
   ]
  },
  {
   "cell_type": "code",
   "execution_count": 20,
   "id": "296ce7a9",
   "metadata": {},
   "outputs": [
    {
     "data": {
      "text/plain": [
       "550"
      ]
     },
     "execution_count": 20,
     "metadata": {},
     "output_type": "execute_result"
    }
   ],
   "source": [
    "addnums(10,20,30,40,50,60,70,80,90,100)"
   ]
  },
  {
   "cell_type": "code",
   "execution_count": 21,
   "id": "144fecd4",
   "metadata": {},
   "outputs": [
    {
     "data": {
      "text/plain": [
       "30"
      ]
     },
     "execution_count": 21,
     "metadata": {},
     "output_type": "execute_result"
    }
   ],
   "source": [
    "addnums(10,20)"
   ]
  },
  {
   "cell_type": "code",
   "execution_count": 22,
   "id": "f4f371d6",
   "metadata": {},
   "outputs": [
    {
     "data": {
      "text/plain": [
       "10"
      ]
     },
     "execution_count": 22,
     "metadata": {},
     "output_type": "execute_result"
    }
   ],
   "source": [
    "addnums(10)"
   ]
  },
  {
   "cell_type": "code",
   "execution_count": 23,
   "id": "61ef43d0",
   "metadata": {},
   "outputs": [],
   "source": [
    "#**kwargs (keyword argument)"
   ]
  },
  {
   "cell_type": "code",
   "execution_count": 29,
   "id": "33fb42cf",
   "metadata": {},
   "outputs": [],
   "source": [
    "def getinfo(**x):\n",
    "    for k in x.keys():\n",
    "        print(k + ' ---> '+str(x[k]))"
   ]
  },
  {
   "cell_type": "code",
   "execution_count": 30,
   "id": "5751a839",
   "metadata": {},
   "outputs": [
    {
     "name": "stdout",
     "output_type": "stream",
     "text": [
      "name ---> Raghul Ramesh\n",
      "city ---> Chennai\n",
      "age ---> 37\n",
      "tech ---> python\n",
      "exp ---> 16\n",
      "ismanager ---> False\n"
     ]
    }
   ],
   "source": [
    "getinfo(name=\"Raghul Ramesh\",city=\"Chennai\",age=37,tech=\"python\",exp=16,ismanager=False)"
   ]
  },
  {
   "cell_type": "code",
   "execution_count": 31,
   "id": "f0d6d242",
   "metadata": {},
   "outputs": [],
   "source": [
    "def fibonacci(x):\n",
    "    if x<=0:\n",
    "        print(\"Incorrect Value!\")\n",
    "    elif x == 1:\n",
    "        return 0\n",
    "    elif x == 2:\n",
    "        return 1\n",
    "    else:\n",
    "        return fibonacci(x-1)+fibonacci(x-2)\n",
    "    "
   ]
  },
  {
   "cell_type": "code",
   "execution_count": 32,
   "id": "494ae084",
   "metadata": {},
   "outputs": [
    {
     "data": {
      "text/plain": [
       "34"
      ]
     },
     "execution_count": 32,
     "metadata": {},
     "output_type": "execute_result"
    }
   ],
   "source": [
    "fibonacci(10)"
   ]
  },
  {
   "cell_type": "code",
   "execution_count": 34,
   "id": "dc3744f9",
   "metadata": {},
   "outputs": [],
   "source": [
    "def oddoreven(x):\n",
    "    if x%2==0:\n",
    "        print(\"{} is an even number\".format(x))\n",
    "    else:\n",
    "        print(\"{} is an odd numbr\".format(x))"
   ]
  },
  {
   "cell_type": "code",
   "execution_count": 36,
   "id": "ac2ebb7b",
   "metadata": {},
   "outputs": [
    {
     "name": "stdout",
     "output_type": "stream",
     "text": [
      "4314 is an even number\n"
     ]
    }
   ],
   "source": [
    "oddoreven(4314)"
   ]
  },
  {
   "cell_type": "code",
   "execution_count": 37,
   "id": "03ed721c",
   "metadata": {},
   "outputs": [],
   "source": [
    "def squareit(nums):\n",
    "    res=[]\n",
    "    for x in nums:\n",
    "        res.append(x*x)\n",
    "    return res"
   ]
  },
  {
   "cell_type": "code",
   "execution_count": 38,
   "id": "f90009b7",
   "metadata": {},
   "outputs": [
    {
     "data": {
      "text/plain": [
       "[1, 4, 9, 16, 25, 36, 49, 64, 81, 100]"
      ]
     },
     "execution_count": 38,
     "metadata": {},
     "output_type": "execute_result"
    }
   ],
   "source": [
    "squareit([1,2,3,4,5,6,7,8,9,10])"
   ]
  },
  {
   "cell_type": "markdown",
   "id": "7f9fa8ea",
   "metadata": {},
   "source": [
    "# SPECIAL FUNCTIONS"
   ]
  },
  {
   "cell_type": "code",
   "execution_count": null,
   "id": "f5b269dd",
   "metadata": {},
   "outputs": [],
   "source": [
    "#lambda , map, filter, reduce\n",
    "#lambda function is anonymous fucntion and it is one line funtion and we dont use def keyword to create a function and also we\n",
    "#dont name the fucntion, no return keyword used\n",
    "#syntax: lambda input:<expr cum return>"
   ]
  },
  {
   "cell_type": "code",
   "execution_count": 39,
   "id": "d6edf170",
   "metadata": {},
   "outputs": [
    {
     "data": {
      "text/plain": [
       "300"
      ]
     },
     "execution_count": 39,
     "metadata": {},
     "output_type": "execute_result"
    }
   ],
   "source": [
    "(lambda x,y:x+y)(100,200)"
   ]
  },
  {
   "cell_type": "code",
   "execution_count": 40,
   "id": "211d5e4a",
   "metadata": {},
   "outputs": [],
   "source": [
    "s=lambda x,y:x+y"
   ]
  },
  {
   "cell_type": "code",
   "execution_count": 41,
   "id": "c31c2c93",
   "metadata": {},
   "outputs": [
    {
     "data": {
      "text/plain": [
       "60"
      ]
     },
     "execution_count": 41,
     "metadata": {},
     "output_type": "execute_result"
    }
   ],
   "source": [
    "s(10,50)"
   ]
  },
  {
   "cell_type": "code",
   "execution_count": 42,
   "id": "4945a584",
   "metadata": {},
   "outputs": [
    {
     "data": {
      "text/plain": [
       "56"
      ]
     },
     "execution_count": 42,
     "metadata": {},
     "output_type": "execute_result"
    }
   ],
   "source": [
    "s(1,55)"
   ]
  },
  {
   "cell_type": "markdown",
   "id": "56a036b6",
   "metadata": {},
   "source": [
    "# map"
   ]
  },
  {
   "cell_type": "code",
   "execution_count": 43,
   "id": "ada8b232",
   "metadata": {},
   "outputs": [
    {
     "data": {
      "text/plain": [
       "[1, 4, 9, 16, 25, 36, 49, 64, 81, 100]"
      ]
     },
     "execution_count": 43,
     "metadata": {},
     "output_type": "execute_result"
    }
   ],
   "source": [
    "#map(function, values)\n",
    "nums=list(range(1,11))\n",
    "list(map(lambda x:x**2 ,nums ))"
   ]
  },
  {
   "cell_type": "code",
   "execution_count": 44,
   "id": "9959702a",
   "metadata": {},
   "outputs": [],
   "source": [
    "def squrenums(x):\n",
    "    return x*x"
   ]
  },
  {
   "cell_type": "code",
   "execution_count": 45,
   "id": "091c59c4",
   "metadata": {},
   "outputs": [
    {
     "data": {
      "text/plain": [
       "[1, 4, 9, 16, 25, 36, 49, 64, 81, 100]"
      ]
     },
     "execution_count": 45,
     "metadata": {},
     "output_type": "execute_result"
    }
   ],
   "source": [
    "list(map(squrenums ,nums ))"
   ]
  },
  {
   "cell_type": "markdown",
   "id": "b802c17e",
   "metadata": {},
   "source": [
    "# filter"
   ]
  },
  {
   "cell_type": "code",
   "execution_count": 47,
   "id": "3eb57b3d",
   "metadata": {},
   "outputs": [
    {
     "data": {
      "text/plain": [
       "[1, 3, 5, 7, 9]"
      ]
     },
     "execution_count": 47,
     "metadata": {},
     "output_type": "execute_result"
    }
   ],
   "source": [
    "list(filter(lambda x:x%2==1, nums))"
   ]
  },
  {
   "cell_type": "markdown",
   "id": "b8689fea",
   "metadata": {},
   "source": [
    "# Reduce"
   ]
  },
  {
   "cell_type": "code",
   "execution_count": 48,
   "id": "18f4c3c9",
   "metadata": {},
   "outputs": [],
   "source": [
    "import functools"
   ]
  },
  {
   "cell_type": "code",
   "execution_count": 49,
   "id": "39fb9079",
   "metadata": {},
   "outputs": [
    {
     "data": {
      "text/plain": [
       "3628800"
      ]
     },
     "execution_count": 49,
     "metadata": {},
     "output_type": "execute_result"
    }
   ],
   "source": [
    "functools.reduce(lambda x,y:x*y , nums)"
   ]
  },
  {
   "cell_type": "code",
   "execution_count": null,
   "id": "6f3e581c",
   "metadata": {},
   "outputs": [],
   "source": []
  }
 ],
 "metadata": {
  "kernelspec": {
   "display_name": "Python 3 (ipykernel)",
   "language": "python",
   "name": "python3"
  },
  "language_info": {
   "codemirror_mode": {
    "name": "ipython",
    "version": 3
   },
   "file_extension": ".py",
   "mimetype": "text/x-python",
   "name": "python",
   "nbconvert_exporter": "python",
   "pygments_lexer": "ipython3",
   "version": "3.10.4"
  }
 },
 "nbformat": 4,
 "nbformat_minor": 5
}
