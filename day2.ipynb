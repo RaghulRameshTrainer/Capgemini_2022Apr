{
 "cells": [
  {
   "cell_type": "code",
   "execution_count": null,
   "id": "b7048df4",
   "metadata": {},
   "outputs": [],
   "source": [
    "'''\n",
    "functions => definitions\n",
    "function should get created using def keyword\n",
    "'''"
   ]
  },
  {
   "cell_type": "code",
   "execution_count": 1,
   "id": "8df76c6e",
   "metadata": {},
   "outputs": [],
   "source": [
    "def findbignum(x,y,z):\n",
    "    if x>y and x>z:\n",
    "        return x\n",
    "    elif y>x and y>z:\n",
    "        return y\n",
    "    else:\n",
    "        return z"
   ]
  },
  {
   "cell_type": "code",
   "execution_count": 4,
   "id": "87854766",
   "metadata": {},
   "outputs": [
    {
     "data": {
      "text/plain": [
       "200"
      ]
     },
     "execution_count": 4,
     "metadata": {},
     "output_type": "execute_result"
    }
   ],
   "source": [
    "findbignum(100,200,30)"
   ]
  },
  {
   "cell_type": "code",
   "execution_count": 5,
   "id": "05698290",
   "metadata": {},
   "outputs": [],
   "source": [
    "def addnums(x,y):\n",
    "    return x+y"
   ]
  },
  {
   "cell_type": "code",
   "execution_count": 6,
   "id": "c3a72c56",
   "metadata": {},
   "outputs": [
    {
     "data": {
      "text/plain": [
       "300"
      ]
     },
     "execution_count": 6,
     "metadata": {},
     "output_type": "execute_result"
    }
   ],
   "source": [
    "addnums(100,200)"
   ]
  },
  {
   "cell_type": "code",
   "execution_count": 7,
   "id": "5f710d28",
   "metadata": {},
   "outputs": [
    {
     "ename": "TypeError",
     "evalue": "addnums() missing 1 required positional argument: 'y'",
     "output_type": "error",
     "traceback": [
      "\u001b[1;31m---------------------------------------------------------------------------\u001b[0m",
      "\u001b[1;31mTypeError\u001b[0m                                 Traceback (most recent call last)",
      "Input \u001b[1;32mIn [7]\u001b[0m, in \u001b[0;36m<cell line: 1>\u001b[1;34m()\u001b[0m\n\u001b[1;32m----> 1\u001b[0m \u001b[43maddnums\u001b[49m\u001b[43m(\u001b[49m\u001b[38;5;241;43m100\u001b[39;49m\u001b[43m)\u001b[49m\n",
      "\u001b[1;31mTypeError\u001b[0m: addnums() missing 1 required positional argument: 'y'"
     ]
    }
   ],
   "source": [
    "addnums(100)"
   ]
  },
  {
   "cell_type": "code",
   "execution_count": 8,
   "id": "6c9c2575",
   "metadata": {},
   "outputs": [],
   "source": [
    "def addnums(x,y):\n",
    "    '''addnums function should be called with 2 integer value to get the sum of them'''\n",
    "    return x+y"
   ]
  },
  {
   "cell_type": "code",
   "execution_count": 9,
   "id": "cbfcf495",
   "metadata": {},
   "outputs": [
    {
     "data": {
      "text/plain": [
       "'addnums function should be called with 2 integer value to get the sum of them'"
      ]
     },
     "execution_count": 9,
     "metadata": {},
     "output_type": "execute_result"
    }
   ],
   "source": [
    "addnums.__doc__"
   ]
  },
  {
   "cell_type": "code",
   "execution_count": 10,
   "id": "e3652d1e",
   "metadata": {},
   "outputs": [
    {
     "data": {
      "text/plain": [
       "30"
      ]
     },
     "execution_count": 10,
     "metadata": {},
     "output_type": "execute_result"
    }
   ],
   "source": [
    "addnums(10,20)"
   ]
  },
  {
   "cell_type": "code",
   "execution_count": 11,
   "id": "3fa92eaf",
   "metadata": {},
   "outputs": [
    {
     "ename": "TypeError",
     "evalue": "addnums() takes 2 positional arguments but 5 were given",
     "output_type": "error",
     "traceback": [
      "\u001b[1;31m---------------------------------------------------------------------------\u001b[0m",
      "\u001b[1;31mTypeError\u001b[0m                                 Traceback (most recent call last)",
      "Input \u001b[1;32mIn [11]\u001b[0m, in \u001b[0;36m<cell line: 1>\u001b[1;34m()\u001b[0m\n\u001b[1;32m----> 1\u001b[0m \u001b[43maddnums\u001b[49m\u001b[43m(\u001b[49m\u001b[38;5;241;43m10\u001b[39;49m\u001b[43m,\u001b[49m\u001b[38;5;241;43m20\u001b[39;49m\u001b[43m,\u001b[49m\u001b[38;5;241;43m30\u001b[39;49m\u001b[43m,\u001b[49m\u001b[38;5;241;43m40\u001b[39;49m\u001b[43m,\u001b[49m\u001b[38;5;241;43m50\u001b[39;49m\u001b[43m)\u001b[49m\n",
      "\u001b[1;31mTypeError\u001b[0m: addnums() takes 2 positional arguments but 5 were given"
     ]
    }
   ],
   "source": [
    "addnums(10,20,30,40,50)"
   ]
  },
  {
   "cell_type": "code",
   "execution_count": 12,
   "id": "720a6fc2",
   "metadata": {},
   "outputs": [
    {
     "ename": "TypeError",
     "evalue": "addnums() missing 1 required positional argument: 'y'",
     "output_type": "error",
     "traceback": [
      "\u001b[1;31m---------------------------------------------------------------------------\u001b[0m",
      "\u001b[1;31mTypeError\u001b[0m                                 Traceback (most recent call last)",
      "Input \u001b[1;32mIn [12]\u001b[0m, in \u001b[0;36m<cell line: 1>\u001b[1;34m()\u001b[0m\n\u001b[1;32m----> 1\u001b[0m \u001b[43maddnums\u001b[49m\u001b[43m(\u001b[49m\u001b[38;5;241;43m10\u001b[39;49m\u001b[43m)\u001b[49m\n",
      "\u001b[1;31mTypeError\u001b[0m: addnums() missing 1 required positional argument: 'y'"
     ]
    }
   ],
   "source": [
    "addnums(10)"
   ]
  },
  {
   "cell_type": "code",
   "execution_count": 13,
   "id": "96d3315d",
   "metadata": {},
   "outputs": [],
   "source": [
    "#DEFAULT ARGUMENT\n",
    "def addnums(x,y=0):\n",
    "    return x+y"
   ]
  },
  {
   "cell_type": "code",
   "execution_count": 14,
   "id": "5abfca17",
   "metadata": {},
   "outputs": [
    {
     "data": {
      "text/plain": [
       "300"
      ]
     },
     "execution_count": 14,
     "metadata": {},
     "output_type": "execute_result"
    }
   ],
   "source": [
    "addnums(100,200)"
   ]
  },
  {
   "cell_type": "code",
   "execution_count": 15,
   "id": "fbf749b4",
   "metadata": {},
   "outputs": [
    {
     "data": {
      "text/plain": [
       "100"
      ]
     },
     "execution_count": 15,
     "metadata": {},
     "output_type": "execute_result"
    }
   ],
   "source": [
    "addnums(100)"
   ]
  },
  {
   "cell_type": "code",
   "execution_count": 16,
   "id": "b2f4f1bc",
   "metadata": {},
   "outputs": [
    {
     "ename": "SyntaxError",
     "evalue": "non-default argument follows default argument (46109416.py, line 2)",
     "output_type": "error",
     "traceback": [
      "\u001b[1;36m  Input \u001b[1;32mIn [16]\u001b[1;36m\u001b[0m\n\u001b[1;33m    def addnums(x=0,y):\u001b[0m\n\u001b[1;37m                    ^\u001b[0m\n\u001b[1;31mSyntaxError\u001b[0m\u001b[1;31m:\u001b[0m non-default argument follows default argument\n"
     ]
    }
   ],
   "source": [
    "#DEFAULT ARGUMENT\n",
    "def addnums(x=0,y):\n",
    "    return x+y"
   ]
  },
  {
   "cell_type": "code",
   "execution_count": 17,
   "id": "487e88f2",
   "metadata": {},
   "outputs": [
    {
     "ename": "TypeError",
     "evalue": "addnums() takes from 1 to 2 positional arguments but 3 were given",
     "output_type": "error",
     "traceback": [
      "\u001b[1;31m---------------------------------------------------------------------------\u001b[0m",
      "\u001b[1;31mTypeError\u001b[0m                                 Traceback (most recent call last)",
      "Input \u001b[1;32mIn [17]\u001b[0m, in \u001b[0;36m<cell line: 1>\u001b[1;34m()\u001b[0m\n\u001b[1;32m----> 1\u001b[0m \u001b[43maddnums\u001b[49m\u001b[43m(\u001b[49m\u001b[38;5;241;43m10\u001b[39;49m\u001b[43m,\u001b[49m\u001b[38;5;241;43m20\u001b[39;49m\u001b[43m,\u001b[49m\u001b[38;5;241;43m30\u001b[39;49m\u001b[43m)\u001b[49m\n",
      "\u001b[1;31mTypeError\u001b[0m: addnums() takes from 1 to 2 positional arguments but 3 were given"
     ]
    }
   ],
   "source": [
    "addnums(10,20,30)"
   ]
  },
  {
   "cell_type": "code",
   "execution_count": 18,
   "id": "5048206c",
   "metadata": {},
   "outputs": [],
   "source": [
    "# *args \n",
    "\n",
    "def addnums(x,*y):\n",
    "    return x+sum(y)"
   ]
  },
  {
   "cell_type": "code",
   "execution_count": 19,
   "id": "37958af7",
   "metadata": {},
   "outputs": [
    {
     "data": {
      "text/plain": [
       "60"
      ]
     },
     "execution_count": 19,
     "metadata": {},
     "output_type": "execute_result"
    }
   ],
   "source": [
    "addnums(10,20,30)"
   ]
  },
  {
   "cell_type": "code",
   "execution_count": 20,
   "id": "12671b73",
   "metadata": {},
   "outputs": [
    {
     "data": {
      "text/plain": [
       "550"
      ]
     },
     "execution_count": 20,
     "metadata": {},
     "output_type": "execute_result"
    }
   ],
   "source": [
    "addnums(10,20,30,40,50,60,70,80,90,100)"
   ]
  },
  {
   "cell_type": "code",
   "execution_count": 21,
   "id": "29b14f29",
   "metadata": {},
   "outputs": [
    {
     "data": {
      "text/plain": [
       "30"
      ]
     },
     "execution_count": 21,
     "metadata": {},
     "output_type": "execute_result"
    }
   ],
   "source": [
    "addnums(10,20)"
   ]
  },
  {
   "cell_type": "code",
   "execution_count": 22,
   "id": "aef3c6d7",
   "metadata": {},
   "outputs": [
    {
     "data": {
      "text/plain": [
       "10"
      ]
     },
     "execution_count": 22,
     "metadata": {},
     "output_type": "execute_result"
    }
   ],
   "source": [
    "addnums(10)"
   ]
  },
  {
   "cell_type": "code",
   "execution_count": 23,
   "id": "ce05de06",
   "metadata": {},
   "outputs": [],
   "source": [
    "#**kwargs (keyword argument)"
   ]
  },
  {
   "cell_type": "code",
   "execution_count": 29,
   "id": "bca9ccbe",
   "metadata": {},
   "outputs": [],
   "source": [
    "def getinfo(**x):\n",
    "    for k in x.keys():\n",
    "        print(k + ' ---> '+str(x[k]))"
   ]
  },
  {
   "cell_type": "code",
   "execution_count": 30,
   "id": "ea43bedb",
   "metadata": {},
   "outputs": [
    {
     "name": "stdout",
     "output_type": "stream",
     "text": [
      "name ---> Raghul Ramesh\n",
      "city ---> Chennai\n",
      "age ---> 37\n",
      "tech ---> python\n",
      "exp ---> 16\n",
      "ismanager ---> False\n"
     ]
    }
   ],
   "source": [
    "getinfo(name=\"Raghul Ramesh\",city=\"Chennai\",age=37,tech=\"python\",exp=16,ismanager=False)"
   ]
  },
  {
   "cell_type": "code",
   "execution_count": 31,
   "id": "13a428ae",
   "metadata": {},
   "outputs": [],
   "source": [
    "def fibonacci(x):\n",
    "    if x<=0:\n",
    "        print(\"Incorrect Value!\")\n",
    "    elif x == 1:\n",
    "        return 0\n",
    "    elif x == 2:\n",
    "        return 1\n",
    "    else:\n",
    "        return fibonacci(x-1)+fibonacci(x-2)\n",
    "    "
   ]
  },
  {
   "cell_type": "code",
   "execution_count": 32,
   "id": "a5d42c77",
   "metadata": {},
   "outputs": [
    {
     "data": {
      "text/plain": [
       "34"
      ]
     },
     "execution_count": 32,
     "metadata": {},
     "output_type": "execute_result"
    }
   ],
   "source": [
    "fibonacci(10)"
   ]
  },
  {
   "cell_type": "code",
   "execution_count": 34,
   "id": "df8d82bb",
   "metadata": {},
   "outputs": [],
   "source": [
    "def oddoreven(x):\n",
    "    if x%2==0:\n",
    "        print(\"{} is an even number\".format(x))\n",
    "    else:\n",
    "        print(\"{} is an odd numbr\".format(x))"
   ]
  },
  {
   "cell_type": "code",
   "execution_count": 36,
   "id": "f68f8377",
   "metadata": {},
   "outputs": [
    {
     "name": "stdout",
     "output_type": "stream",
     "text": [
      "4314 is an even number\n"
     ]
    }
   ],
   "source": [
    "oddoreven(4314)"
   ]
  },
  {
   "cell_type": "code",
   "execution_count": 37,
   "id": "23eb536e",
   "metadata": {},
   "outputs": [],
   "source": [
    "def squareit(nums):\n",
    "    res=[]\n",
    "    for x in nums:\n",
    "        res.append(x*x)\n",
    "    return res"
   ]
  },
  {
   "cell_type": "code",
   "execution_count": 38,
   "id": "63c87d97",
   "metadata": {},
   "outputs": [
    {
     "data": {
      "text/plain": [
       "[1, 4, 9, 16, 25, 36, 49, 64, 81, 100]"
      ]
     },
     "execution_count": 38,
     "metadata": {},
     "output_type": "execute_result"
    }
   ],
   "source": [
    "squareit([1,2,3,4,5,6,7,8,9,10])"
   ]
  },
  {
   "cell_type": "markdown",
   "id": "8752251d",
   "metadata": {},
   "source": [
    "# SPECIAL FUNCTIONS"
   ]
  },
  {
   "cell_type": "code",
   "execution_count": null,
   "id": "f1f534de",
   "metadata": {},
   "outputs": [],
   "source": [
    "#lambda , map, filter, reduce\n",
    "#lambda function is anonymous fucntion and it is one line funtion and we dont use def keyword to create a function and also we\n",
    "#dont name the fucntion, no return keyword used\n",
    "#syntax: lambda input:<expr cum return>"
   ]
  },
  {
   "cell_type": "code",
   "execution_count": 39,
   "id": "818dacf5",
   "metadata": {},
   "outputs": [
    {
     "data": {
      "text/plain": [
       "300"
      ]
     },
     "execution_count": 39,
     "metadata": {},
     "output_type": "execute_result"
    }
   ],
   "source": [
    "(lambda x,y:x+y)(100,200)"
   ]
  },
  {
   "cell_type": "code",
   "execution_count": 40,
   "id": "bbad274d",
   "metadata": {},
   "outputs": [],
   "source": [
    "s=lambda x,y:x+y"
   ]
  },
  {
   "cell_type": "code",
   "execution_count": 41,
   "id": "625f4314",
   "metadata": {},
   "outputs": [
    {
     "data": {
      "text/plain": [
       "60"
      ]
     },
     "execution_count": 41,
     "metadata": {},
     "output_type": "execute_result"
    }
   ],
   "source": [
    "s(10,50)"
   ]
  },
  {
   "cell_type": "code",
   "execution_count": 42,
   "id": "5513c75d",
   "metadata": {},
   "outputs": [
    {
     "data": {
      "text/plain": [
       "56"
      ]
     },
     "execution_count": 42,
     "metadata": {},
     "output_type": "execute_result"
    }
   ],
   "source": [
    "s(1,55)"
   ]
  },
  {
   "cell_type": "markdown",
   "id": "6e0e3265",
   "metadata": {},
   "source": [
    "# map"
   ]
  },
  {
   "cell_type": "code",
   "execution_count": 43,
   "id": "9516e019",
   "metadata": {},
   "outputs": [
    {
     "data": {
      "text/plain": [
       "[1, 4, 9, 16, 25, 36, 49, 64, 81, 100]"
      ]
     },
     "execution_count": 43,
     "metadata": {},
     "output_type": "execute_result"
    }
   ],
   "source": [
    "#map(function, values)\n",
    "nums=list(range(1,11))\n",
    "list(map(lambda x:x**2 ,nums ))"
   ]
  },
  {
   "cell_type": "code",
   "execution_count": 44,
   "id": "f8e8bd09",
   "metadata": {},
   "outputs": [],
   "source": [
    "def squrenums(x):\n",
    "    return x*x"
   ]
  },
  {
   "cell_type": "code",
   "execution_count": 45,
   "id": "95f2cba9",
   "metadata": {},
   "outputs": [
    {
     "data": {
      "text/plain": [
       "[1, 4, 9, 16, 25, 36, 49, 64, 81, 100]"
      ]
     },
     "execution_count": 45,
     "metadata": {},
     "output_type": "execute_result"
    }
   ],
   "source": [
    "list(map(squrenums ,nums ))"
   ]
  },
  {
   "cell_type": "markdown",
   "id": "915f5758",
   "metadata": {},
   "source": [
    "# filter"
   ]
  },
  {
   "cell_type": "code",
   "execution_count": 47,
   "id": "6a628bb2",
   "metadata": {},
   "outputs": [
    {
     "data": {
      "text/plain": [
       "[1, 3, 5, 7, 9]"
      ]
     },
     "execution_count": 47,
     "metadata": {},
     "output_type": "execute_result"
    }
   ],
   "source": [
    "list(filter(lambda x:x%2==1, nums))"
   ]
  },
  {
   "cell_type": "markdown",
   "id": "0953c4ea",
   "metadata": {},
   "source": [
    "# Reduce"
   ]
  },
  {
   "cell_type": "code",
   "execution_count": 48,
   "id": "aa361734",
   "metadata": {},
   "outputs": [],
   "source": [
    "import functools"
   ]
  },
  {
   "cell_type": "code",
   "execution_count": 49,
   "id": "db961a15",
   "metadata": {},
   "outputs": [
    {
     "data": {
      "text/plain": [
       "3628800"
      ]
     },
     "execution_count": 49,
     "metadata": {},
     "output_type": "execute_result"
    }
   ],
   "source": [
    "functools.reduce(lambda x,y:x*y , nums)"
   ]
  },
  {
   "cell_type": "markdown",
   "id": "7f93a603",
   "metadata": {},
   "source": [
    "# LIST COMPREHENSIONS"
   ]
  },
  {
   "cell_type": "code",
   "execution_count": 50,
   "id": "385e0b00",
   "metadata": {},
   "outputs": [
    {
     "data": {
      "text/plain": [
       "'\\n[expr for val in collections/sequence]\\n[expr for val in collections/sequence if cond]\\n[expr for val in collections/sequence if cond1 and cond2]\\n[expr for val1 in collections/sequence for val2 in collections2/sequence2]\\n'"
      ]
     },
     "execution_count": 50,
     "metadata": {},
     "output_type": "execute_result"
    }
   ],
   "source": [
    "'''\n",
    "[expr for val in collections/sequence]\n",
    "[expr for val in collections/sequence if cond]\n",
    "[expr for val in collections/sequence if cond1 and cond2]\n",
    "[expr for val1 in collections/sequence for val2 in collections2/sequence2]\n",
    "'''"
   ]
  },
  {
   "cell_type": "code",
   "execution_count": 52,
   "id": "03bf47c1",
   "metadata": {},
   "outputs": [
    {
     "data": {
      "text/plain": [
       "[3.14, 12.56, 28.26, 50.24, 78.5, 113.04, 153.86, 200.96, 254.34, 314.0]"
      ]
     },
     "execution_count": 52,
     "metadata": {},
     "output_type": "execute_result"
    }
   ],
   "source": [
    "[3.14*x**2 for x in range(1,11)]"
   ]
  },
  {
   "cell_type": "code",
   "execution_count": 54,
   "id": "79c6aae7",
   "metadata": {},
   "outputs": [
    {
     "data": {
      "text/plain": [
       "[4, 16, 36, 64, 100]"
      ]
     },
     "execution_count": 54,
     "metadata": {},
     "output_type": "execute_result"
    }
   ],
   "source": [
    "[x**2 for x in range(1,11) if x%2==0]"
   ]
  },
  {
   "cell_type": "code",
   "execution_count": 55,
   "id": "fe154164",
   "metadata": {},
   "outputs": [
    {
     "data": {
      "text/plain": [
       "[36, 64, 100]"
      ]
     },
     "execution_count": 55,
     "metadata": {},
     "output_type": "execute_result"
    }
   ],
   "source": [
    "[x**2 for x in range(1,11) if x%2==0 and x>5]"
   ]
  },
  {
   "cell_type": "code",
   "execution_count": 57,
   "id": "6c51b7e3",
   "metadata": {},
   "outputs": [
    {
     "data": {
      "text/plain": [
       "[7,\n",
       " 8,\n",
       " 9,\n",
       " 10,\n",
       " 11,\n",
       " 8,\n",
       " 9,\n",
       " 10,\n",
       " 11,\n",
       " 12,\n",
       " 9,\n",
       " 10,\n",
       " 11,\n",
       " 12,\n",
       " 13,\n",
       " 10,\n",
       " 11,\n",
       " 12,\n",
       " 13,\n",
       " 14,\n",
       " 11,\n",
       " 12,\n",
       " 13,\n",
       " 14,\n",
       " 15]"
      ]
     },
     "execution_count": 57,
     "metadata": {},
     "output_type": "execute_result"
    }
   ],
   "source": [
    "list1=[1,2,3,4,5]\n",
    "list2=[6,7,8,9,10]\n",
    "\n",
    "[ x+y for x in list1 for y in list2]"
   ]
  },
  {
   "cell_type": "code",
   "execution_count": 58,
   "id": "c36873a2",
   "metadata": {},
   "outputs": [
    {
     "data": {
      "text/plain": [
       "[7, 9, 11, 13, 15]"
      ]
     },
     "execution_count": 58,
     "metadata": {},
     "output_type": "execute_result"
    }
   ],
   "source": [
    "[x+y for x,y in zip(list1,list2) ]"
   ]
  },
  {
   "cell_type": "markdown",
   "id": "a8386d5f",
   "metadata": {},
   "source": [
    "# DICTIONARY COMPREHENSIONS"
   ]
  },
  {
   "cell_type": "code",
   "execution_count": 60,
   "id": "2f365b33",
   "metadata": {},
   "outputs": [],
   "source": [
    "sample_dict={'x':10,'city':'Chennai','day':'Wednesday','year':2022}"
   ]
  },
  {
   "cell_type": "code",
   "execution_count": 65,
   "id": "a13c4636",
   "metadata": {},
   "outputs": [
    {
     "data": {
      "text/plain": [
       "{'X': '10', 'CITY': 'CHENNAI', 'DAY': 'WEDNESDAY', 'YEAR': '2022'}"
      ]
     },
     "execution_count": 65,
     "metadata": {},
     "output_type": "execute_result"
    }
   ],
   "source": [
    "{ k.upper():str(v).upper() for k,v in sample_dict.items()}"
   ]
  },
  {
   "cell_type": "code",
   "execution_count": null,
   "id": "d5f3d7ae",
   "metadata": {},
   "outputs": [],
   "source": []
  }
 ],
 "metadata": {
  "kernelspec": {
   "display_name": "Python 3 (ipykernel)",
   "language": "python",
   "name": "python3"
  },
  "language_info": {
   "codemirror_mode": {
    "name": "ipython",
    "version": 3
   },
   "file_extension": ".py",
   "mimetype": "text/x-python",
   "name": "python",
   "nbconvert_exporter": "python",
   "pygments_lexer": "ipython3",
   "version": "3.10.4"
  }
 },
 "nbformat": 4,
 "nbformat_minor": 5
}
