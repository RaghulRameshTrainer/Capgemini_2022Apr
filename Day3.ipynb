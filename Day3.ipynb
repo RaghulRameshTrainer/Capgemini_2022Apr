{
 "cells": [
  {
   "cell_type": "code",
   "execution_count": 1,
   "id": "c88a4ec0",
   "metadata": {},
   "outputs": [],
   "source": [
    "import os"
   ]
  },
  {
   "cell_type": "code",
   "execution_count": 2,
   "id": "024a9ac3",
   "metadata": {},
   "outputs": [
    {
     "data": {
      "text/plain": [
       "'C:\\\\Users\\\\RaghulRamesh\\\\Documents\\\\Capgemini_2022Apr'"
      ]
     },
     "execution_count": 2,
     "metadata": {},
     "output_type": "execute_result"
    }
   ],
   "source": [
    "os.getcwd()"
   ]
  },
  {
   "cell_type": "code",
   "execution_count": 3,
   "id": "4e334331",
   "metadata": {},
   "outputs": [],
   "source": [
    "os.chdir(r'C:\\Users\\RaghulRamesh\\Downloads')"
   ]
  },
  {
   "cell_type": "code",
   "execution_count": 4,
   "id": "004e5171",
   "metadata": {},
   "outputs": [
    {
     "data": {
      "text/plain": [
       "'C:\\\\Users\\\\RaghulRamesh\\\\Downloads'"
      ]
     },
     "execution_count": 4,
     "metadata": {},
     "output_type": "execute_result"
    }
   ],
   "source": [
    "os.getcwd()"
   ]
  },
  {
   "cell_type": "code",
   "execution_count": 5,
   "id": "cbeb3e81",
   "metadata": {},
   "outputs": [],
   "source": [
    "os.mkdir('capgemini')"
   ]
  },
  {
   "cell_type": "code",
   "execution_count": 6,
   "id": "75829031",
   "metadata": {},
   "outputs": [
    {
     "ename": "FileNotFoundError",
     "evalue": "[WinError 3] The system cannot find the path specified: 'Tech/Data/Python/Training'",
     "output_type": "error",
     "traceback": [
      "\u001b[1;31m---------------------------------------------------------------------------\u001b[0m",
      "\u001b[1;31mFileNotFoundError\u001b[0m                         Traceback (most recent call last)",
      "Input \u001b[1;32mIn [6]\u001b[0m, in \u001b[0;36m<cell line: 1>\u001b[1;34m()\u001b[0m\n\u001b[1;32m----> 1\u001b[0m \u001b[43mos\u001b[49m\u001b[38;5;241;43m.\u001b[39;49m\u001b[43mmkdir\u001b[49m\u001b[43m(\u001b[49m\u001b[38;5;124;43mr\u001b[39;49m\u001b[38;5;124;43m'\u001b[39;49m\u001b[38;5;124;43mTech/Data/Python/Training\u001b[39;49m\u001b[38;5;124;43m'\u001b[39;49m\u001b[43m)\u001b[49m\n",
      "\u001b[1;31mFileNotFoundError\u001b[0m: [WinError 3] The system cannot find the path specified: 'Tech/Data/Python/Training'"
     ]
    }
   ],
   "source": [
    "os.mkdir(r'Tech/Data/Python/Training')"
   ]
  },
  {
   "cell_type": "code",
   "execution_count": 7,
   "id": "d30d989a",
   "metadata": {},
   "outputs": [],
   "source": [
    "os.makedirs(r'Tech/Data/Python/Training')"
   ]
  },
  {
   "cell_type": "code",
   "execution_count": 8,
   "id": "d213c68e",
   "metadata": {},
   "outputs": [],
   "source": [
    "os.rmdir('capgemini')"
   ]
  },
  {
   "cell_type": "code",
   "execution_count": 9,
   "id": "53772d8f",
   "metadata": {},
   "outputs": [],
   "source": [
    "os.rmdir(r'Tech/Data/Python/Training')"
   ]
  },
  {
   "cell_type": "code",
   "execution_count": 11,
   "id": "75ef3c33",
   "metadata": {},
   "outputs": [],
   "source": [
    "os.removedirs(r'Tech/Data/Python')"
   ]
  },
  {
   "cell_type": "code",
   "execution_count": 16,
   "id": "6c4a3f47",
   "metadata": {},
   "outputs": [],
   "source": [
    "os.rename('myfile.txt.txt','newfile.txt')"
   ]
  },
  {
   "cell_type": "code",
   "execution_count": 18,
   "id": "88f7aed2",
   "metadata": {},
   "outputs": [
    {
     "ename": "AttributeError",
     "evalue": "module 'os' has no attribute 'copy'",
     "output_type": "error",
     "traceback": [
      "\u001b[1;31m---------------------------------------------------------------------------\u001b[0m",
      "\u001b[1;31mAttributeError\u001b[0m                            Traceback (most recent call last)",
      "Input \u001b[1;32mIn [18]\u001b[0m, in \u001b[0;36m<cell line: 1>\u001b[1;34m()\u001b[0m\n\u001b[1;32m----> 1\u001b[0m \u001b[43mos\u001b[49m\u001b[38;5;241;43m.\u001b[39;49m\u001b[43mcopy\u001b[49m(\u001b[38;5;124m'\u001b[39m\u001b[38;5;124mbackup.txt\u001b[39m\u001b[38;5;124m'\u001b[39m,\u001b[38;5;124m'\u001b[39m\u001b[38;5;124mnewfile.txt\u001b[39m\u001b[38;5;124m'\u001b[39m)\n",
      "\u001b[1;31mAttributeError\u001b[0m: module 'os' has no attribute 'copy'"
     ]
    }
   ],
   "source": [
    "os.copy('backup.txt','newfile.txt')"
   ]
  },
  {
   "cell_type": "code",
   "execution_count": 19,
   "id": "ecb4c5de",
   "metadata": {},
   "outputs": [],
   "source": [
    "import shutil"
   ]
  },
  {
   "cell_type": "code",
   "execution_count": 20,
   "id": "cb35bddf",
   "metadata": {},
   "outputs": [
    {
     "data": {
      "text/plain": [
       "'newfile.txt'"
      ]
     },
     "execution_count": 20,
     "metadata": {},
     "output_type": "execute_result"
    }
   ],
   "source": [
    "shutil.copy('backup.txt','newfile.txt')"
   ]
  },
  {
   "cell_type": "code",
   "execution_count": 21,
   "id": "cd64e7ae",
   "metadata": {},
   "outputs": [],
   "source": [
    "os.remove('backup.txt')"
   ]
  },
  {
   "cell_type": "code",
   "execution_count": 23,
   "id": "c635f9a7",
   "metadata": {},
   "outputs": [
    {
     "data": {
      "text/plain": [
       "True"
      ]
     },
     "execution_count": 23,
     "metadata": {},
     "output_type": "execute_result"
    }
   ],
   "source": [
    "os.path.exists('newfile.txt')"
   ]
  },
  {
   "cell_type": "code",
   "execution_count": 24,
   "id": "ef714e68",
   "metadata": {},
   "outputs": [
    {
     "data": {
      "text/plain": [
       "6"
      ]
     },
     "execution_count": 24,
     "metadata": {},
     "output_type": "execute_result"
    }
   ],
   "source": [
    "os.path.getsize('newfile.txt')"
   ]
  },
  {
   "cell_type": "code",
   "execution_count": 25,
   "id": "5ca1764a",
   "metadata": {},
   "outputs": [],
   "source": [
    "os.chmod('newfile.txt',751)   #4-read 2-write 1-execute owner,group,others  751"
   ]
  },
  {
   "cell_type": "markdown",
   "id": "29eaacee",
   "metadata": {},
   "source": [
    "# Function Vs Generator"
   ]
  },
  {
   "cell_type": "code",
   "execution_count": 26,
   "id": "fde1eeef",
   "metadata": {},
   "outputs": [
    {
     "ename": "ModuleNotFoundError",
     "evalue": "No module named 'memory_profiler'",
     "output_type": "error",
     "traceback": [
      "\u001b[1;31m---------------------------------------------------------------------------\u001b[0m",
      "\u001b[1;31mModuleNotFoundError\u001b[0m                       Traceback (most recent call last)",
      "Input \u001b[1;32mIn [26]\u001b[0m, in \u001b[0;36m<cell line: 1>\u001b[1;34m()\u001b[0m\n\u001b[1;32m----> 1\u001b[0m \u001b[38;5;28;01mimport\u001b[39;00m \u001b[38;5;21;01mmemory_profiler\u001b[39;00m \u001b[38;5;28;01mas\u001b[39;00m \u001b[38;5;21;01mmem_profile\u001b[39;00m\n\u001b[0;32m      2\u001b[0m \u001b[38;5;28;01mimport\u001b[39;00m \u001b[38;5;21;01mrandom\u001b[39;00m\n\u001b[0;32m      3\u001b[0m \u001b[38;5;28;01mfrom\u001b[39;00m \u001b[38;5;21;01mtime\u001b[39;00m \u001b[38;5;28;01mimport\u001b[39;00m process_time\n",
      "\u001b[1;31mModuleNotFoundError\u001b[0m: No module named 'memory_profiler'"
     ]
    }
   ],
   "source": [
    "import memory_profiler as mem_profile\n",
    "import random\n",
    "from time import process_time\n",
    "\n",
    "names=['Raghul','Ramesh','Karthick','Surya','Prabha','Ramu','Durga','Devi']\n",
    "majors=['Maths','Engineering','Science','Arts','CompSci','Businss']\n",
    "\n",
    "print(\"Memory {BEFORE}:\"+str(mem_profile.memory_usage()) + 'MB')\n",
    "def people_list(num_people):\n",
    "    result=[]\n",
    "    for i in range(num_people):\n",
    "        student={\n",
    "            'id':i,\n",
    "            'name':random.choice(names),\n",
    "            'major':rondom.choice(majors)\n",
    "        }\n",
    "        result.append(student)\n",
    "    return result\n",
    "\n",
    "def people_generator(num_people):\n",
    "    for i in range(num_people):\n",
    "        student={\n",
    "            'id':i,\n",
    "            'name':random.choice(names),\n",
    "            'major':rondom.choice(majors)\n",
    "        }\n",
    "        yield student\n",
    "        \n",
    "start=process_time()\n",
    "course_details=people_list(1000000)\n",
    "end=process_time()\n",
    "print(\"Memory {AFTER}:\"+str(mem_profile.memory_usage()) + 'MB')\n",
    "print(\"Time : {} Seconds\".format(end-start))\n"
   ]
  },
  {
   "cell_type": "code",
   "execution_count": null,
   "id": "8accea8c",
   "metadata": {},
   "outputs": [],
   "source": []
  }
 ],
 "metadata": {
  "kernelspec": {
   "display_name": "Python 3 (ipykernel)",
   "language": "python",
   "name": "python3"
  },
  "language_info": {
   "codemirror_mode": {
    "name": "ipython",
    "version": 3
   },
   "file_extension": ".py",
   "mimetype": "text/x-python",
   "name": "python",
   "nbconvert_exporter": "python",
   "pygments_lexer": "ipython3",
   "version": "3.10.4"
  }
 },
 "nbformat": 4,
 "nbformat_minor": 5
}
